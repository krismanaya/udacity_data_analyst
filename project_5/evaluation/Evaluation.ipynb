{
 "cells": [
  {
   "cell_type": "markdown",
   "metadata": {},
   "source": [
    "\n",
    "# Exaluation \n",
    "\n",
    "## Accuracy Review \n",
    "<img src= \"e_images/example_1.png\" alt=\"evaluation\" style= \"width: 500px;\" /> \n",
    "\n",
    "although accuracy is a fine metric it has some shortcomings: \n",
    "\n",
    "* Not ideal for skewed classes \n",
    "* May want to err on side of guessing innocent \n",
    "* May want to err on side of guessing guilty\n",
    "\n",
    "## Confusion Matrices \n",
    "\n",
    "Imagine if we have two classes $(O,X)$ seperated by a natrual curve in space $L$. \n",
    "A confusion matrix, in this case is $2 \\times 2$. Notating Postive and Negative along it's $(i,j)$ cell. \n",
    "\n",
    "<img src= \"e_images/example_2.png\" alt=\"confusion\" style=\"width: 500px;\" />\n",
    "\n",
    "to choose the probability of predictions of the confusion matrix when dealing with the eigenfaces we must take the probablity of predicted over the true value or: \n",
    "\n",
    "* Recall $$a_{t,p} \\div \\sum_{j=1}^{n}a_{t,j}$$\n",
    "* Precision $$ a_{t,p} \\div \\sum_{i=1}^{n}a_{i,p} $$ \n",
    "where $t,p$ are fixed positionts based on column and row of the predictive and true decisions. Below is an example: \n",
    "<img src= \"e_images/example_3.png\" alt=\"confusion\" style=\"width: 500px;\" />\n",
    "\n",
    "these are known as **Recall & Precision** \n",
    "\n",
    "* Recall $P(\"Hugo Cahves\") = 10 / 16 $ \n",
    "* Precision $P(\"Hugo Chaves) = 10/10$ \n",
    "* True Positives = 26  $a_{t,p}$ index\n",
    "* False Positives = 8 $\\sum_{i=1}^{n-1} a_{i,p}$\n",
    "* False Negatives = 8 $\\sum_{j=1}^{n-1} a_{t,j}$\n",
    "\n",
    "By definition a confusion matrix $C$ is such that $C_{i,j}$ is equaly to the number of observations known to be in group ${i}$ but predicted to be in group ${j}$. Therefore in binary classification, the count of true negatives $C_{0,0}$, false negatives is $C_{1,0}$, true positives is $C_{1,1}$ and false positives is $C_{0,1}$. Below is an example of code\n",
    "``` python \n",
    "\n",
    "from sklearn.metrics import confusion_matrix\n",
    "y_true = [2, 0, 2, 2, 0, 1]\n",
    "y_pred = [0, 0, 2, 2, 0, 2]\n",
    "confusion_matrix(y_true, y_pred)\n",
    "array([[2, 0, 0],\n",
    "       [0, 0, 1],\n",
    "       [1, 0, 2]])\n",
    "```\n",
    "\n",
    "\n",
    "## F1 Score \n",
    "\n",
    "in statistical analysis of binary classification, the F_1 score is a measure of a tests accuracy. It considers both the precision $p$ and the recall $r$ of the test to computer the sore: $p$ is the number of correct positive results divided by the number of all positive results, and $r$ is the number of correct positive results divided bhy the number of positives results that have been returned. The F_1 score can be interpreted as a weight average of the precision and recall, where an F_1 score reaches its best value at 1 and worst at 0. \n",
    "\n",
    "\n",
    "# FINAL STEPS! \n",
    "\n",
    "* Dataset/Question - in ML can you find a dataset and question that could answer this? \n",
    "* Feature Selection - create features for your ML to apply\n",
    "* Algorithm - after you have the features what algorithm should you use? Parameter tunes you want\n",
    "* Validation - are these trust worthy? What kidn of metrics are good? \n",
    "\n",
    "\n",
    "<img src= \"e_images/example_4.png\" alt=\"final_steps\" style=\"width: 500px;\" />\n",
    "\n"
   ]
  },
  {
   "cell_type": "code",
   "execution_count": null,
   "metadata": {
    "collapsed": true
   },
   "outputs": [],
   "source": []
  }
 ],
 "metadata": {
  "kernelspec": {
   "display_name": "Python 2",
   "language": "python",
   "name": "python2"
  },
  "language_info": {
   "codemirror_mode": {
    "name": "ipython",
    "version": 2
   },
   "file_extension": ".py",
   "mimetype": "text/x-python",
   "name": "python",
   "nbconvert_exporter": "python",
   "pygments_lexer": "ipython2",
   "version": "2.7.11"
  }
 },
 "nbformat": 4,
 "nbformat_minor": 2
}
