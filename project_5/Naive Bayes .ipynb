{
 "cells": [
  {
   "cell_type": "code",
   "execution_count": 9,
   "metadata": {
    "collapsed": false
   },
   "outputs": [
    {
     "name": "stdout",
     "output_type": "stream",
     "text": [
      "[1]\n"
     ]
    }
   ],
   "source": [
    "#### Eample 1 #### \n",
    "\n",
    "import numpy as np #import numpy\n",
    "from sklearn.naive_bayes import GaussianNB # from sklearn create Gaussian NB\n",
    "from sklearn.metrics import accuracy_score\n",
    "\n",
    "X = np.array([[-1, -1], [-2, -1], [-3, -2], [1, 1], [2, 1], [3, 2]]) # 6 x 2 matrix\n",
    "Y = Y = np.array([1, 1, 1, 2, 2, 2]) # make vector\n",
    "\n",
    "clf = GaussianNB() #make a classifier\n",
    "clf.fit(X,Y) # fit by matrix and vector \n",
    "GaussianNB() # call \n",
    "\n",
    "print(clf.predict([[-0.8,-1]])) #analyze what this point in space it belongs\n",
    "\n"
   ]
  },
  {
   "cell_type": "code",
   "execution_count": 11,
   "metadata": {
    "collapsed": false
   },
   "outputs": [
    {
     "data": {
      "text/plain": [
       "0.5"
      ]
     },
     "execution_count": 11,
     "metadata": {},
     "output_type": "execute_result"
    }
   ],
   "source": [
    "### Example 2 ####\n",
    "# predict accuracy \n",
    "y_pred = [0,2,1,3] # prediction \n",
    "y_test = [0,1,2,3] # test_prediction \n",
    "\n",
    "accuracy_score(y_test, y_pred) # score of element by element comparison\n",
    "\n",
    "### now print the accuracy \n",
    "### accuracy = no. of points classified correctly / all points (in test set)\n",
    "### method # 2: accuracy scklearn accuracy"
   ]
  },
  {
   "cell_type": "markdown",
   "metadata": {},
   "source": [
    "# Bayes Rule\n",
    "\n",
    "P(C) = 0.01\n",
    "Test: 90% it is positive if you have C. (Sensitivity)\n",
    "      90% it is negative if you don't have C. (Specitivity)\n",
    "Question; \n",
    "Test = positive \n",
    "What is the probability you have the cancer? \n",
    "\n",
    "Essence of Bayes rule: \n",
    "\n",
    "Prior probability * Test Evidence -> posterior probabilty \n",
    "\n",
    "prior: \n",
    "$$P(C) = 0.01 = 1%$$  \n",
    "$$P(~C) = 0.99 = 99%$$\n",
    "$$P(Pos.|C) = 0.9 = 90%$$\n",
    "$$P(Neg.|~C) = 0.9 = 90% --> P(Pos.|~C) = 0.1 = 10%$$  \n",
    "\n",
    "joint probablity posterior: \n",
    "$$P(C|Pos.) = P(C)*P(Pos.|C)$$\n",
    "$$P(~C|Pos.) = P(~C)*P(Pos.|~C)$$\n",
    "\n",
    "normalize: \n",
    "$$P(Pos.) = \\sum{P(C, Pos.)P(~C, Pos.)} = \\sum{P(C)*P(Pos.|C)P(~C)*P(Pos.|~C)} $$\n",
    "\n",
    "posterior: \n",
    "$$P_1  = P(C|Pos.) / P(Pos.)$$\n",
    "$$P_2  =P(~C|Pos.) / P(Pos.)$$\n",
    "\n",
    "--> P_1 + P_2 = 1 \n"
   ]
  },
  {
   "cell_type": "markdown",
   "metadata": {},
   "source": [
    "# Text Learning - Naive Bayes\n",
    "\n",
    "### Example \n",
    "Chris - (Love = .1, Deal = .8, Life = .1) \n",
    "Sara - (Loved = .5, Deal = .2, LIfe = .3) \n",
    "\n",
    "Notice how they all sum to 1 \n",
    "P(Chris) = 0.5\n",
    "P(Sara) = 0.5\n",
    "\n",
    "Who texts \"love life\" more? Answer: Sara  P(Sara)*P(love)*P(life) \n",
    "Who texts \"life deal\" more? Answer: Chris P(Chris)*P(life)*P(deal) = 0.04\n",
    "\n",
    "What is the posterior: \n",
    "P(Chris | \"Life Deal\") \n",
    "P(Sara | \"Life Deal\") \n",
    "\n",
    "$$ P_C = P(Chris|\"Life Deal\") = P(Chris) * P(Life) * P(Deal) = 0.04 $$\n",
    "$$ P_ S = P(Sara|\"Life Deal\") = P(Sara) * P(Life) * P(Deal) = 0.03 $$\n",
    "\n",
    "$$ P_C = P(Chris|\"Love Deal\") = P(Chris) * P(Love) * P(Deal) = 0.04 $$\n",
    "$$ P_ S = P(Sara|\"Love Deal\") = P(Sara) * P(Love) * P(Deal) = 0.05 $$\n",
    "\n",
    "$$Normalize:\n",
    "   P_n = \\sum{P_CP_S} = 0.04 + 0.03 \\\\\n",
    "   P_n = \\sum{P_CP_S} = 0.04 + 0.2 $$\n",
    "\n",
    "$$ posterior: \n",
    "P_1 = P_C / P_n  \n",
    "\\\\ \n",
    "P_2 = P_S / P_n \n",
    "\\\\ \n",
    "or \\\\ \n",
    "P_2 = (1 - P_1) $$"
   ]
  },
  {
   "cell_type": "code",
   "execution_count": 22,
   "metadata": {
    "collapsed": false
   },
   "outputs": [
    {
     "data": {
      "text/plain": [
       "0.09"
      ]
     },
     "execution_count": 22,
     "metadata": {},
     "output_type": "execute_result"
    }
   ],
   "source": [
    ".04 + .05"
   ]
  },
  {
   "cell_type": "code",
   "execution_count": 25,
   "metadata": {
    "collapsed": false
   },
   "outputs": [
    {
     "data": {
      "text/plain": [
       "0.5555555555555556"
      ]
     },
     "execution_count": 25,
     "metadata": {},
     "output_type": "execute_result"
    }
   ],
   "source": [
    "1- (.04 / .09)"
   ]
  },
  {
   "cell_type": "code",
   "execution_count": null,
   "metadata": {
    "collapsed": true
   },
   "outputs": [],
   "source": []
  }
 ],
 "metadata": {
  "kernelspec": {
   "display_name": "Python 2",
   "language": "python",
   "name": "python2"
  },
  "language_info": {
   "codemirror_mode": {
    "name": "ipython",
    "version": 2
   },
   "file_extension": ".py",
   "mimetype": "text/x-python",
   "name": "python",
   "nbconvert_exporter": "python",
   "pygments_lexer": "ipython2",
   "version": "2.7.11"
  }
 },
 "nbformat": 4,
 "nbformat_minor": 0
}
