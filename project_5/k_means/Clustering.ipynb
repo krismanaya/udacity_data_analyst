{
 "cells": [
  {
   "cell_type": "markdown",
   "metadata": {},
   "source": [
    "# clustering \n",
    "\n",
    "### Example: \n",
    "<img src=\"k_images/example_1.png\" alt= \"clustering\" style =\"width: 500px;\"/>\n",
    "\n",
    "# k means\n",
    "\n",
    "* Assign: \n",
    "<img src=\"k_images/example_2.png\" alt= \"clustering\" style =\"width: 500px;\"/>\n",
    "\n",
    "* Optimize: we allow the gree cluster center to a point were the total lines connected to the center is minimize. \n",
    "\n",
    "* k means: $$ \\sum_{i = 0}^{n} min_{\\mu_{j} \\in C}(\\|{x_{j} - \\mu_{i}}\\|^{2})  $$\n",
    "### Example: \n",
    "\n",
    "this example was taken from: https://www.naftaliharris.com/blog/visualizing-k-means-clustering/\n",
    "<img src=\"k_images/example_3.png\" alt= \"clustering\" style =\"width: 500px;\"/>\n",
    "\n",
    "\n",
    "## K-means continued \n",
    "\n",
    "* suppose you use fix number of cluster centers (centroids). \n",
    "* will the output for any fixed Training set always be the same? \n",
    "\n",
    "\n",
    "### Local Min: \n",
    "<img src=\"k_images/example_4.png\" alt= \"clustering\" style = \"width: 500px;\"/>"
   ]
  },
  {
   "cell_type": "code",
   "execution_count": null,
   "metadata": {
    "collapsed": true
   },
   "outputs": [],
   "source": []
  }
 ],
 "metadata": {
  "kernelspec": {
   "display_name": "Python 2",
   "language": "python",
   "name": "python2"
  },
  "language_info": {
   "codemirror_mode": {
    "name": "ipython",
    "version": 2
   },
   "file_extension": ".py",
   "mimetype": "text/x-python",
   "name": "python",
   "nbconvert_exporter": "python",
   "pygments_lexer": "ipython2",
   "version": "2.7.11"
  }
 },
 "nbformat": 4,
 "nbformat_minor": 2
}
