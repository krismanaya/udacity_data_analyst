{
 "cells": [
  {
   "cell_type": "markdown",
   "metadata": {},
   "source": [
    "# Identify Fraude from Enron Email \n",
    "\n",
    "## Project 5\n",
    "\n",
    "## Kris Anaya \n"
   ]
  },
  {
   "cell_type": "markdown",
   "metadata": {},
   "source": [
    "### Overview \n",
    "\n",
    "In 2000, Enron was one of the largest companies in the United States. By 2002, it had collapsed into bankruptcy due to widespread corporate fraud. In the resulting Federal investigation, a significant amount of typically confidential information entered into the public record, including tens of thousands of emails and detailed financial data for top executives. In this project, you will play detective, and put your new skills to use by building a person of interest identifier based on financial and email data made public as a result of the Enron scandal. To assist you in your detective work, we've combined this data with a hand-generated list of persons of interest in the fraud case, which means individuals who were indicted, reached a settlement or plea deal with the government, or testified in exchange for prosecution immunity. this notebook contains the necessary EDA for the report. \n",
    "\n"
   ]
  },
  {
   "cell_type": "code",
   "execution_count": 283,
   "metadata": {},
   "outputs": [
    {
     "name": "stdout",
     "output_type": "stream",
     "text": [
      "Populating the interactive namespace from numpy and matplotlib\n"
     ]
    }
   ],
   "source": [
    "#!/usr/bin/python\n",
    "\n",
    "import sys \n",
    "import pickle \n",
    "import pandas as pd\n",
    "import numpy as np \n",
    "import pprint\n",
    "\n",
    "\n",
    "%pylab inline \n",
    "import matplotlib.pyplot as plot \n",
    "import seaborn as sns \n",
    "\n",
    "\n",
    "sys.path.append(\"../tools/\")\n",
    "\n",
    "from feature_format import featureFormat, targetFeatureSplit\n",
    "from tester import dump_classifier_and_data"
   ]
  },
  {
   "cell_type": "code",
   "execution_count": 284,
   "metadata": {
    "collapsed": true
   },
   "outputs": [],
   "source": [
    "### Task 1: Select what features you'll use.\n",
    "### features_list is a list of strings, each of which is a feature name.\n",
    "### The first feature must be \"poi\".\n",
    "\n",
    "features_list = ['poi','salary','bonus'] # You will need to use more features\n",
    "\n",
    "### Load the dictionary containing the dataset\n",
    "with open(\"final_project_dataset.pkl\", \"r\") as data_file: \n",
    "    data_dict = pickle.load(data_file)\n",
    "\n"
   ]
  },
  {
   "cell_type": "markdown",
   "metadata": {},
   "source": [
    "Let's take a look at the structure of the data file: "
   ]
  },
  {
   "cell_type": "code",
   "execution_count": 285,
   "metadata": {},
   "outputs": [
    {
     "name": "stdout",
     "output_type": "stream",
     "text": [
      "The size of the data dictionary is: 146\n",
      "\n",
      "\n",
      "sample of  features for POI possibility:{'bonus': 7000000,\n",
      " 'deferral_payments': 202911,\n",
      " 'deferred_income': -300000,\n",
      " 'director_fees': 'NaN',\n",
      " 'email_address': 'kenneth.lay@enron.com',\n",
      " 'exercised_stock_options': 34348384,\n",
      " 'expenses': 99832,\n",
      " 'from_messages': 36,\n",
      " 'from_poi_to_this_person': 123,\n",
      " 'from_this_person_to_poi': 16,\n",
      " 'loan_advances': 81525000,\n",
      " 'long_term_incentive': 3600000,\n",
      " 'other': 10359729,\n",
      " 'poi': True,\n",
      " 'restricted_stock': 14761694,\n",
      " 'restricted_stock_deferred': 'NaN',\n",
      " 'salary': 1072321,\n",
      " 'shared_receipt_with_poi': 2411,\n",
      " 'to_messages': 4273,\n",
      " 'total_payments': 103559793,\n",
      " 'total_stock_value': 49110078}\n",
      " None\n",
      "\n",
      "\n",
      "lenght of the features within the data set (including POI): 21\n"
     ]
    }
   ],
   "source": [
    "### investiagting the dataset\n",
    "\n",
    "print \"The size of the data dictionary is:\", len(data_dict)\n",
    "print \"\\n\"\n",
    "print \"sample of  features for POI possibility:\", pprint.pprint(data_dict[\"LAY KENNETH L\"])\n",
    "print \"\\n\"\n",
    "print \"lenght of the features within the data set (including POI):\", len(data_dict[\"LAY KENNETH L\"])\n",
    "\n",
    "\n"
   ]
  },
  {
   "cell_type": "markdown",
   "metadata": {},
   "source": [
    "Essentially, we are looking at 146 unique individuals (possibly less once we remove some outliers). There are twenty-one features currently within the dataset POI is a boolean feature returning \"True\" if it is an interest or \"False\" if not. "
   ]
  },
  {
   "cell_type": "code",
   "execution_count": 286,
   "metadata": {},
   "outputs": [
    {
     "data": {
      "text/html": [
       "<div>\n",
       "<table border=\"1\" class=\"dataframe\">\n",
       "  <thead>\n",
       "    <tr style=\"text-align: right;\">\n",
       "      <th></th>\n",
       "      <th>bonus</th>\n",
       "      <th>deferral_payments</th>\n",
       "      <th>deferred_income</th>\n",
       "      <th>director_fees</th>\n",
       "      <th>email_address</th>\n",
       "      <th>exercised_stock_options</th>\n",
       "      <th>expenses</th>\n",
       "      <th>from_messages</th>\n",
       "      <th>from_poi_to_this_person</th>\n",
       "      <th>from_this_person_to_poi</th>\n",
       "      <th>...</th>\n",
       "      <th>long_term_incentive</th>\n",
       "      <th>other</th>\n",
       "      <th>poi</th>\n",
       "      <th>restricted_stock</th>\n",
       "      <th>restricted_stock_deferred</th>\n",
       "      <th>salary</th>\n",
       "      <th>shared_receipt_with_poi</th>\n",
       "      <th>to_messages</th>\n",
       "      <th>total_payments</th>\n",
       "      <th>total_stock_value</th>\n",
       "    </tr>\n",
       "  </thead>\n",
       "  <tbody>\n",
       "    <tr>\n",
       "      <th>METTS MARK</th>\n",
       "      <td>600000</td>\n",
       "      <td>NaN</td>\n",
       "      <td>NaN</td>\n",
       "      <td>NaN</td>\n",
       "      <td>mark.metts@enron.com</td>\n",
       "      <td>NaN</td>\n",
       "      <td>94299</td>\n",
       "      <td>29</td>\n",
       "      <td>38</td>\n",
       "      <td>1</td>\n",
       "      <td>...</td>\n",
       "      <td>NaN</td>\n",
       "      <td>1740</td>\n",
       "      <td>False</td>\n",
       "      <td>585062</td>\n",
       "      <td>NaN</td>\n",
       "      <td>365788</td>\n",
       "      <td>702</td>\n",
       "      <td>807</td>\n",
       "      <td>1061827</td>\n",
       "      <td>585062</td>\n",
       "    </tr>\n",
       "    <tr>\n",
       "      <th>BAXTER JOHN C</th>\n",
       "      <td>1200000</td>\n",
       "      <td>1295738</td>\n",
       "      <td>-1386055</td>\n",
       "      <td>NaN</td>\n",
       "      <td>NaN</td>\n",
       "      <td>6680544</td>\n",
       "      <td>11200</td>\n",
       "      <td>NaN</td>\n",
       "      <td>NaN</td>\n",
       "      <td>NaN</td>\n",
       "      <td>...</td>\n",
       "      <td>1586055</td>\n",
       "      <td>2660303</td>\n",
       "      <td>False</td>\n",
       "      <td>3942714</td>\n",
       "      <td>NaN</td>\n",
       "      <td>267102</td>\n",
       "      <td>NaN</td>\n",
       "      <td>NaN</td>\n",
       "      <td>5634343</td>\n",
       "      <td>10623258</td>\n",
       "    </tr>\n",
       "    <tr>\n",
       "      <th>ELLIOTT STEVEN</th>\n",
       "      <td>350000</td>\n",
       "      <td>NaN</td>\n",
       "      <td>-400729</td>\n",
       "      <td>NaN</td>\n",
       "      <td>steven.elliott@enron.com</td>\n",
       "      <td>4890344</td>\n",
       "      <td>78552</td>\n",
       "      <td>NaN</td>\n",
       "      <td>NaN</td>\n",
       "      <td>NaN</td>\n",
       "      <td>...</td>\n",
       "      <td>NaN</td>\n",
       "      <td>12961</td>\n",
       "      <td>False</td>\n",
       "      <td>1788391</td>\n",
       "      <td>NaN</td>\n",
       "      <td>170941</td>\n",
       "      <td>NaN</td>\n",
       "      <td>NaN</td>\n",
       "      <td>211725</td>\n",
       "      <td>6678735</td>\n",
       "    </tr>\n",
       "    <tr>\n",
       "      <th>CORDES WILLIAM R</th>\n",
       "      <td>NaN</td>\n",
       "      <td>NaN</td>\n",
       "      <td>NaN</td>\n",
       "      <td>NaN</td>\n",
       "      <td>bill.cordes@enron.com</td>\n",
       "      <td>651850</td>\n",
       "      <td>NaN</td>\n",
       "      <td>12</td>\n",
       "      <td>10</td>\n",
       "      <td>0</td>\n",
       "      <td>...</td>\n",
       "      <td>NaN</td>\n",
       "      <td>NaN</td>\n",
       "      <td>False</td>\n",
       "      <td>386335</td>\n",
       "      <td>NaN</td>\n",
       "      <td>NaN</td>\n",
       "      <td>58</td>\n",
       "      <td>764</td>\n",
       "      <td>NaN</td>\n",
       "      <td>1038185</td>\n",
       "    </tr>\n",
       "    <tr>\n",
       "      <th>HANNON KEVIN P</th>\n",
       "      <td>1500000</td>\n",
       "      <td>NaN</td>\n",
       "      <td>-3117011</td>\n",
       "      <td>NaN</td>\n",
       "      <td>kevin.hannon@enron.com</td>\n",
       "      <td>5538001</td>\n",
       "      <td>34039</td>\n",
       "      <td>32</td>\n",
       "      <td>32</td>\n",
       "      <td>21</td>\n",
       "      <td>...</td>\n",
       "      <td>1617011</td>\n",
       "      <td>11350</td>\n",
       "      <td>True</td>\n",
       "      <td>853064</td>\n",
       "      <td>NaN</td>\n",
       "      <td>243293</td>\n",
       "      <td>1035</td>\n",
       "      <td>1045</td>\n",
       "      <td>288682</td>\n",
       "      <td>6391065</td>\n",
       "    </tr>\n",
       "  </tbody>\n",
       "</table>\n",
       "<p>5 rows × 21 columns</p>\n",
       "</div>"
      ],
      "text/plain": [
       "                    bonus deferral_payments deferred_income director_fees  \\\n",
       "METTS MARK         600000               NaN             NaN           NaN   \n",
       "BAXTER JOHN C     1200000           1295738        -1386055           NaN   \n",
       "ELLIOTT STEVEN     350000               NaN         -400729           NaN   \n",
       "CORDES WILLIAM R      NaN               NaN             NaN           NaN   \n",
       "HANNON KEVIN P    1500000               NaN        -3117011           NaN   \n",
       "\n",
       "                             email_address exercised_stock_options expenses  \\\n",
       "METTS MARK            mark.metts@enron.com                     NaN    94299   \n",
       "BAXTER JOHN C                          NaN                 6680544    11200   \n",
       "ELLIOTT STEVEN    steven.elliott@enron.com                 4890344    78552   \n",
       "CORDES WILLIAM R     bill.cordes@enron.com                  651850      NaN   \n",
       "HANNON KEVIN P      kevin.hannon@enron.com                 5538001    34039   \n",
       "\n",
       "                 from_messages from_poi_to_this_person  \\\n",
       "METTS MARK                  29                      38   \n",
       "BAXTER JOHN C              NaN                     NaN   \n",
       "ELLIOTT STEVEN             NaN                     NaN   \n",
       "CORDES WILLIAM R            12                      10   \n",
       "HANNON KEVIN P              32                      32   \n",
       "\n",
       "                 from_this_person_to_poi        ...         \\\n",
       "METTS MARK                             1        ...          \n",
       "BAXTER JOHN C                        NaN        ...          \n",
       "ELLIOTT STEVEN                       NaN        ...          \n",
       "CORDES WILLIAM R                       0        ...          \n",
       "HANNON KEVIN P                        21        ...          \n",
       "\n",
       "                 long_term_incentive    other    poi restricted_stock  \\\n",
       "METTS MARK                       NaN     1740  False           585062   \n",
       "BAXTER JOHN C                1586055  2660303  False          3942714   \n",
       "ELLIOTT STEVEN                   NaN    12961  False          1788391   \n",
       "CORDES WILLIAM R                 NaN      NaN  False           386335   \n",
       "HANNON KEVIN P               1617011    11350   True           853064   \n",
       "\n",
       "                 restricted_stock_deferred  salary shared_receipt_with_poi  \\\n",
       "METTS MARK                             NaN  365788                     702   \n",
       "BAXTER JOHN C                          NaN  267102                     NaN   \n",
       "ELLIOTT STEVEN                         NaN  170941                     NaN   \n",
       "CORDES WILLIAM R                       NaN     NaN                      58   \n",
       "HANNON KEVIN P                         NaN  243293                    1035   \n",
       "\n",
       "                 to_messages total_payments total_stock_value  \n",
       "METTS MARK               807        1061827            585062  \n",
       "BAXTER JOHN C            NaN        5634343          10623258  \n",
       "ELLIOTT STEVEN           NaN         211725           6678735  \n",
       "CORDES WILLIAM R         764            NaN           1038185  \n",
       "HANNON KEVIN P          1045         288682           6391065  \n",
       "\n",
       "[5 rows x 21 columns]"
      ]
     },
     "execution_count": 286,
     "metadata": {},
     "output_type": "execute_result"
    }
   ],
   "source": [
    "### dump data_dict into pandas df for EDA. \n",
    "\n",
    "### create df from list of values, create a series of employees and index\n",
    "df = pd.DataFrame.from_records(list(data_dict.values()))\n",
    "employees = pd.Series(list(data_dict.keys()))\n",
    "df.set_index(employees, inplace = True)\n",
    "\n",
    "### show head of df\n",
    "df.head()"
   ]
  },
  {
   "cell_type": "markdown",
   "metadata": {},
   "source": [
    "When I look at the data frame above the first thing that pop out to me is the ```NaN``` values. This could present a possible challenge for the Machine Learning section. Let's see how many ```NaN``` are showing up. "
   ]
  },
  {
   "cell_type": "code",
   "execution_count": 287,
   "metadata": {},
   "outputs": [
    {
     "data": {
      "text/plain": [
       "NaN         107\n",
       "564348        1\n",
       "2144013       1\n",
       "7961          1\n",
       "2157527       1\n",
       "684694        1\n",
       "2869717       1\n",
       "77716         1\n",
       "16586         1\n",
       "93585         1\n",
       "6426990       1\n",
       "214678        1\n",
       "3131860       1\n",
       "10259         1\n",
       "73122         1\n",
       "27610         1\n",
       "32083396      1\n",
       "831299        1\n",
       "774401        1\n",
       "2964506       1\n",
       "202911        1\n",
       "181755        1\n",
       "204075        1\n",
       "1295738       1\n",
       "53625         1\n",
       "85430         1\n",
       "1130036       1\n",
       "649584        1\n",
       "-102500       1\n",
       "187469        1\n",
       "50591         1\n",
       "842924        1\n",
       "181993        1\n",
       "875307        1\n",
       "260455        1\n",
       "51365         1\n",
       "178980        1\n",
       "1848227       1\n",
       "504610        1\n",
       "227449        1\n",
       "Name: deferral_payments, dtype: int64"
      ]
     },
     "execution_count": 287,
     "metadata": {},
     "output_type": "execute_result"
    }
   ],
   "source": [
    "### show count of NaN values \n",
    "df[\"deferral_payments\"].value_counts()"
   ]
  },
  {
   "cell_type": "markdown",
   "metadata": {},
   "source": [
    "It looks like there is about $107$ withint the $146$ individuals who do not include the defferal payments (73%). This could present us with a problem since it's such a high number. I would like to ignore the ```NaN``` values later for the machine learning phase in the my project, but for now I will just let all the missing ```NaN``` values be zero. "
   ]
  },
  {
   "cell_type": "code",
   "execution_count": 288,
   "metadata": {},
   "outputs": [
    {
     "data": {
      "text/plain": [
       " 0           107\n",
       " 50591         1\n",
       " 6426990       1\n",
       " 260455        1\n",
       "-102500        1\n",
       " 684694        1\n",
       " 187469        1\n",
       " 831299        1\n",
       " 227449        1\n",
       " 1130036       1\n",
       " 875307        1\n",
       " 204075        1\n",
       " 178980        1\n",
       " 504610        1\n",
       " 2964506       1\n",
       " 7961          1\n",
       " 10259         1\n",
       " 2144013       1\n",
       " 774401        1\n",
       " 649584        1\n",
       " 181755        1\n",
       " 1295738       1\n",
       " 85430         1\n",
       " 181993        1\n",
       " 27610         1\n",
       " 2157527       1\n",
       " 2869717       1\n",
       " 3131860       1\n",
       " 16586         1\n",
       " 32083396      1\n",
       " 842924        1\n",
       " 564348        1\n",
       " 51365         1\n",
       " 1848227       1\n",
       " 73122         1\n",
       " 202911        1\n",
       " 214678        1\n",
       " 77716         1\n",
       " 93585         1\n",
       " 53625         1\n",
       "Name: deferral_payments, dtype: int64"
      ]
     },
     "execution_count": 288,
     "metadata": {},
     "output_type": "execute_result"
    }
   ],
   "source": [
    "### Replace \"NaN\" values for Zero.\n",
    "df.replace(\"NaN\", 0, inplace= True)\n",
    "\n",
    "### Show that \"Nan\" values have been replaced by Zero. \n",
    "df[\"deferral_payments\"].value_counts() "
   ]
  },
  {
   "cell_type": "code",
   "execution_count": 289,
   "metadata": {},
   "outputs": [
    {
     "data": {
      "text/plain": [
       "bonus                         int64\n",
       "deferral_payments             int64\n",
       "deferred_income               int64\n",
       "director_fees                 int64\n",
       "email_address                object\n",
       "exercised_stock_options       int64\n",
       "expenses                      int64\n",
       "from_messages                 int64\n",
       "from_poi_to_this_person       int64\n",
       "from_this_person_to_poi       int64\n",
       "loan_advances                 int64\n",
       "long_term_incentive           int64\n",
       "other                         int64\n",
       "poi                            bool\n",
       "restricted_stock              int64\n",
       "restricted_stock_deferred     int64\n",
       "salary                        int64\n",
       "shared_receipt_with_poi       int64\n",
       "to_messages                   int64\n",
       "total_payments                int64\n",
       "total_stock_value             int64\n",
       "dtype: object"
      ]
     },
     "execution_count": 289,
     "metadata": {},
     "output_type": "execute_result"
    }
   ],
   "source": [
    "### check if the data type are expected. \n",
    "\n",
    "df.dtypes\n"
   ]
  },
  {
   "cell_type": "markdown",
   "metadata": {},
   "source": [
    "POI = \"boolean\" (0 = No, 1 = Yes), operation as described in the \"Steps to Success\" area. We have the following list as specified withitn the project details \n",
    "\n",
    "* **Finacial Features** - ['salary', 'deferral_payments', 'total_payments', 'loan_advances', 'bonus', 'restricted_stock_deferred', 'deferred_income', 'total_stock_value', 'expenses', 'exercised_stock_options', 'other', 'long_term_incentive', 'restricted_stock', 'director_fees'] (all units are in US dollars)\n",
    "\n",
    "\n",
    "* **Email Features ** -  ['to_messages', 'email_address', 'from_poi_to_this_person', 'from_messages', 'from_this_person_to_poi', 'shared_receipt_with_poi'] (units are generally number of emails messages; notable exception is ‘email_address’, which is a text string)\n",
    "\n",
    "\n",
    "* **POI Label** - [‘poi’] (boolean, represented as integer)"
   ]
  },
  {
   "cell_type": "code",
   "execution_count": 290,
   "metadata": {},
   "outputs": [
    {
     "name": "stdout",
     "output_type": "stream",
     "text": [
      "POIs / NON-POIs: \n",
      "Percentage of POI / NON-POIs:\n"
     ]
    },
    {
     "data": {
      "text/plain": [
       "False    0.876712\n",
       "True     0.123288\n",
       "Name: poi, dtype: float64"
      ]
     },
     "execution_count": 290,
     "metadata": {},
     "output_type": "execute_result"
    }
   ],
   "source": [
    "### POIs / NON-POIs\n",
    "\n",
    "print \"POIs / NON-POIs: \"\n",
    "df['poi'].value_counts()\n",
    "\n",
    "print \"Percentage of POI / NON-POIs:\"\n",
    "df['poi'].value_counts(normalize = True)"
   ]
  },
  {
   "cell_type": "markdown",
   "metadata": {},
   "source": [
    "The Non-POIs have a large percentage within the dataset at **88%** while the POIs fall withitn **12%** of the dataset.\n",
    "Since we only have 146 samples within the dataset with once value percentile greater then the other we could see some potential problems withint the machien learning portion of the dataset. What we have learned from class is that have large and roboust data is more beneficial for our machine learning program to perform more accurately."
   ]
  },
  {
   "cell_type": "markdown",
   "metadata": {},
   "source": [
    "## Outliers \n",
    "\n",
    "From the outliers section within the introduction to machine learning we learned that what causes outliers is sensor malfunctioning, data entry errors and freak events. We need to investigate these outliers to see if there are any misplaced errors along the data set, this should be the easiest to tackle. We can explore this by visual representation of the data set or simply investigating the data set with brute force. Let's look at some plots of ``` total_payments ``` and ``` total_stock_value```. "
   ]
  },
  {
   "cell_type": "code",
   "execution_count": 291,
   "metadata": {},
   "outputs": [
    {
     "data": {
      "text/plain": [
       "<seaborn.axisgrid.FacetGrid at 0x113f40a90>"
      ]
     },
     "execution_count": 291,
     "metadata": {},
     "output_type": "execute_result"
    },
    {
     "data": {
      "image/png": "[encoded data removed]",
      "text/plain": [
       "<matplotlib.figure.Figure at 0x112b17510>"
      ]
     },
     "metadata": {},
     "output_type": "display_data"
    }
   ],
   "source": [
    "### import seaborn plot lmplot. \n",
    "### choose total_payments, total_stock_value and poi for boolean.\n",
    "op = sns.lmplot(x = \"total_payments\", \n",
    "                y = \"total_stock_value\", \n",
    "                fit_reg = False, \n",
    "                hue = \"poi\",\n",
    "                scatter_kws={\"marker\": \"D\",\n",
    "                             \"s\": 100},\n",
    "                data = df)\n",
    "\n",
    "### set grid\n",
    "plt.title(\"Enron Total Payments and Stock Value\")\n",
    "plt.xlabel(\"Total Payments\")\n",
    "plt.ylabel(\"Total Stock Value\")\n",
    "op.set(xlim=(0,None))\n",
    "op.set(ylim=(0,None))"
   ]
  },
  {
   "cell_type": "markdown",
   "metadata": {},
   "source": [
    "From the seaborn plot we see a large payment was sent out, over **300000000!!!**. First, this is quite a bit of money even for a payment of the enron magnitue, but another thing that strikes me as odd is that it's not even a person of interest. Let's do a bit more investigation."
   ]
  },
  {
   "cell_type": "code",
   "execution_count": 292,
   "metadata": {},
   "outputs": [
    {
     "data": {
      "text/html": [
       "<div>\n",
       "<table border=\"1\" class=\"dataframe\">\n",
       "  <thead>\n",
       "    <tr style=\"text-align: right;\">\n",
       "      <th></th>\n",
       "      <th>bonus</th>\n",
       "      <th>deferral_payments</th>\n",
       "      <th>deferred_income</th>\n",
       "      <th>director_fees</th>\n",
       "      <th>email_address</th>\n",
       "      <th>exercised_stock_options</th>\n",
       "      <th>expenses</th>\n",
       "      <th>from_messages</th>\n",
       "      <th>from_poi_to_this_person</th>\n",
       "      <th>from_this_person_to_poi</th>\n",
       "      <th>...</th>\n",
       "      <th>long_term_incentive</th>\n",
       "      <th>other</th>\n",
       "      <th>poi</th>\n",
       "      <th>restricted_stock</th>\n",
       "      <th>restricted_stock_deferred</th>\n",
       "      <th>salary</th>\n",
       "      <th>shared_receipt_with_poi</th>\n",
       "      <th>to_messages</th>\n",
       "      <th>total_payments</th>\n",
       "      <th>total_stock_value</th>\n",
       "    </tr>\n",
       "  </thead>\n",
       "  <tbody>\n",
       "    <tr>\n",
       "      <th>LAY KENNETH L</th>\n",
       "      <td>7000000</td>\n",
       "      <td>202911</td>\n",
       "      <td>-300000</td>\n",
       "      <td>0</td>\n",
       "      <td>kenneth.lay@enron.com</td>\n",
       "      <td>34348384</td>\n",
       "      <td>99832</td>\n",
       "      <td>36</td>\n",
       "      <td>123</td>\n",
       "      <td>16</td>\n",
       "      <td>...</td>\n",
       "      <td>3600000</td>\n",
       "      <td>10359729</td>\n",
       "      <td>True</td>\n",
       "      <td>14761694</td>\n",
       "      <td>0</td>\n",
       "      <td>1072321</td>\n",
       "      <td>2411</td>\n",
       "      <td>4273</td>\n",
       "      <td>103559793</td>\n",
       "      <td>49110078</td>\n",
       "    </tr>\n",
       "    <tr>\n",
       "      <th>TOTAL</th>\n",
       "      <td>97343619</td>\n",
       "      <td>32083396</td>\n",
       "      <td>-27992891</td>\n",
       "      <td>1398517</td>\n",
       "      <td>0</td>\n",
       "      <td>311764000</td>\n",
       "      <td>5235198</td>\n",
       "      <td>0</td>\n",
       "      <td>0</td>\n",
       "      <td>0</td>\n",
       "      <td>...</td>\n",
       "      <td>48521928</td>\n",
       "      <td>42667589</td>\n",
       "      <td>False</td>\n",
       "      <td>130322299</td>\n",
       "      <td>-7576788</td>\n",
       "      <td>26704229</td>\n",
       "      <td>0</td>\n",
       "      <td>0</td>\n",
       "      <td>309886585</td>\n",
       "      <td>434509511</td>\n",
       "    </tr>\n",
       "  </tbody>\n",
       "</table>\n",
       "<p>2 rows × 21 columns</p>\n",
       "</div>"
      ],
      "text/plain": [
       "                  bonus  deferral_payments  deferred_income  director_fees  \\\n",
       "LAY KENNETH L   7000000             202911          -300000              0   \n",
       "TOTAL          97343619           32083396        -27992891        1398517   \n",
       "\n",
       "                       email_address  exercised_stock_options  expenses  \\\n",
       "LAY KENNETH L  kenneth.lay@enron.com                 34348384     99832   \n",
       "TOTAL                              0                311764000   5235198   \n",
       "\n",
       "               from_messages  from_poi_to_this_person  \\\n",
       "LAY KENNETH L             36                      123   \n",
       "TOTAL                      0                        0   \n",
       "\n",
       "               from_this_person_to_poi        ...          \\\n",
       "LAY KENNETH L                       16        ...           \n",
       "TOTAL                                0        ...           \n",
       "\n",
       "               long_term_incentive     other    poi restricted_stock  \\\n",
       "LAY KENNETH L              3600000  10359729   True         14761694   \n",
       "TOTAL                     48521928  42667589  False        130322299   \n",
       "\n",
       "               restricted_stock_deferred    salary  shared_receipt_with_poi  \\\n",
       "LAY KENNETH L                          0   1072321                     2411   \n",
       "TOTAL                           -7576788  26704229                        0   \n",
       "\n",
       "               to_messages  total_payments  total_stock_value  \n",
       "LAY KENNETH L         4273       103559793           49110078  \n",
       "TOTAL                    0       309886585          434509511  \n",
       "\n",
       "[2 rows x 21 columns]"
      ]
     },
     "execution_count": 292,
     "metadata": {},
     "output_type": "execute_result"
    }
   ],
   "source": [
    "### investigate 3*1e8 to locate the data cell.\n",
    "df[df[\"total_payments\"] > 1e8]"
   ]
  },
  {
   "cell_type": "markdown",
   "metadata": {},
   "source": [
    "As you can see that the amount **Total** was included in the total_payments summary, this is sum of all payments received by each the unique individuals. This is known as an outlier and should be removed. Secondly, I located another outlier by doing some brute force within our data set. I located the ```THE TRAVEL AGENCY IN THE PARK```. Ken Lay's younger sister Sharon Lay is the co-ownder of TAP, which recieved total payments of $362,096.\n",
    "\n",
    "```python \n",
    "for person in data_dict: \n",
    "    print person\n",
    "    \n",
    "\"\"\" \n",
    "COX DAVID\n",
    "OVERDYKE JR JERE C\n",
    "PEREIRA PAULO V. FERRAZ\n",
    "STABLER FRANK\n",
    "SKILLING JEFFREY K\n",
    "BLAKE JR. NORMAN P\n",
    "SHERRICK JEFFREY B\n",
    "PRENTICE JAMES\n",
    "GRAY RODNEY\n",
    "PICKERING MARK R\n",
    "THE TRAVEL AGENCY IN THE PARK\n",
    "NOLES JAMES L\n",
    "KEAN STEVEN J\n",
    "\"\"\"\n",
    "```\n",
    "\n",
    "I am going to drop **Total** and **THE TRAVEL AGENCY IN THE PARK**. \n"
   ]
  },
  {
   "cell_type": "code",
   "execution_count": 293,
   "metadata": {},
   "outputs": [],
   "source": [
    "### Drop Total and TAITP \n",
    "df = df.drop([\"TOTAL\", 'THE TRAVEL AGENCY IN THE PARK'])"
   ]
  },
  {
   "cell_type": "code",
   "execution_count": 294,
   "metadata": {},
   "outputs": [
    {
     "data": {
      "text/plain": [
       "<seaborn.axisgrid.FacetGrid at 0x111d44810>"
      ]
     },
     "execution_count": 294,
     "metadata": {},
     "output_type": "execute_result"
    },
    {
     "data": {
      "image/png": "[encoded data removed]",
      "text/plain": [
       "<matplotlib.figure.Figure at 0x111d7c890>"
      ]
     },
     "metadata": {},
     "output_type": "display_data"
    }
   ],
   "source": [
    "### re plot without outliers \n",
    "op = sns.lmplot(x = \"total_payments\", \n",
    "                y = \"total_stock_value\", \n",
    "                fit_reg = False, \n",
    "                hue = \"poi\",\n",
    "                scatter_kws={\"marker\": \"D\",\n",
    "                             \"s\": 100},\n",
    "                data = df)\n",
    "\n",
    "### set grid\n",
    "plt.title(\"Enron Total Payments and Stock Value\")\n",
    "plt.xlabel(\"Total Payments\")\n",
    "plt.ylabel(\"Total Stock Value\")\n",
    "op.set(xlim=(0, None))\n",
    "op.set(ylim=(0, None))"
   ]
  },
  {
   "cell_type": "code",
   "execution_count": 295,
   "metadata": {},
   "outputs": [
    {
     "data": {
      "text/plain": [
       "['LAY KENNETH L']"
      ]
     },
     "execution_count": 295,
     "metadata": {},
     "output_type": "execute_result"
    }
   ],
   "source": [
    "df[df['total_payments']>1e8].index.tolist()"
   ]
  },
  {
   "cell_type": "markdown",
   "metadata": {},
   "source": [
    "We can now see that Kenneth Lay is the outlier in our dataset, however we will not remove him because he is a central figure in the Entron scandal and clearly a poi. Let's look at the spread of the plot with Kenneth Lay removed so we can get of insight of the other POI / NON POIs. "
   ]
  },
  {
   "cell_type": "code",
   "execution_count": 296,
   "metadata": {},
   "outputs": [
    {
     "data": {
      "text/plain": [
       "<seaborn.axisgrid.FacetGrid at 0x113fa6910>"
      ]
     },
     "execution_count": 296,
     "metadata": {},
     "output_type": "execute_result"
    },
    {
     "data": {
      "image/png": "[encoded data removed]",
      "text/plain": [
       "<matplotlib.figure.Figure at 0x1111aecd0>"
      ]
     },
     "metadata": {},
     "output_type": "display_data"
    }
   ],
   "source": [
    "### re plot without outliers \n",
    "op = sns.lmplot(x = \"total_payments\", \n",
    "                y = \"total_stock_value\", \n",
    "                fit_reg = False, \n",
    "                hue = \"poi\",\n",
    "                scatter_kws={\"marker\": \"D\",\n",
    "                             \"s\": 100},\n",
    "                data = df)\n",
    "\n",
    "### set grid\n",
    "plt.title(\"Enron Total Payments and Stock Value\")\n",
    "plt.xlabel(\"Total Payments\")\n",
    "plt.ylabel(\"Total Stock Value\")\n",
    "op.set(xlim=(0, 0.2e8))\n",
    "op.set(ylim=(0, 4e7))"
   ]
  },
  {
   "cell_type": "markdown",
   "metadata": {},
   "source": [
    "The spread is even between POI-NON/POIs and I believe this is a great place to start doing the investigation. If we need other cleaning of outliers we will perform those task once we have built a classificiation within our dataset. For now, this concludes the end of our outliers. "
   ]
  },
  {
   "cell_type": "markdown",
   "metadata": {},
   "source": [
    "## Feature Selection"
   ]
  },
  {
   "cell_type": "markdown",
   "metadata": {},
   "source": [
    "The process when coding up a new feature is to use intuation, code up, visualize and repeat the process. Essentially, we want to go through the pdf of the enron dataset and look at possible ratios that could benefit our machine learning scores. Once again here are the features: \n",
    "\n",
    "* **Finacial Features** - ['salary', 'deferral_payments', 'total_payments', 'loan_advances', 'bonus', 'restricted_stock_deferred', 'deferred_income', 'total_stock_value', 'expenses', 'exercised_stock_options', 'other', 'long_term_incentive', 'restricted_stock', 'director_fees'] (all units are in US dollars)\n",
    "\n",
    "\n",
    "* **Email Features ** -  ['to_messages', 'email_address', 'from_poi_to_this_person', 'from_messages', 'from_this_person_to_poi', 'shared_receipt_with_poi'] (units are generally number of emails messages; notable exception is ‘email_address’, which is a text string)\n",
    "\n",
    "\n",
    "* **POI Label** - [‘poi’] (boolean, represented as integer)\n",
    "\n",
    "\n",
    "* **NEW FEATURES** - ['salary_bonus_ratio', 'exercised_ratio', 'total_sp_ratio', 'restricted_ratio','to_poi_ratio', 'from_poi_ratio'] \n",
    "                      \n",
    "    * **salary_bonus_ratio** - ratio of salary to bonus. Maybe there might be some higher bonuses handed out betweedn the POI/NON-POIs that we might be able to get some possible scores on. \n",
    "    \n",
    "    * **exercised_ratio** - if someone had the ability to have more insentive to exercise a cheaper option for stock it's possible it would be someone who could be a possible POI. \n",
    "    \n",
    "    * **total_sp_ratio** - this is the ratio betweent he total_payments that were given and the total_stock value. Surely, some POIs that made alot of money would be represented in this data. \n",
    "    \n",
    "    * **restricted_ratio** - wanted to see the relationship of shares issued to employees to the overal total stock value. Did Non-POIs get more or less than POIs. \n",
    "    \n",
    "    * **to_poi_ratio** - I wanted to see if POIs have more chatter to each other if there is some weight that reffers to POIs\n",
    "    \n",
    "    * **from_poi_ratio** - This is a similary fashion of ratios that are from the POIs. Is there some weight behind email talk from similar people of interest"
   ]
  },
  {
   "cell_type": "code",
   "execution_count": 297,
   "metadata": {},
   "outputs": [],
   "source": [
    "### Replace 0 to np.nan \n",
    "df.replace(0, np.nan, inplace= True)"
   ]
  },
  {
   "cell_type": "code",
   "execution_count": 298,
   "metadata": {},
   "outputs": [],
   "source": [
    "### create new ratios for features. \n",
    "\n",
    "### financial features \n",
    "df['salary_bonus_ratio'] = df['salary'] / df['bonus']\n",
    "\n",
    "df['exercised_ratio']    = df['exercised_stock_options'] / df['total_stock_value']\n",
    "\n",
    "df['total_sp_ratio']     = df['total_payments'] / df['total_stock_value']\n",
    "\n",
    "df['restricted_ratio']   = df['restricted_stock'] / df['total_stock_value']\n",
    "\n",
    "### email features \n",
    "df['to_poi_ratio']   = df['from_this_person_to_poi'] / df['from_messages']\n",
    "\n",
    "df['from_poi_ratio'] = df[\"from_poi_to_this_person\"] / df['to_messages']"
   ]
  },
  {
   "cell_type": "code",
   "execution_count": 299,
   "metadata": {},
   "outputs": [
    {
     "name": "stdout",
     "output_type": "stream",
     "text": [
      "count    81.000000\n",
      "mean      0.484357\n",
      "std       0.454063\n",
      "min       0.040762\n",
      "25%       0.261879\n",
      "50%       0.367837\n",
      "75%       0.568920\n",
      "max       3.157186\n",
      "Name: salary_bonus_ratio, dtype: float64\n",
      "\n",
      "\n",
      "count    100.000000\n",
      "mean       0.718450\n",
      "std        0.259644\n",
      "min       -0.074502\n",
      "25%        0.593739\n",
      "50%        0.741886\n",
      "75%        0.985011\n",
      "max        1.000000\n",
      "Name: exercised_ratio, dtype: float64\n",
      "\n",
      "\n",
      "count    107.000000\n",
      "mean       2.150159\n",
      "std        5.109819\n",
      "min       -2.324632\n",
      "25%        0.298346\n",
      "50%        0.872703\n",
      "75%        2.122813\n",
      "max       48.152302\n",
      "Name: total_sp_ratio, dtype: float64\n",
      "\n",
      "\n",
      "count    106.000000\n",
      "mean       0.548519\n",
      "std        0.474059\n",
      "min        0.015152\n",
      "25%        0.229783\n",
      "50%        0.394025\n",
      "75%        0.889520\n",
      "max        3.493526\n",
      "Name: restricted_ratio, dtype: float64\n",
      "\n",
      "\n",
      "count    66.000000\n",
      "mean      0.239830\n",
      "std       0.210767\n",
      "min       0.009302\n",
      "25%       0.054855\n",
      "50%       0.218968\n",
      "75%       0.341400\n",
      "max       1.000000\n",
      "Name: to_poi_ratio, dtype: float64\n",
      "\n",
      "count    74.000000\n",
      "mean      0.044119\n",
      "std       0.040481\n",
      "min       0.001068\n",
      "25%       0.016370\n",
      "50%       0.029580\n",
      "75%       0.059118\n",
      "max       0.217341\n",
      "Name: from_poi_ratio, dtype: float64\n"
     ]
    }
   ],
   "source": [
    "### create statistical metrics \n",
    "\n",
    "print df['salary_bonus_ratio'].describe()\n",
    "print \"\\n\"\n",
    "print df['exercised_ratio'].describe()\n",
    "print \"\\n\"\n",
    "print df['total_sp_ratio'].describe()\n",
    "print \"\\n\"\n",
    "print df['restricted_ratio'].describe() \n",
    "print \"\\n\"\n",
    "print df[\"to_poi_ratio\"].describe() \n",
    "print \"\\n\",                  \n",
    "print df['from_poi_ratio'].describe()"
   ]
  },
  {
   "cell_type": "markdown",
   "metadata": {},
   "source": [
    "What we can observe here is the count for each new feature. Because some rows within the data were passed as ```NaN```, it won't be able to have a full 144 people (after TOTAL and AGENCY PARK) was removed. However, these look like some good metrics to investigate. Let's do some visual exploratory data before we bounce this back to a dictionary and then start evaluating classifications. \n",
    " "
   ]
  },
  {
   "cell_type": "code",
   "execution_count": 300,
   "metadata": {},
   "outputs": [
    {
     "data": {
      "text/plain": [
       "<seaborn.axisgrid.FacetGrid at 0x10eb2a890>"
      ]
     },
     "execution_count": 300,
     "metadata": {},
     "output_type": "execute_result"
    },
    {
     "data": {
      "image/png": "[encoded data removed]",
      "text/plain": [
       "<matplotlib.figure.Figure at 0x10eb2ae90>"
      ]
     },
     "metadata": {},
     "output_type": "display_data"
    },
    {
     "data": {
      "image/png": "[encoded data removed]",
      "text/plain": [
       "<matplotlib.figure.Figure at 0x111d843d0>"
      ]
     },
     "metadata": {},
     "output_type": "display_data"
    },
    {
     "data": {
      "image/png": "[encoded data removed]",
      "text/plain": [
       "<matplotlib.figure.Figure at 0x1117a2a50>"
      ]
     },
     "metadata": {},
     "output_type": "display_data"
    }
   ],
   "source": [
    "### New Features Exploratory Visuals\n",
    "\n",
    "### Financial Features\n",
    "\n",
    "fsp = sns.lmplot(x = \"exercised_ratio\", \n",
    "                 y = \"salary_bonus_ratio\", \n",
    "                 fit_reg = False, \n",
    "                 hue = \"poi\",\n",
    "                 scatter_kws={\"marker\": \"D\",\n",
    "                             \"s\": 100},\n",
    "                 data = df)\n",
    "\n",
    "plt.title(\"Distribution Exercised Ratio and Salary Bonus Ratio\")\n",
    "plt.xlabel(\"Salary Bonus Ratio\")\n",
    "plt.ylabel(\"Exercised Ratio\")\n",
    "\n",
    "fsp.set(xlim=(0,None))\n",
    "fsp.set(ylim=(0,None))\n",
    "\n",
    "\n",
    "fsp = sns.lmplot(x = \"restricted_ratio\", \n",
    "                 y = \"total_sp_ratio\", \n",
    "                 fit_reg = False, \n",
    "                 hue = \"poi\",\n",
    "                 scatter_kws={\"marker\": \"D\",\n",
    "                             \"s\": 100},\n",
    "                 data = df)\n",
    "\n",
    "plt.title(\"Distribution Total Stock/Payments and Other\")\n",
    "plt.xlabel(\"Restricted Ratio\")\n",
    "plt.ylabel(\"Total Stock Total Payment Ratio\")\n",
    "\n",
    "fsp.set(xlim=(0,2.5))\n",
    "fsp.set(ylim=(-.5,None))\n",
    "\n",
    "\n",
    "\n",
    "### Email Features\n",
    "\n",
    "fsp = sns.lmplot(x = \"to_poi_ratio\", \n",
    "                 y = \"from_poi_ratio\", \n",
    "                 fit_reg = False, \n",
    "                 hue = \"poi\",\n",
    "                 scatter_kws={\"marker\": \"D\",\n",
    "                             \"s\": 100},\n",
    "                 data = df)\n",
    "\n",
    "plt.title(\"Distribution To and From POI Ratio\")\n",
    "plt.xlabel(\"to_poi_ratio\")\n",
    "plt.ylabel(\"from_poi_ratio\")\n",
    "\n",
    "fsp.set(xlim=(0,None))\n",
    "fsp.set(ylim=(0,None))\n"
   ]
  },
  {
   "cell_type": "markdown",
   "metadata": {},
   "source": [
    "After some tuning a visualization and re tuning and re visualization I finally found the features I wanted and honestly, these are pretty awesome! Once we get into the evaluations of the metrics I believe we are going to get some great Recall, Precision, True Positives, False Negatives and False Positives by using a confusion matrix. These are the extra features I will be preparing in the new data set and I'm happy to move on to the classification part of the exercise."
   ]
  },
  {
   "cell_type": "code",
   "execution_count": 301,
   "metadata": {},
   "outputs": [
    {
     "name": "stdout",
     "output_type": "stream",
     "text": [
      "              bonus  deferral_payments  deferred_income  director_fees  \\\n",
      "count  8.100000e+01       3.800000e+01     4.800000e+01      16.000000   \n",
      "mean   1.201773e+06       8.416025e+05    -5.810498e+05   89822.875000   \n",
      "std    1.441679e+06       1.289323e+06     9.420764e+05   41112.700735   \n",
      "min    7.000000e+04      -1.025000e+05    -3.504386e+06    3285.000000   \n",
      "25%    4.250000e+05       7.964450e+04    -6.112092e+05   83674.500000   \n",
      "50%    7.500000e+05       2.210635e+05    -1.519270e+05  106164.500000   \n",
      "75%    1.200000e+06       8.672112e+05    -3.792600e+04  112815.000000   \n",
      "max    8.000000e+06       6.426990e+06    -8.330000e+02  137864.000000   \n",
      "\n",
      "       exercised_stock_options       expenses  from_messages  \\\n",
      "count             1.010000e+02      94.000000      86.000000   \n",
      "mean              2.959559e+06   54192.010638     608.790698   \n",
      "std               5.499450e+06   46108.377454    1841.033949   \n",
      "min               3.285000e+03     148.000000      12.000000   \n",
      "25%               5.067650e+05   22479.000000      22.750000   \n",
      "50%               1.297049e+06   46547.500000      41.000000   \n",
      "75%               2.542813e+06   78408.500000     145.500000   \n",
      "max               3.434838e+07  228763.000000   14368.000000   \n",
      "\n",
      "       from_poi_to_this_person  from_this_person_to_poi  loan_advances  \\\n",
      "count                74.000000                66.000000   3.000000e+00   \n",
      "mean                 75.418919                53.727273   2.797500e+07   \n",
      "std                  89.467681               111.420002   4.638256e+07   \n",
      "min                   1.000000                 1.000000   4.000000e+05   \n",
      "25%                  20.500000                 6.000000   1.200000e+06   \n",
      "50%                  40.500000                15.000000   2.000000e+06   \n",
      "75%                  93.500000                37.750000   4.176250e+07   \n",
      "max                 528.000000               609.000000   8.152500e+07   \n",
      "\n",
      "            ...        shared_receipt_with_poi   to_messages  total_payments  \\\n",
      "count       ...                      86.000000     86.000000    1.230000e+02   \n",
      "mean        ...                    1176.465116   2073.860465    2.641806e+06   \n",
      "std         ...                    1178.317641   2582.700981    9.524694e+06   \n",
      "min         ...                       2.000000     57.000000    1.480000e+02   \n",
      "25%         ...                     249.750000    541.250000    3.969340e+05   \n",
      "50%         ...                     740.500000   1211.000000    1.101393e+06   \n",
      "75%         ...                    1888.250000   2634.750000    2.087530e+06   \n",
      "max         ...                    5521.000000  15149.000000    1.035598e+08   \n",
      "\n",
      "       total_stock_value  salary_bonus_ratio  exercised_ratio  total_sp_ratio  \\\n",
      "count       1.250000e+02           81.000000       100.000000      107.000000   \n",
      "mean        3.352073e+06            0.484357         0.718450        2.150159   \n",
      "std         6.532883e+06            0.454063         0.259644        5.109819   \n",
      "min        -4.409300e+04            0.040762        -0.074502       -2.324632   \n",
      "25%         4.941360e+05            0.261879         0.593739        0.298346   \n",
      "50%         1.095040e+06            0.367837         0.741886        0.872703   \n",
      "75%         2.606763e+06            0.568920         0.985011        2.122813   \n",
      "max         4.911008e+07            3.157186         1.000000       48.152302   \n",
      "\n",
      "       restricted_ratio  to_poi_ratio  from_poi_ratio  \n",
      "count        106.000000     66.000000       74.000000  \n",
      "mean           0.548519      0.239830        0.044119  \n",
      "std            0.474059      0.210767        0.040481  \n",
      "min            0.015152      0.009302        0.001068  \n",
      "25%            0.229783      0.054855        0.016370  \n",
      "50%            0.394025      0.218968        0.029580  \n",
      "75%            0.889520      0.341400        0.059118  \n",
      "max            3.493526      1.000000        0.217341  \n",
      "\n",
      "[8 rows x 25 columns]\n"
     ]
    }
   ],
   "source": [
    "### Describe Data, Replace np.nan to \"NaN\" and create a Dictionary. \n",
    "\n",
    "### Step 1 - Give me some statistics please. \n",
    "print df.describe() \n",
    "\n",
    "### Step 2 - replace np.nan --> \"NaN\" \n",
    "df.replace(np.nan, \"NaN\", inplace = True)\n",
    "\n",
    "### Step 3 - Create dictionary \n",
    "data_dict = df.to_dict('index')"
   ]
  },
  {
   "cell_type": "code",
   "execution_count": 302,
   "metadata": {},
   "outputs": [
    {
     "name": "stdout",
     "output_type": "stream",
     "text": [
      "This is Kenneth Lay: {'to_messages': 4273.0, 'deferral_payments': 202911.0, 'exercised_ratio': 0.6994161972212709, 'restricted_ratio': 0.30058380277872904, 'salary_bonus_ratio': 0.1531887142857143, 'expenses': 99832.0, 'poi': True, 'long_term_incentive': 3600000.0, 'email_address': 'kenneth.lay@enron.com', 'from_poi_to_this_person': 123.0, 'deferred_income': -300000.0, 'restricted_stock_deferred': 'NaN', 'shared_receipt_with_poi': 2411.0, 'loan_advances': 81525000.0, 'from_messages': 36.0, 'other': 10359729.0, 'to_poi_ratio': 0.4444444444444444, 'director_fees': 'NaN', 'total_sp_ratio': 2.108727927493823, 'bonus': 7000000.0, 'total_stock_value': 49110078.0, 'from_this_person_to_poi': 16.0, 'from_poi_ratio': 0.028785396676807865, 'restricted_stock': 14761694.0, 'salary': 1072321.0, 'total_payments': 103559793.0, 'exercised_stock_options': 34348384.0}\n"
     ]
    }
   ],
   "source": [
    "### Step 4 - Confirm this works \n",
    "print \"This is Kenneth Lay:\", data_dict['LAY KENNETH L']"
   ]
  },
  {
   "cell_type": "markdown",
   "metadata": {},
   "source": [
    "## Machine Learning Export \n",
    "\n",
    "First, I need to select the features I would like to use. Best way to do this is just try all the features and then size them down until you are happy with the ones you have chosen. Let's look at the features again: \n",
    "\n",
    "* **Finacial Features** - ['salary', 'deferral_payments', 'total_payments', 'loan_advances', 'bonus', 'restricted_stock_deferred', 'deferred_income', 'total_stock_value', 'expenses', 'exercised_stock_options', 'other', 'long_term_incentive', 'restricted_stock', 'director_fees'] (all units are in US dollars)\n",
    "\n",
    "\n",
    "* **Email Features ** -  ['to_messages', 'email_address', 'from_poi_to_this_person', 'from_messages', 'from_this_person_to_poi', 'shared_receipt_with_poi'] (units are generally number of emails messages; notable exception is ‘email_address’, which is a text string)\n",
    "\n",
    "\n",
    "* **POI Label** - [‘poi’] (boolean, represented as integer)\n",
    "\n",
    "\n",
    "* **NEW FEATURES** - ['salary_bonus_ratio', 'exercised_ratio', 'total_sp_ratio', 'restricted_ratio','to_poi_ratio', 'from_poi_ratio'] \n",
    "\n",
    "Above are the selected features you need to use in order to tune the classification model the correct way. This is bassically just plug and chug until we get something that looks semi-useful. I am not including the \"email_adress\" because I don't think it's necessary considering that I'm not doing any text learning."
   ]
  },
  {
   "cell_type": "code",
   "execution_count": 309,
   "metadata": {},
   "outputs": [],
   "source": [
    "### Store to my_dataset for easy export below. \n",
    "\n",
    "my_dataset = data_dict "
   ]
  },
  {
   "cell_type": "code",
   "execution_count": 317,
   "metadata": {},
   "outputs": [
    {
     "ename": "ImportError",
     "evalue": "cannot import name accuracy_score",
     "output_type": "error",
     "traceback": [
      "\u001b[0;31m---------------------------------------------------------------------------\u001b[0m",
      "\u001b[0;31mImportError\u001b[0m                               Traceback (most recent call last)",
      "\u001b[0;32m<ipython-input-317-632735bdc627>\u001b[0m in \u001b[0;36m<module>\u001b[0;34m()\u001b[0m\n\u001b[1;32m      9\u001b[0m \u001b[0;34m\u001b[0m\u001b[0m\n\u001b[1;32m     10\u001b[0m \u001b[0;32mfrom\u001b[0m \u001b[0msklearn\u001b[0m \u001b[0;32mimport\u001b[0m \u001b[0mcross_validation\u001b[0m        \u001b[0;31m### CV\u001b[0m\u001b[0;34m\u001b[0m\u001b[0m\n\u001b[0;32m---> 11\u001b[0;31m \u001b[0;32mfrom\u001b[0m \u001b[0msklearn\u001b[0m \u001b[0;32mimport\u001b[0m \u001b[0maccuracy_score\u001b[0m          \u001b[0;31m### Accuracy\u001b[0m\u001b[0;34m\u001b[0m\u001b[0m\n\u001b[0m\u001b[1;32m     12\u001b[0m \u001b[0;32mfrom\u001b[0m \u001b[0msklearn\u001b[0m \u001b[0;32mimport\u001b[0m \u001b[0mconfusion_matrix\u001b[0m        \u001b[0;31m### Confusion\u001b[0m\u001b[0;34m\u001b[0m\u001b[0m\n\u001b[1;32m     13\u001b[0m \u001b[0;32mfrom\u001b[0m \u001b[0msklearn\u001b[0m\u001b[0;34m.\u001b[0m\u001b[0mmetrics\u001b[0m \u001b[0;32mimport\u001b[0m \u001b[0mprecision_score\u001b[0m \u001b[0;31m### Precision\u001b[0m\u001b[0;34m\u001b[0m\u001b[0m\n",
      "\u001b[0;31mImportError\u001b[0m: cannot import name accuracy_score"
     ]
    }
   ],
   "source": [
    "### import classifiers, splitters, metrics\n",
    "\n",
    "from sklearn.svm import SVC                                ### Support vector machine \n",
    "from sklearn import tree                                   ### Decision Tree \n",
    "from sklearn.naive_bayes import GaussianNB                 ### Naive Bayes\n",
    "from sklearn.neighbors import KNeighborsClassifier as knnc ### KNeighbors\n",
    "\n",
    "from time import time \n",
    "\n",
    "from sklearn import cross_validation        ### CV\n",
    "from sklearn import accuracy_score          ### Accuracy\n",
    "from sklearn import confusion_matrix        ### Confusion \n",
    "from sklearn.metrics import precision_score ### Precision \n",
    "from sklearn.metrics import recall_score    ### Recall Score\n",
    "\n",
    "\n",
    "### Extract features and labels from dataset for local teseting\n",
    "\n",
    "features_list = ['poi','salary', 'deferral_payments', 'total_payments', 'loan_advances', 'bonus', 'restricted_stock_deferred', \n",
    "                 'deferred_income', 'total_stock_value', 'expenses', 'exercised_stock_options', 'other', \n",
    "                 'long_term_incentive', 'restricted_stock', 'director_fees','to_messages',  \n",
    "                 'from_poi_to_this_person', 'from_messages', 'from_this_person_to_poi', 'shared_receipt_with_poi', \n",
    "                 'salary_bonus_ratio', 'exercised_ratio', 'total_sp_ratio', \n",
    "                 'restricted_ratio','to_poi_ratio', 'from_poi_ratio']\n",
    "\n",
    "### local testing data\n",
    "data = featureFormat(my_dataset,features_list, sort_keys = True)\n",
    "labels, features = targetFeatureSplit(data)\n",
    "\n",
    "\n",
    "### sanity check \n",
    "pprint.pprint(labels[0:3])\n",
    "pprint.pprint(features[0:1])"
   ]
  },
  {
   "cell_type": "markdown",
   "metadata": {},
   "source": [
    "## Try a varity of Classifiers"
   ]
  },
  {
   "cell_type": "code",
   "execution_count": null,
   "metadata": {
    "collapsed": true
   },
   "outputs": [],
   "source": []
  }
 ],
 "metadata": {
  "kernelspec": {
   "display_name": "Python 2",
   "language": "python",
   "name": "python2"
  },
  "language_info": {
   "codemirror_mode": {
    "name": "ipython",
    "version": 2
   },
   "file_extension": ".py",
   "mimetype": "text/x-python",
   "name": "python",
   "nbconvert_exporter": "python",
   "pygments_lexer": "ipython2",
   "version": "2.7.11"
  }
 },
 "nbformat": 4,
 "nbformat_minor": 2
}
