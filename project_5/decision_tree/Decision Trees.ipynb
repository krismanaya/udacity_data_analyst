{
 "cells": [
  {
   "cell_type": "markdown",
   "metadata": {},
   "source": [
    "# Decision Trees\n",
    "\n",
    "### Example 1: \n",
    "\n",
    "$x$ indicates he's not windsurfing and $o$ otherwise. This image is not $LS$. \n",
    "\n",
    "<img src=\"dt_images/example_1.png\" alot = \"Wind-Surfing\" style = \"width: 500px;\"/> \n",
    "\n",
    "*Decision Trees* let's you ask multiple questions. Like is it Windy (Yes, No)? If it is Windy, we need to create another decision. This leads us to some sort of tree graph as described below \n",
    "\n",
    "### Example 2: \n",
    "\n",
    "<img src=\"dt_images/example_2.png\" alot = \"Wind-Surfing-Decision\" style = \"width: 500px;\"/> \n",
    "\n",
    "**Decision Trees** helps us classify data charectorizing it as decision of questions.\n",
    "\n",
    "### Example 3: \n",
    "\n",
    "<img src=\"dt_images/example_3.png\" alot = \"Decisions-Equalities\" style = \"width: 400px;\"/>"
   ]
  },
  {
   "cell_type": "code",
   "execution_count": 6,
   "metadata": {
    "collapsed": false
   },
   "outputs": [
    {
     "name": "stdout",
     "output_type": "stream",
     "text": [
      "{'Classifier and Prediction': (DecisionTreeClassifier(class_weight=None, criterion='gini', max_depth=None,\n",
      "            max_features=None, max_leaf_nodes=None, min_samples_leaf=1,\n",
      "            min_samples_split=2, min_weight_fraction_leaf=0.0,\n",
      "            presort=False, random_state=None, splitter='best'), array([1]))}\n"
     ]
    }
   ],
   "source": [
    "# Decision Trees code example . \n",
    "from sklearn import tree #import dt\n",
    "X = [[0,0], [1,1]] #training features\n",
    "Y = [0,1] # training labels\n",
    "clf = tree.DecisionTreeClassifier() # create classifier \n",
    "clf = clf.fit(X,Y) #fit function\n",
    "pred = clf.predict([[2.,2.]])\n",
    "\n",
    "print{\"Classifier and Prediction\": (clf, pred)} # output\n",
    "\n"
   ]
  },
  {
   "cell_type": "code",
   "execution_count": null,
   "metadata": {
    "collapsed": true
   },
   "outputs": [],
   "source": []
  }
 ],
 "metadata": {
  "kernelspec": {
   "display_name": "Python 2",
   "language": "python",
   "name": "python2"
  },
  "language_info": {
   "codemirror_mode": {
    "name": "ipython",
    "version": 2
   },
   "file_extension": ".py",
   "mimetype": "text/x-python",
   "name": "python",
   "nbconvert_exporter": "python",
   "pygments_lexer": "ipython2",
   "version": "2.7.11"
  }
 },
 "nbformat": 4,
 "nbformat_minor": 0
}
