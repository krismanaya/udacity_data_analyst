{
 "cells": [
  {
   "cell_type": "markdown",
   "metadata": {},
   "source": [
    "# Outliers \n",
    "\n",
    "<img src=\"o_images/example_1.png\" alt=\"outliers\" style =\"width: 500px;\"/>\n",
    "\n",
    "because of least-squares error we need to pull the outlier out so we have a better error. \n",
    "\n",
    "\n",
    "### What causes outliers? \n",
    "\n",
    "* Sensor Malfunction (ignore)\n",
    "* Data Entry Errors (ignore)\n",
    "* Aliens (Dumb) \n",
    "* Freak Events (pay attention) \n",
    "\n",
    "Freak Events - \n",
    "\n",
    "* fraud ditection \n",
    "* weather \n",
    "\n",
    "## Outlier Detection: \n",
    "\n",
    "<img src=\"o_images/example_2.png\" alt=\"outliers\" style =\"width: 500px;\"/>\n"
   ]
  },
  {
   "cell_type": "markdown",
   "metadata": {
    "collapsed": true
   },
   "source": [
    "# Clustering \n",
    "\n",
    "\n",
    "## Unsupervised Learning\n",
    "\n",
    "<img src=\"o_images/example_3.png\" alt=\"clustering\" style =\"width: 500px;\"/>\n",
    "\n"
   ]
  },
  {
   "cell_type": "code",
   "execution_count": null,
   "metadata": {
    "collapsed": true
   },
   "outputs": [],
   "source": []
  }
 ],
 "metadata": {
  "kernelspec": {
   "display_name": "Python 2",
   "language": "python",
   "name": "python2"
  },
  "language_info": {
   "codemirror_mode": {
    "name": "ipython",
    "version": 2
   },
   "file_extension": ".py",
   "mimetype": "text/x-python",
   "name": "python",
   "nbconvert_exporter": "python",
   "pygments_lexer": "ipython2",
   "version": "2.7.11"
  }
 },
 "nbformat": 4,
 "nbformat_minor": 2
}
