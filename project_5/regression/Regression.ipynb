{
 "cells": [
  {
   "cell_type": "markdown",
   "metadata": {},
   "source": [
    "# Continous supervised learning (CSL)\n",
    "\n",
    "essentially we are going to be learning a more continous approach with our datasets now. Recently, we have been modeling on a more binary discrete case. This below is an example of CSL. \n",
    "\n",
    "<img src= \"r_images/example_1.png\" alt= \"csl\" style=\"width: 500px;\"/> \n",
    "\n",
    "### Example of Continous and Discrete: \n",
    "\n",
    "* Age (Continous) \n",
    "* Weather (Discrete) \n",
    "* Person Wrote Email (Discrete)\n",
    "* Phone (Discrete) \n",
    "* income (Continous)\n",
    "\n",
    "Continous implies that there is some sort of ordering to this. Discrete has no order, so primarly you go with discrete. \n",
    "\n",
    "\n",
    "### Example: \n",
    "<img src= \"r_images/example_2.png\" alt= \"csl\" style=\"width: 500px;\"/> \n",
    "As you can see above the data is showing contious linear relationship between net_worth and age.\n",
    "\n",
    "### Slope Intercept\n",
    "\n",
    "$y = mx + b$\n",
    "<img src= \"r_images/example_3.png\" alt= \"csl\" style=\"width: 500px;\"/> \n",
    "\n",
    "\n",
    "### Regression \n",
    "as you see the continous line we can make a regression prediction of age to networth \n",
    "<img src= \"r_images/example_4.png\" alt= \"csl\" style=\"width: 500px;\"/> \n",
    "\n",
    "\n",
    "### Linear models \n",
    "\n",
    "The folowing are a set of methods intended for regression in which the target values is expected \n",
    "to be a linear combination of the input variables. In mathematical notion, it $\\hat{y}$ is the predicted values \n",
    "$$\\hat{y}(w,x) = w_{0} + w_{1}x_{1} + \\cdots + w_{p}x_{p}$$ \n",
    "Across the module, we designated the vector $ w = (w_{1}, \\cdots , w_{p})$ as ``coef_`` and $w_{0}$ as the ``intercept_``. "
   ]
  },
  {
   "cell_type": "code",
   "execution_count": 12,
   "metadata": {},
   "outputs": [
    {
     "name": "stdout",
     "output_type": "stream",
     "text": [
      " LinearRegression(copy_X=True, fit_intercept=True, n_jobs=1, normalize=False)\n",
      "prediction [  1.11022302e-16]\n",
      "slope: [ 0.5  0.5]\n",
      "intercept: 1.11022302463e-16\n",
      "\n",
      " ################# stats on dataset ############## \n",
      "\n",
      "r-squared score: 1.0\n"
     ]
    },
    {
     "name": "stderr",
     "output_type": "stream",
     "text": [
      "/usr/local/lib/python2.7/site-packages/sklearn/utils/validation.py:386: DeprecationWarning: Passing 1d arrays as data is deprecated in 0.17 and willraise ValueError in 0.19. Reshape your data either using X.reshape(-1, 1) if your data has a single feature or X.reshape(1, -1) if it contains a single sample.\n",
      "  DeprecationWarning)\n"
     ]
    }
   ],
   "source": [
    "# regression code\n",
    "# sklearn regression \n",
    "from sklearn import linear_model\n",
    "reg = linear_model.LinearRegression() \n",
    "print reg\n",
    "reg.fit ([[0, 0], [1, 1], [2, 2]], [0, 1, 2])\n",
    "#LinearRegression(copy_X=True, fit_intercept=True, n_jobs=1, normalize=False)\n",
    "reg.coef_ \n",
    "\n",
    "print \"prediction\", reg.predict([0,0])\n",
    "print \"slope:\", reg.coef_\n",
    "print \"intercept:\", reg.intercept_\n",
    "print \"\\n ################# stats on dataset ############## \\n\"\n",
    "print \"r-squared score:\", reg.score([[0, 0], [1, 1], [2, 2]], [0, 1, 2])\n"
   ]
  },
  {
   "cell_type": "markdown",
   "metadata": {},
   "source": [
    "# Linear Regression Errors\n",
    "<img src= \"r_images/example_5.png\" alt= \"csl\" style=\"width: 500px;\"/> \n",
    "\n",
    "This is also know as the distance: $$d(x_{actual},y_{predicted}) = x_{actual} - y_{predicted}$$\n",
    "\n",
    "a good fit to min8imize: \n",
    "\n",
    "* $\\sum |x_{actual} - y_{predicted}|$ \n",
    "* $\\sum |(x_{actual} - y_{predicted})^{2}| $\n",
    "\n",
    "The bet regression is the one that minimizes the sum of the square errors\n",
    "$$ min = \\sum_{i = 1}^{N}(x_{i} -y_{i})^{2} $$ \n",
    "where $y$ is the predictions from regression $y = mx + b$\n",
    "\n",
    "### several algorithms \n",
    "\n",
    "* ordinay least squares (OLS) sklearn uses \n",
    "* gradient descent \n",
    "\n",
    "learn these in your Numerical Analysis book\n",
    "\n",
    "<img src= \"r_images/example_6.png\" alt= \"csl\" style=\"width: 500px;\"/> \n",
    "\n",
    "\n",
    "### SSE isn't perfect !\n",
    "\n",
    "\n",
    "### r^2 (\"r squared \") of a regression \n",
    "\n",
    "$r^{2}$- answers the question \"how much of my change in the output $(y)$ is explained by the change in my input $(x)$\"\n",
    "\n",
    "$$ 0.0 < r^{2} < 1.0 $$ \n",
    "\n",
    "if the number is small the general trend is the regression line isn't doing a good job of capturing the data \n",
    "if the number is large it's the latter (input $x$ and ouput $y$). \n",
    "\n",
    "\n",
    "## Comparing Classification & Regression \n",
    "\n",
    "<img src= \"r_images/example_7.png\" alt= \"csl\" style=\"width: 500px;\"/> \n",
    "\n",
    "examples: \n",
    "\n",
    "* Age -> Networth \n",
    "\n",
    "we could have many input variables \n",
    "\n",
    "### Multi-Variate regression \n",
    "<img src= \"r_images/example_8.png\" alt= \"csl\" style=\"width: 500px;\"/> \n",
    "\n",
    "multi-variate: $$ y = \\beta_{0} + \\beta_{1}x_{1} + \\beta_{2}x_{2} $$\n",
    "how much does $y$ grow as we very $x$? every time $x_1$ grows by $20$, $y$ grows by $100$. as $x_2$ grows by $20$, $y$ grows by $50$ therefore we have this following equation if $\\beta_{0}$ is zero: $y = 5*20 + 2.5*80 = 300$. So have have $200$ large to get the $100$ value. Thus $\\beta_{0} = -200$. \n",
    "\n",
    "#### Second example:\n",
    "<img src= \"r_images/example_9.png\" alt= \"csl\" style=\"width: 500px;\"/> \n",
    "\n",
    "\n",
    "\n",
    "### regression line: \n",
    "\n",
    "<img src= \"r_images/example_10.png\" alt= \"csl\" style=\"width: 500px;\"/> \n",
    "The input for this is the **Salary** while the **Bonus** is the target. "
   ]
  },
  {
   "cell_type": "code",
   "execution_count": 13,
   "metadata": {
    "collapsed": true
   },
   "outputs": [],
   "source": [
    "#code r squared sklearn\n",
    "import numpy as np\n",
    "import random "
   ]
  },
  {
   "cell_type": "code",
   "execution_count": null,
   "metadata": {
    "collapsed": true
   },
   "outputs": [],
   "source": []
  }
 ],
 "metadata": {
  "kernelspec": {
   "display_name": "Python 2",
   "language": "python",
   "name": "python2"
  },
  "language_info": {
   "codemirror_mode": {
    "name": "ipython",
    "version": 2
   },
   "file_extension": ".py",
   "mimetype": "text/x-python",
   "name": "python",
   "nbconvert_exporter": "python",
   "pygments_lexer": "ipython2",
   "version": "2.7.11"
  }
 },
 "nbformat": 4,
 "nbformat_minor": 2
}
