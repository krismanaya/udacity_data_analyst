{
 "cells": [
  {
   "cell_type": "markdown",
   "metadata": {},
   "source": [
    "# Principal Component Analysis - PCA\n",
    "\n",
    "\n",
    "PCA - if you are given data of any shape PCA finds a new coordinate system by translation and rotation it moves the x-axis into the most variation of the data points. \n",
    "\n",
    "<img src= \"p_images/example_1.png\" alt= \"PCA\" style=\"width: 500px;\"/> \n",
    "\n",
    "essentially we create to vectors at the center of the data which are orthognal to each other.This is known as a transformation. Given two vectors $\\vec{y}$ and $\\vec{x}$ we must ensure that at some new point $P$ these vectors our orthognal $\\vec{y} \\perp \\vec{x}$\n"
   ]
  },
  {
   "cell_type": "code",
   "execution_count": null,
   "metadata": {
    "collapsed": true
   },
   "outputs": [],
   "source": []
  }
 ],
 "metadata": {
  "kernelspec": {
   "display_name": "Python 2",
   "language": "python",
   "name": "python2"
  },
  "language_info": {
   "codemirror_mode": {
    "name": "ipython",
    "version": 2
   },
   "file_extension": ".py",
   "mimetype": "text/x-python",
   "name": "python",
   "nbconvert_exporter": "python",
   "pygments_lexer": "ipython2",
   "version": "2.7.11"
  }
 },
 "nbformat": 4,
 "nbformat_minor": 2
}
