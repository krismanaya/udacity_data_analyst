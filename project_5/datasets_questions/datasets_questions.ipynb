{
 "cells": [
  {
   "cell_type": "markdown",
   "metadata": {},
   "source": [
    "# Accuracy <-> Trianing set size\n",
    "\n",
    "the size of the training set is very import. \n",
    "<img src=\"d_q_images/example_1.png\" alt = \"Outliers\" style =\"width: 500px;\"/>\n",
    "essentially, the larger the training set the more accuracy you have a possibilty of acheiving. However, \n",
    "this training set could converge slowly to the accuracy as the training set reaching some large finite number, so the best result you should achieve is something with a small training set with an effecicient accuracy so you obtain speed for your model and well accurate percantages. \n",
    "\n",
    "** More Data $>$ Fine-Tuned Algorithm ** \n",
    "\n",
    "\n",
    "# Types of Data \n",
    "\n",
    "* numerical - numberical values (numbers) \n",
    "* categorical - limited number of discrete values (category) \n",
    "* time series - temporal value (date, timestamp) \n",
    "* text - words\n",
    "\n",
    "\n"
   ]
  },
  {
   "cell_type": "code",
   "execution_count": null,
   "metadata": {
    "collapsed": true
   },
   "outputs": [],
   "source": []
  }
 ],
 "metadata": {
  "kernelspec": {
   "display_name": "Python 2",
   "language": "python",
   "name": "python2"
  },
  "language_info": {
   "codemirror_mode": {
    "name": "ipython",
    "version": 2
   },
   "file_extension": ".py",
   "mimetype": "text/x-python",
   "name": "python",
   "nbconvert_exporter": "python",
   "pygments_lexer": "ipython2",
   "version": "2.7.11"
  }
 },
 "nbformat": 4,
 "nbformat_minor": 2
}
