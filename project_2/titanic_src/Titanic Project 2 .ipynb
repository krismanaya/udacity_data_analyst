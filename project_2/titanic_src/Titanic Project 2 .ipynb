{
 "cells": [
  {
   "cell_type": "markdown",
   "metadata": {},
   "source": [
    "## Titanic Data Description\n",
    "\n",
    "**VARIABLE DESCRIPTIONS:**\n",
    "* survival        **Survival (0 = No; 1 = Yes)**\n",
    "* pclass          **Passenger Class (1 = 1st; 2 = 2nd; 3 = 3rd)**\n",
    "* name            **Name**\n",
    "* sex             **Sex**\n",
    "* age             **Age**\n",
    "* sibsp           **Number of Siblings/Spouses Aboard**\n",
    "* parch           **Number of Parents/Children Aboard**\n",
    "* ticket          **Ticket Number**\n",
    "* fare            **Passenger Fare**\n",
    "* cabin           **Cabin** \n",
    "* embarked        **Port of Embarkation**\n",
    "                (C = Cherbourg; Q = Queenstown; S = Southampton)\n",
    "\n",
    "**SPECIAL NOTES:**\n",
    "\n",
    "* Pclass is a proxy for socio-economic status (SES)\n",
    "   * 1st ~ Upper; 2nd ~ Middle; 3rd ~ Lower\n",
    "\n",
    "* Age is in Years; Fractional if Age less than One (1)\n",
    "  * If the Age is Estimated, it is in the form xx.5\n",
    "\n",
    "**With respect to the family relation variables (i.e. sibsp and parch)\n",
    "some relations were ignored.  The following are the definitions used\n",
    "for sibsp and parch.** \n",
    "\n",
    "1. *Sibling:  Brother, Sister, Stepbrother, or Stepsister of Passenger Aboard Titanic*. \n",
    "\n",
    "2. *Spouse:   Husband or Wife of Passenger Aboard Titanic (Mistresses and Fiances Ignored)*.\n",
    "\n",
    "3. *Parent:   Mother or Father of Passenger Aboard Titanic*.\n",
    "\n",
    "4. *Child:    Son, Daughter, Stepson, or Stepdaughter of Passenger Aboard Titanic*. \n",
    "\n",
    "Other family relatives excluded from this study include cousins,\n",
    "nephews/nieces, aunts/uncles, and in-laws.  Some children travelled\n",
    "only with a nanny, therefore parch=0 for them.  As well, some\n",
    "travelled with very close friends or neighbors in a village, however,\n",
    "the definitions do not support such relations.\n"
   ]
  },
  {
   "cell_type": "code",
   "execution_count": 93,
   "metadata": {
    "collapsed": false
   },
   "outputs": [
    {
     "data": {
      "text/html": [
       "<iframe width=\"560\" height=\"315\" src=\"https://www.youtube.com/embed/FSGeskFzE0s\"frameborder=\"0\" allowfullscreen></iframe>"
      ],
      "text/plain": [
       "<IPython.core.display.HTML object>"
      ]
     },
     "execution_count": 93,
     "metadata": {},
     "output_type": "execute_result"
    }
   ],
   "source": [
    "%matplotlib inline\n",
    "from IPython.display import HTML\n",
    "import pandas as pd\n",
    "import numpy as np\n",
    "import matplotlib.pyplot as plt\n",
    "import seaborn as sns\n",
    "import scipy\n",
    "from scipy.stats import pearsonr\n",
    "# Description of how the Titanic Sank: \n",
    "HTML(\n",
    "'<iframe width=\"560\" height=\"315\" src=\"https://www.youtube.com/embed/FSGeskFzE0s\"frameborder=\"0\" allowfullscreen></iframe>')"
   ]
  },
  {
   "cell_type": "markdown",
   "metadata": {},
   "source": [
    "## Data Wrangling for Male and Female Survivors"
   ]
  },
  {
   "cell_type": "code",
   "execution_count": 66,
   "metadata": {
    "collapsed": false
   },
   "outputs": [],
   "source": [
    "#inspect the titatic-data set. \n",
    "titanic_df = pd.read_csv('titanic-data.csv')\n",
    "titanic_df.head() \n",
    "\n",
    "#filled NaN values with zeror for class 3 passangers. \n",
    "titanic_df = titanic_df.fillna(value=0) \n",
    "\n",
    "#functions \n",
    "def gender_survial(gender,survival):\n",
    "    \"\"\"gender must be of type(str) of either gender\n",
    "       surtival must be of type(int) of either 0 or 1\"\"\"\n",
    "    return titanic_df[((titanic_df['Sex']) == gender) & (titanic_df['Survived'] == survival)]\n",
    "\n",
    "def passanger_class(data,pclass): \n",
    "    \"\"\"data must be of type(DataFrame) of Titanic DF\n",
    "       pclass must be of type(int):= [1,2,3]\"\"\"\n",
    "    return data[data['Pclass'] == pclass]\n",
    "\n",
    "def series(data,column):\n",
    "    \"\"\"returns a series of the dataframe with its respective column.\n",
    "       Column can be of type(str),type(int) and type(float).\"\"\"\n",
    "    return data[column]\n",
    "\n",
    "#survived male passangers & female passangers\n",
    "male_survived_df = gender_survial('male',1)\n",
    "female_survived_df = gender_survial('female',1)\n",
    "\n",
    "#first class, second class and third class males who survived \n",
    "first_class_survived_m = passanger_class(male_survived_df,1)\n",
    "second_class_survived_m= passanger_class(male_survived_df,2)\n",
    "third_class_survived_m = passanger_class(male_survived_df,3)\n",
    "\n",
    "#first class, second class and third class females who survived\n",
    "first_class_survived_f = passanger_class(female_survived_df,1)\n",
    "second_class_survived_f= passanger_class(female_survived_df,2)\n",
    "third_class_survived_f = passanger_class(female_survived_df,3)\n",
    "\n",
    "#series of first,second and third passanger class survivor male\n",
    "first_class = series(first_class_survived_m,'Pclass') #f-class series\n",
    "second_class = series(second_class_survived_m,'Pclass')#s-class series\n",
    "third_class = series(third_class_survived_m,'Pclass') #t-class series\n",
    "\n",
    "#series of first,second and third passanger class survivor female\n",
    "first_class_f = series(first_class_survived_f,'Pclass') #f-class series\n",
    "second_class_f = series(second_class_survived_f,'Pclass') #s-class series\n",
    "third_class_f = series(third_class_survived_f,'Pclass') #t-class series\n"
   ]
  },
  {
   "cell_type": "markdown",
   "metadata": {},
   "source": [
    "## Histogram of Class Survivors for males."
   ]
  },
  {
   "cell_type": "code",
   "execution_count": 67,
   "metadata": {
    "collapsed": false
   },
   "outputs": [
    {
     "data": {
      "image/png": "[encoded data removed]",
      "text/plain": [
       "<matplotlib.figure.Figure at 0x10dc61d90>"
      ]
     },
     "metadata": {},
     "output_type": "display_data"
    }
   ],
   "source": [
    "#Plot histogram of first_class \n",
    "plt.hist(first_class,\n",
    "         bins=1,\n",
    "         color='g',\n",
    "         label='First Class')\n",
    "\n",
    "#plot histogram of second_class \n",
    "plt.hist(second_class,\n",
    "         bins=1,\n",
    "         color='m',\n",
    "         label='Second Class')\n",
    "\n",
    "#plot histogram of third_class \n",
    "plt.hist(third_class, \n",
    "         bins=1,\n",
    "         label='Third Class',\n",
    "         color='c')\n",
    "\n",
    "# Set the x and y boundaries of the figure\n",
    "plt.ylim([0,70])\n",
    "\n",
    "# Set the title and labels \n",
    "plt.title('Histogram of Male Survival by Class')\n",
    "plt.xlabel('Number of Bin Size')\n",
    "plt.ylabel('Survival Rate by Class')\n",
    "plt.legend(loc='upper right')\n",
    "\n",
    "plt.show()\n",
    "# the ship cracks in the middle"
   ]
  },
  {
   "cell_type": "markdown",
   "metadata": {},
   "source": [
    "## Barplot showing average of male survivors by class"
   ]
  },
  {
   "cell_type": "code",
   "execution_count": 68,
   "metadata": {
    "collapsed": false
   },
   "outputs": [
    {
     "data": {
      "image/png": "[encoded data removed]",
      "text/plain": [
       "<matplotlib.figure.Figure at 0x10da672d0>"
      ]
     },
     "metadata": {},
     "output_type": "display_data"
    }
   ],
   "source": [
    "#create a list of the mean scores for each class \n",
    "mean_male_class = [first_class_survived_m['Age'].mean(),second_class_survived_m['Age'].mean(),third_class_survived_m['Age'].mean()]\n",
    "\n",
    "#create a list of variances, which are set at .25 above and below the score\n",
    "variance = [first_class.mean()*0.25,second_class.mean()*0.25,third_class.mean()*0.25]\n",
    "\n",
    "#set the bar labels \n",
    "bar_labels = ['First class', 'Second Class', 'Third Class']\n",
    "\n",
    "#create x position of the bars \n",
    "x_pos = list(range(len(bar_labels)))\n",
    "\n",
    "#create the plot bars\n",
    "#in x position\n",
    "plt.bar(x_pos, \n",
    "       #using the data from teh mean_male_class\n",
    "       mean_male_class,\n",
    "       #with a y-error lines set at variance\n",
    "       yerr=variance,\n",
    "       #aligned in the center\n",
    "       align='center',\n",
    "       #with color\n",
    "       color='m',\n",
    "       #alpha 0.5\n",
    "       alpha=0.5)\n",
    "# add a grid \n",
    "plt.grid() \n",
    "\n",
    "# set heigh of the y-axis \n",
    "max_y = max(zip(mean_male_class,variance)) # returns a tuple\n",
    "plt.ylim([0, (max_y[0] + max_y[1]) * 1.1])\n",
    "\n",
    "# set axes labels and title\n",
    "plt.ylabel('Mean Survival By Age')\n",
    "plt.xticks(x_pos, bar_labels)\n",
    "plt.title('Mean Scores For Class Age Test:')\n",
    "\n",
    "plt.show()"
   ]
  },
  {
   "cell_type": "markdown",
   "metadata": {
    "collapsed": true
   },
   "source": [
    "## Histogram of Female Survivors"
   ]
  },
  {
   "cell_type": "code",
   "execution_count": 7,
   "metadata": {
    "collapsed": false
   },
   "outputs": [
    {
     "data": {
      "image/png": "[encoded data removed]",
      "text/plain": [
       "<matplotlib.figure.Figure at 0x10d70d9d0>"
      ]
     },
     "metadata": {},
     "output_type": "display_data"
    }
   ],
   "source": [
    "#Plot histogram of first_class \n",
    "plt.hist(first_class_f,\n",
    "         bins=1,\n",
    "         color='g',\n",
    "         label='First Class')\n",
    "\n",
    "#plot histogram of second_class \n",
    "plt.hist(second_class_f,\n",
    "         bins=1,\n",
    "         color='m',\n",
    "         label='Second Class')\n",
    "\n",
    "#plot histogram of third_class \n",
    "plt.hist(third_class_f, \n",
    "         bins=1,\n",
    "         label='Third Class',\n",
    "         color='c')\n",
    "\n",
    "# Set the x and y boundaries of the figure\n",
    "plt.ylim([0,100])\n",
    "\n",
    "# Set the title and labels \n",
    "plt.title('Histogram of Female Survival by Class')\n",
    "plt.xlabel('Number of Bin Size')\n",
    "plt.ylabel('Survival Rate by Class')\n",
    "plt.legend(loc='upper right')\n",
    "\n",
    "plt.show()\n",
    "# the ship cracks in the middle"
   ]
  },
  {
   "cell_type": "markdown",
   "metadata": {
    "collapsed": false
   },
   "source": [
    "## Barplot showing average age of female survival by class"
   ]
  },
  {
   "cell_type": "code",
   "execution_count": 69,
   "metadata": {
    "collapsed": false
   },
   "outputs": [
    {
     "data": {
      "image/png": "[encoded data removed]",
      "text/plain": [
       "<matplotlib.figure.Figure at 0x10e249ad0>"
      ]
     },
     "metadata": {},
     "output_type": "display_data"
    }
   ],
   "source": [
    "#create a list of the mean scores for each class \n",
    "mean_female_class = [first_class_survived_f['Age'].mean(),second_class_survived_f['Age'].mean(),\n",
    "                     third_class_survived_f['Age'].mean()]\n",
    "\n",
    "#create a list of variances, which are set at .25 above and below the score\n",
    "variance = [first_class_f.mean()*0.25,second_class_f.mean()*0.25,third_class_f.mean()*0.25]\n",
    "\n",
    "#set the bar labels \n",
    "bar_labels = ['First class', 'Second Class', 'Third Class']\n",
    "\n",
    "#create x position of the bars \n",
    "x_pos = list(range(len(bar_labels)))\n",
    "\n",
    "#create the plot bars\n",
    "#in x position\n",
    "plt.bar(x_pos, \n",
    "       #using the data from teh mean_female_class\n",
    "       mean_female_class,\n",
    "       #with a y-error lines set at variance\n",
    "       yerr=variance,\n",
    "       #aligned in the center\n",
    "       align='center',\n",
    "       #with color\n",
    "       color='b',\n",
    "       #alpha 0.5\n",
    "       alpha=0.5)\n",
    "# add a grid \n",
    "plt.grid() \n",
    "\n",
    "# set heigh of the y-axis \n",
    "max_y = max(zip(mean_female_class,variance)) # returns a tuple\n",
    "plt.ylim([0, (max_y[0] + max_y[1]) * 1.1])\n",
    "\n",
    "# set axes labels and title\n",
    "plt.ylabel('Mean Survival By Age')\n",
    "plt.xticks(x_pos, bar_labels)\n",
    "plt.title('Mean Scores For Class Age Test:')\n",
    "\n",
    "plt.show()"
   ]
  },
  {
   "cell_type": "markdown",
   "metadata": {},
   "source": [
    "## Data Wrangling for Male and Female Deaths. "
   ]
  },
  {
   "cell_type": "code",
   "execution_count": 76,
   "metadata": {
    "collapsed": true
   },
   "outputs": [],
   "source": [
    "#deaths of male and female passangers\n",
    "male_deaths = gender_survial('male',0)\n",
    "female_deaths = gender_survial('female',0)\n",
    "\n",
    "#first class,second and third males who died\n",
    "first_class_death_m = passanger_class(male_deaths,1)\n",
    "second_class_death_m = passanger_class(male_deaths,2)\n",
    "third_class_death_m = passanger_class(male_deaths,3)\n",
    "\n",
    "#first class,second and third females who died\n",
    "first_class_death_f = passanger_class(female_deaths,1)\n",
    "second_class_death_f= passanger_class(female_deaths,2)\n",
    "third_class_death_f = passanger_class(female_deaths,3)\n",
    "\n",
    "#series of first,second and thrid class male deaths\n",
    "first_class_death_males  = series(first_class_death_m,'Pclass') #f-class series\n",
    "second_class_death_males = series(second_class_death_m,'Pclass')#s-class series\n",
    "third_class_death_males  = series(third_class_death_m,'Pclass') #t-class series\n",
    "\n",
    "#series of first,second and third passanger class female deaths\n",
    "first_class_death_females  = series(first_class_death_f,'Pclass') #f-class series\n",
    "second_class_death_females = series(second_class_death_f,'Pclass')#s-class series\n",
    "third_class_death_females  = series(third_class_death_f,'Pclass') #t-class series"
   ]
  },
  {
   "cell_type": "markdown",
   "metadata": {},
   "source": [
    "## Histogram of class deaths for males"
   ]
  },
  {
   "cell_type": "code",
   "execution_count": 83,
   "metadata": {
    "collapsed": false
   },
   "outputs": [
    {
     "data": {
      "image/png": "[encoded data removed]",
      "text/plain": [
       "<matplotlib.figure.Figure at 0x10e620c10>"
      ]
     },
     "metadata": {},
     "output_type": "display_data"
    }
   ],
   "source": [
    "#Plot histogram of first_class_death_males\n",
    "plt.hist(first_class_death_males,\n",
    "         bins=1,\n",
    "         color='g',\n",
    "         label='First Class')\n",
    "\n",
    "#plot histogram of second_class_death_males \n",
    "plt.hist(second_class_death_males,\n",
    "         bins=1,\n",
    "         color='m',\n",
    "         label='Second Class')\n",
    "\n",
    "#plot histogram of third_class_death_males\n",
    "plt.hist(third_class_death_males, \n",
    "         bins=1,\n",
    "         label='Third Class',\n",
    "         color='c')\n",
    "\n",
    "# Set the x and y boundaries of the figure\n",
    "plt.ylim([0,400])\n",
    "\n",
    "# Set the title and labels \n",
    "plt.title('Histogram of Male Deaths by Class')\n",
    "plt.xlabel('Number of Bin Size')\n",
    "plt.ylabel('Death Rate by Class')\n",
    "plt.legend(loc='upper right')\n",
    "\n",
    "plt.show()\n",
    "# the ship cracks in the middle"
   ]
  },
  {
   "cell_type": "markdown",
   "metadata": {},
   "source": [
    "## BarPlot of Mean Age Death for Class Males"
   ]
  },
  {
   "cell_type": "code",
   "execution_count": 92,
   "metadata": {
    "collapsed": false
   },
   "outputs": [
    {
     "data": {
      "image/png": "[encoded data removed]",
      "text/plain": [
       "<matplotlib.figure.Figure at 0x10e33efd0>"
      ]
     },
     "metadata": {},
     "output_type": "display_data"
    }
   ],
   "source": [
    "#create a list of the mean scores for each class \n",
    "mean_male_death_class = [first_class_death_m['Age'].mean(),second_class_death_m['Age'].mean(),third_class_death_m['Age'].mean()]\n",
    "\n",
    "#create a list of variances, which are set at .25 above and below the score\n",
    "variance = [first_class_death_males.mean()*0.25,second_class_death_males.mean()*0.25,third_class_death_males.mean()*0.25]\n",
    "\n",
    "#set the bar labels \n",
    "bar_labels = ['First class', 'Second Class', 'Third Class']\n",
    "\n",
    "#create x position of the bars \n",
    "x_pos = list(range(len(bar_labels)))\n",
    "\n",
    "#create the plot bars\n",
    "#in x position\n",
    "plt.bar(x_pos, \n",
    "       #using the data from teh mean_male_class\n",
    "       mean_male_death_class,\n",
    "       #with a y-error lines set at variance\n",
    "       yerr=variance,\n",
    "       #aligned in the center\n",
    "       align='center',\n",
    "       #with color\n",
    "       color='m',\n",
    "       #alpha 0.5\n",
    "       alpha=0.5)\n",
    "# add a grid \n",
    "plt.grid() \n",
    "\n",
    "# set heigh of the y-axis \n",
    "max_y = max(zip(mean_male_class,variance)) # returns a tuple\n",
    "plt.ylim([0, (max_y[0] + max_y[0]) * 1.1])\n",
    "\n",
    "# set axes labels and title\n",
    "plt.ylabel('Mean Death By Age')\n",
    "plt.xticks(x_pos, bar_labels)\n",
    "plt.title('Mean Scores For Class Age Test:')\n",
    "\n",
    "plt.show()"
   ]
  },
  {
   "cell_type": "markdown",
   "metadata": {},
   "source": [
    "## Histogram of class deaths for females"
   ]
  },
  {
   "cell_type": "code",
   "execution_count": 86,
   "metadata": {
    "collapsed": false
   },
   "outputs": [
    {
     "data": {
      "image/png": "[encoded data removed]",
      "text/plain": [
       "<matplotlib.figure.Figure at 0x10e5fe610>"
      ]
     },
     "metadata": {},
     "output_type": "display_data"
    }
   ],
   "source": [
    "#Plot histogram of first_class_death_males\n",
    "plt.hist(first_class_death_females,\n",
    "         bins=1,\n",
    "         color='g',\n",
    "         label='First Class')\n",
    "\n",
    "#plot histogram of second_class_death_males \n",
    "plt.hist(second_class_death_females,\n",
    "         bins=1,\n",
    "         color='m',\n",
    "         label='Second Class')\n",
    "\n",
    "#plot histogram of third_class_death_males\n",
    "plt.hist(third_class_death_females, \n",
    "         bins=1,\n",
    "         label='Third Class',\n",
    "         color='c')\n",
    "\n",
    "# Set the x and y boundaries of the figure\n",
    "plt.ylim([0,100])\n",
    "\n",
    "# Set the title and labels \n",
    "plt.title('Histogram of Female Deaths by Class')\n",
    "plt.xlabel('Number of Bin Size')\n",
    "plt.ylabel('Death Rate by Class')\n",
    "plt.legend(loc='upper right')\n",
    "\n",
    "plt.show()\n",
    "# the ship cracks in the middle"
   ]
  },
  {
   "cell_type": "markdown",
   "metadata": {},
   "source": [
    "## BarPlot of Mean Age Death for Class Females"
   ]
  },
  {
   "cell_type": "code",
   "execution_count": 91,
   "metadata": {
    "collapsed": false
   },
   "outputs": [
    {
     "data": {
      "image/png": "[encoded data removed]",
      "text/plain": [
       "<matplotlib.figure.Figure at 0x10e1551d0>"
      ]
     },
     "metadata": {},
     "output_type": "display_data"
    }
   ],
   "source": [
    "#create a list of the mean scores for each class \n",
    "mean_female_death_class = [first_class_death_f['Age'].mean(),second_class_death_f['Age'].mean(),third_class_death_f['Age'].mean()]\n",
    "\n",
    "#create a list of variances, which are set at .25 above and below the score\n",
    "variance = [first_class_death_females.mean()*0.25,second_class_death_females.mean()*0.25,third_class_death_females.mean()*0.25]\n",
    "\n",
    "#set the bar labels \n",
    "bar_labels = ['First class', 'Second Class', 'Third Class']\n",
    "\n",
    "#create x position of the bars \n",
    "x_pos = list(range(len(bar_labels)))\n",
    "\n",
    "#create the plot bars\n",
    "#in x position\n",
    "plt.bar(x_pos, \n",
    "       #using the data from teh mean_male_class\n",
    "       mean_female_death_class,\n",
    "       #with a y-error lines set at variance\n",
    "       yerr=variance,\n",
    "       #aligned in the center\n",
    "       align='center',\n",
    "       #with color\n",
    "       color='r',\n",
    "       #alpha 0.5\n",
    "       alpha=0.5)\n",
    "# add a grid \n",
    "plt.grid() \n",
    "\n",
    "# set heigh of the y-axis \n",
    "max_y = max(zip(mean_male_class,variance)) # returns a tuple\n",
    "plt.ylim([0, (max_y[0] + max_y[0]) * 1.1])\n",
    "\n",
    "# set axes labels and title\n",
    "plt.ylabel('Mean Death By Age')\n",
    "plt.xticks(x_pos, bar_labels)\n",
    "plt.title('Mean Scores For Class Age Test:')\n",
    "\n",
    "plt.show()"
   ]
  },
  {
   "cell_type": "markdown",
   "metadata": {},
   "source": [
    "## Data Wrangling for embarked survivors"
   ]
  },
  {
   "cell_type": "code",
   "execution_count": 37,
   "metadata": {
    "collapsed": false
   },
   "outputs": [],
   "source": [
    "#Survivors that embarked at (C = Cherbourg; Q = Queenstown; S = Southampton)\n",
    "#Try to do some correlation between survivors and where they embarked\n",
    "embarked_cdf = titanic_df[(titanic_df['Survived'] == 1) & (titanic_df['Embarked'] == 'C')]\n",
    "embarked_sdf = titanic_df[(titanic_df['Survived'] == 1) & (titanic_df['Embarked'] == 'S')]\n",
    "embarked_qdf = titanic_df[(titanic_df['Survived'] == 1) & (titanic_df['Embarked'] == 'Q')]"
   ]
  },
  {
   "cell_type": "markdown",
   "metadata": {},
   "source": [
    "## Scatter plot of Fare of embarked survivors"
   ]
  },
  {
   "cell_type": "code",
   "execution_count": 70,
   "metadata": {
    "collapsed": false
   },
   "outputs": [
    {
     "data": {
      "image/png": "[encoded data removed]",
      "text/plain": [
       "<matplotlib.figure.Figure at 0x10daba890>"
      ]
     },
     "metadata": {},
     "output_type": "display_data"
    }
   ],
   "source": [
    "#Create a figure \n",
    "plt.figure(figsize=(10,8))\n",
    "\n",
    "#Create a scatter plot of where survivors embarked:\n",
    "\n",
    "            # C embarked as the x axis \n",
    "plt.scatter(embarked_cdf['Fare'], \n",
    "            # as the y axis\n",
    "            embarked_cdf['Age'], \n",
    "            # the marker as,\n",
    "            marker = 'x',\n",
    "            # the color \n",
    "            color = 'b',\n",
    "            # the alpha \n",
    "            alpha = 0.7, \n",
    "            # with size\n",
    "            s = 124, \n",
    "            # labelled this\n",
    "            label = 'C = Cherbourg') \n",
    "\n",
    "            # S embarked as the x axis\n",
    "plt.scatter(embarked_sdf['Fare'], \n",
    "            # as the y axis\n",
    "            embarked_sdf['Age'], \n",
    "            # the marker as,\n",
    "            marker = 'o',\n",
    "            # the color \n",
    "            color = 'r',\n",
    "            # the alpha \n",
    "            alpha = 0.7, \n",
    "            # with size\n",
    "            s = 124, \n",
    "            # labelled this\n",
    "            label = 'S = Southampton') \n",
    "\n",
    "            # Q embarked as the x axis\n",
    "plt.scatter(embarked_qdf['Fare'], \n",
    "            # as the y axis\n",
    "            embarked_qdf['Age'], \n",
    "            # the marker as,\n",
    "            marker = '^',\n",
    "            # the color \n",
    "            color = 'g',\n",
    "            # the alpha \n",
    "            alpha = 0.7, \n",
    "            # with size\n",
    "            s = 124, \n",
    "            # labelled this\n",
    "            label = 'Q = Queenstown')\n",
    "\n",
    "#Chart title \n",
    "plt.title('Embarkment of Titanic Survivors')\n",
    "\n",
    "#y label\n",
    "plt.ylabel('Age of Survivors')\n",
    "\n",
    "#x label \n",
    "plt.xlabel('Fare of Survivors')\n",
    "\n",
    "#and a legend \n",
    "plt.legend(loc='upper right')\n",
    "\n",
    "# set the figure boundaries\n",
    "plt.xlim([min(embarked_qdf['Fare'])-11,max(embarked_cdf['Fare']) + 100])\n",
    "plt.ylim([min(embarked_qdf['Age'])-20, max(embardked_sdf['Age'])+100])\n",
    "plt.show()\n",
    "\n",
    "\n",
    "\n"
   ]
  },
  {
   "cell_type": "code",
   "execution_count": null,
   "metadata": {
    "collapsed": false
   },
   "outputs": [],
   "source": []
  },
  {
   "cell_type": "code",
   "execution_count": 125,
   "metadata": {
    "collapsed": false
   },
   "outputs": [
    {
     "data": {
      "text/plain": [
       "7      False\n",
       "8       True\n",
       "10      True\n",
       "13     False\n",
       "16     False\n",
       "24     False\n",
       "25      True\n",
       "50     False\n",
       "59     False\n",
       "63     False\n",
       "65      True\n",
       "68      True\n",
       "71     False\n",
       "86     False\n",
       "93     False\n",
       "119    False\n",
       "128     True\n",
       "140    False\n",
       "147    False\n",
       "153    False\n",
       "159    False\n",
       "160    False\n",
       "164    False\n",
       "165     True\n",
       "167    False\n",
       "171    False\n",
       "172     True\n",
       "175    False\n",
       "176    False\n",
       "180    False\n",
       "       ...  \n",
       "644     True\n",
       "657    False\n",
       "678    False\n",
       "683    False\n",
       "686    False\n",
       "691     True\n",
       "702    False\n",
       "709     True\n",
       "736    False\n",
       "746    False\n",
       "751     True\n",
       "783    False\n",
       "787    False\n",
       "788     True\n",
       "792    False\n",
       "799    False\n",
       "803     True\n",
       "813    False\n",
       "819    False\n",
       "823     True\n",
       "824    False\n",
       "846    False\n",
       "850    False\n",
       "852    False\n",
       "855     True\n",
       "858     True\n",
       "863    False\n",
       "869     True\n",
       "885    False\n",
       "888    False\n",
       "Name: Survived, dtype: bool"
      ]
     },
     "execution_count": 125,
     "metadata": {},
     "output_type": "execute_result"
    }
   ],
   "source": [
    "titanic_df[(titanic_df['Parch'] > 0) & (titanic_df['Pclass'] == 3)]['Survived'] == 1"
   ]
  },
  {
   "cell_type": "code",
   "execution_count": 126,
   "metadata": {
    "collapsed": false
   },
   "outputs": [
    {
     "ename": "SyntaxError",
     "evalue": "invalid syntax (<ipython-input-126-1d5b7770eb14>, line 1)",
     "output_type": "error",
     "traceback": [
      "\u001b[0;36m  File \u001b[0;32m\"<ipython-input-126-1d5b7770eb14>\"\u001b[0;36m, line \u001b[0;32m1\u001b[0m\n\u001b[0;31m    }|\u001b[0m\n\u001b[0m    ^\u001b[0m\n\u001b[0;31mSyntaxError\u001b[0m\u001b[0;31m:\u001b[0m invalid syntax\n"
     ]
    }
   ],
   "source": []
  },
  {
   "cell_type": "code",
   "execution_count": null,
   "metadata": {
    "collapsed": false
   },
   "outputs": [],
   "source": []
  },
  {
   "cell_type": "code",
   "execution_count": null,
   "metadata": {
    "collapsed": true
   },
   "outputs": [],
   "source": []
  },
  {
   "cell_type": "code",
   "execution_count": null,
   "metadata": {
    "collapsed": false
   },
   "outputs": [],
   "source": []
  },
  {
   "cell_type": "code",
   "execution_count": null,
   "metadata": {
    "collapsed": false
   },
   "outputs": [],
   "source": []
  },
  {
   "cell_type": "code",
   "execution_count": null,
   "metadata": {
    "collapsed": false
   },
   "outputs": [],
   "source": []
  },
  {
   "cell_type": "code",
   "execution_count": null,
   "metadata": {
    "collapsed": false
   },
   "outputs": [],
   "source": []
  },
  {
   "cell_type": "code",
   "execution_count": null,
   "metadata": {
    "collapsed": false
   },
   "outputs": [],
   "source": []
  },
  {
   "cell_type": "code",
   "execution_count": null,
   "metadata": {
    "collapsed": false
   },
   "outputs": [],
   "source": []
  },
  {
   "cell_type": "code",
   "execution_count": null,
   "metadata": {
    "collapsed": true
   },
   "outputs": [],
   "source": []
  },
  {
   "cell_type": "code",
   "execution_count": null,
   "metadata": {
    "collapsed": false
   },
   "outputs": [],
   "source": []
  },
  {
   "cell_type": "code",
   "execution_count": null,
   "metadata": {
    "collapsed": false
   },
   "outputs": [],
   "source": []
  },
  {
   "cell_type": "code",
   "execution_count": null,
   "metadata": {
    "collapsed": false
   },
   "outputs": [],
   "source": []
  },
  {
   "cell_type": "code",
   "execution_count": null,
   "metadata": {
    "collapsed": false
   },
   "outputs": [],
   "source": []
  },
  {
   "cell_type": "code",
   "execution_count": null,
   "metadata": {
    "collapsed": true
   },
   "outputs": [],
   "source": []
  },
  {
   "cell_type": "code",
   "execution_count": null,
   "metadata": {
    "collapsed": false
   },
   "outputs": [],
   "source": []
  },
  {
   "cell_type": "code",
   "execution_count": null,
   "metadata": {
    "collapsed": true
   },
   "outputs": [],
   "source": []
  },
  {
   "cell_type": "code",
   "execution_count": null,
   "metadata": {
    "collapsed": false
   },
   "outputs": [],
   "source": []
  },
  {
   "cell_type": "code",
   "execution_count": null,
   "metadata": {
    "collapsed": false
   },
   "outputs": [],
   "source": []
  },
  {
   "cell_type": "code",
   "execution_count": null,
   "metadata": {
    "collapsed": false
   },
   "outputs": [],
   "source": []
  },
  {
   "cell_type": "code",
   "execution_count": null,
   "metadata": {
    "collapsed": false
   },
   "outputs": [],
   "source": []
  },
  {
   "cell_type": "code",
   "execution_count": null,
   "metadata": {
    "collapsed": false
   },
   "outputs": [],
   "source": []
  },
  {
   "cell_type": "code",
   "execution_count": null,
   "metadata": {
    "collapsed": false
   },
   "outputs": [],
   "source": []
  },
  {
   "cell_type": "code",
   "execution_count": null,
   "metadata": {
    "collapsed": false
   },
   "outputs": [],
   "source": []
  },
  {
   "cell_type": "code",
   "execution_count": null,
   "metadata": {
    "collapsed": false
   },
   "outputs": [],
   "source": []
  },
  {
   "cell_type": "code",
   "execution_count": null,
   "metadata": {
    "collapsed": false
   },
   "outputs": [],
   "source": []
  },
  {
   "cell_type": "code",
   "execution_count": null,
   "metadata": {
    "collapsed": false
   },
   "outputs": [],
   "source": []
  },
  {
   "cell_type": "code",
   "execution_count": null,
   "metadata": {
    "collapsed": false
   },
   "outputs": [],
   "source": [
    "\n"
   ]
  },
  {
   "cell_type": "code",
   "execution_count": null,
   "metadata": {
    "collapsed": false
   },
   "outputs": [],
   "source": []
  },
  {
   "cell_type": "code",
   "execution_count": null,
   "metadata": {
    "collapsed": false
   },
   "outputs": [],
   "source": []
  },
  {
   "cell_type": "code",
   "execution_count": null,
   "metadata": {
    "collapsed": false
   },
   "outputs": [],
   "source": []
  },
  {
   "cell_type": "code",
   "execution_count": null,
   "metadata": {
    "collapsed": false
   },
   "outputs": [],
   "source": []
  },
  {
   "cell_type": "raw",
   "metadata": {},
   "source": []
  },
  {
   "cell_type": "code",
   "execution_count": null,
   "metadata": {
    "collapsed": false
   },
   "outputs": [],
   "source": []
  },
  {
   "cell_type": "code",
   "execution_count": null,
   "metadata": {
    "collapsed": false
   },
   "outputs": [],
   "source": []
  },
  {
   "cell_type": "code",
   "execution_count": null,
   "metadata": {
    "collapsed": false
   },
   "outputs": [],
   "source": []
  },
  {
   "cell_type": "code",
   "execution_count": null,
   "metadata": {
    "collapsed": false
   },
   "outputs": [],
   "source": []
  },
  {
   "cell_type": "code",
   "execution_count": null,
   "metadata": {
    "collapsed": false
   },
   "outputs": [],
   "source": []
  },
  {
   "cell_type": "code",
   "execution_count": null,
   "metadata": {
    "collapsed": true
   },
   "outputs": [],
   "source": []
  },
  {
   "cell_type": "code",
   "execution_count": null,
   "metadata": {
    "collapsed": false
   },
   "outputs": [],
   "source": []
  },
  {
   "cell_type": "code",
   "execution_count": null,
   "metadata": {
    "collapsed": false
   },
   "outputs": [],
   "source": []
  },
  {
   "cell_type": "code",
   "execution_count": null,
   "metadata": {
    "collapsed": false
   },
   "outputs": [],
   "source": []
  },
  {
   "cell_type": "code",
   "execution_count": null,
   "metadata": {
    "collapsed": false
   },
   "outputs": [],
   "source": []
  },
  {
   "cell_type": "code",
   "execution_count": null,
   "metadata": {
    "collapsed": false
   },
   "outputs": [],
   "source": []
  },
  {
   "cell_type": "code",
   "execution_count": null,
   "metadata": {
    "collapsed": false
   },
   "outputs": [],
   "source": []
  },
  {
   "cell_type": "code",
   "execution_count": null,
   "metadata": {
    "collapsed": false
   },
   "outputs": [],
   "source": []
  },
  {
   "cell_type": "code",
   "execution_count": null,
   "metadata": {
    "collapsed": true
   },
   "outputs": [],
   "source": []
  }
 ],
 "metadata": {
  "kernelspec": {
   "display_name": "Python 2",
   "language": "python",
   "name": "python2"
  },
  "language_info": {
   "codemirror_mode": {
    "name": "ipython",
    "version": 2
   },
   "file_extension": ".py",
   "mimetype": "text/x-python",
   "name": "python",
   "nbconvert_exporter": "python",
   "pygments_lexer": "ipython2",
   "version": "2.7.11"
  }
 },
 "nbformat": 4,
 "nbformat_minor": 0
}
