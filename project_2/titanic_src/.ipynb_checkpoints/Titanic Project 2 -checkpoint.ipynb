{
 "cells": [
  {
   "cell_type": "markdown",
   "metadata": {},
   "source": [
    "## Titanic Data Description\n",
    "\n",
    "**VARIABLE DESCRIPTIONS:**\n",
    "* survival        **Survival (0 = No; 1 = Yes)**\n",
    "* pclass          **Passenger Class (1 = 1st; 2 = 2nd; 3 = 3rd)**\n",
    "* name            **Name**\n",
    "* sex             **Sex**\n",
    "* age             **Age**\n",
    "* sibsp           **Number of Siblings/Spouses Aboard**\n",
    "* parch           **Number of Parents/Children Aboard**\n",
    "* ticket          **Ticket Number**\n",
    "* fare            **Passenger Fare**\n",
    "* cabin           **Cabin** \n",
    "* embarked        **Port of Embarkation**\n",
    "                (C = Cherbourg; Q = Queenstown; S = Southampton)\n",
    "\n",
    "**SPECIAL NOTES:**\n",
    "\n",
    "* Pclass is a proxy for socio-economic status (SES)\n",
    "   * 1st ~ Upper; 2nd ~ Middle; 3rd ~ Lower\n",
    "\n",
    "* Age is in Years; Fractional if Age less than One (1)\n",
    "  * If the Age is Estimated, it is in the form xx.5\n",
    "\n",
    "**With respect to the family relation variables (i.e. sibsp and parch)\n",
    "some relations were ignored.  The following are the definitions used\n",
    "for sibsp and parch.** \n",
    "\n",
    "1. *Sibling:  Brother, Sister, Stepbrother, or Stepsister of Passenger Aboard Titanic*. \n",
    "\n",
    "2. *Spouse:   Husband or Wife of Passenger Aboard Titanic (Mistresses and Fiances Ignored)*.\n",
    "\n",
    "3. *Parent:   Mother or Father of Passenger Aboard Titanic*.\n",
    "\n",
    "4. *Child:    Son, Daughter, Stepson, or Stepdaughter of Passenger Aboard Titanic*. \n",
    "\n",
    "Other family relatives excluded from this study include cousins,\n",
    "nephews/nieces, aunts/uncles, and in-laws.  Some children travelled\n",
    "only with a nanny, therefore parch=0 for them.  As well, some\n",
    "travelled with very close friends or neighbors in a village, however,\n",
    "the definitions do not support such relations.\n"
   ]
  },
  {
   "cell_type": "code",
   "execution_count": 93,
   "metadata": {
    "collapsed": false
   },
   "outputs": [
    {
     "data": {
      "text/html": [
       "<iframe width=\"560\" height=\"315\" src=\"https://www.youtube.com/embed/FSGeskFzE0s\"frameborder=\"0\" allowfullscreen></iframe>"
      ],
      "text/plain": [
       "<IPython.core.display.HTML object>"
      ]
     },
     "execution_count": 93,
     "metadata": {},
     "output_type": "execute_result"
    }
   ],
   "source": [
    "%matplotlib inline\n",
    "from IPython.display import HTML\n",
    "import pandas as pd\n",
    "import numpy as np\n",
    "import matplotlib.pyplot as plt\n",
    "import seaborn as sns\n",
    "import scipy\n",
    "from scipy.stats import pearsonr\n",
    "# Description of how the Titanic Sank: \n",
    "HTML(\n",
    "'<iframe width=\"560\" height=\"315\" src=\"https://www.youtube.com/embed/FSGeskFzE0s\"frameborder=\"0\" allowfullscreen></iframe>')"
   ]
  },
  {
   "cell_type": "markdown",
   "metadata": {},
   "source": [
    "## Data Wrangling for Male, Female Survivors and Deaths"
   ]
  },
  {
   "cell_type": "code",
   "execution_count": 210,
   "metadata": {
    "collapsed": false
   },
   "outputs": [],
   "source": [
    "#inspect the titatic-data set. \n",
    "titanic_df = pd.read_csv('titanic-data.csv')\n",
    "titanic_df.head() \n",
    "\n",
    "#filled NaN values with zeror for class 3 passangers. \n",
    "titanic_df = titanic_df.fillna(value=0) \n",
    "\n",
    "#functions \n",
    "def gender_survial(gender,survival):\n",
    "    \"\"\"gender must be of type(str) of either gender\n",
    "       surtival must be of type(int) of either 0 or 1\"\"\"\n",
    "    return titanic_df[((titanic_df['Sex']) == gender) & (titanic_df['Survived'] == survival)]\n",
    "\n",
    "def passanger_class(data,pclass): \n",
    "    \"\"\"data must be of type(DataFrame) of Titanic DF\n",
    "       pclass must be of type(int):= [1,2,3]\"\"\"\n",
    "    return data[data['Pclass'] == pclass]\n",
    "\n",
    "def series(data,column):\n",
    "    \"\"\"returns a series of the dataframe with its respective column.\n",
    "       Column can be of type(str),type(int) and type(float).\"\"\"\n",
    "    return data[column]\n",
    "\n",
    "def embarked_survivors(survived,embarked): \n",
    "    \"\"\"This function returns a dataframe of\n",
    "       passangers who either died of survived and where they embarked\"\"\"\n",
    "    return titanic_df[(titanic_df['Survived'] == survived) & (titanic_df['Embarked'] == embarked)]\n",
    "\n",
    "def class_survivors_victims(survived,pclass):\n",
    "    \"\"\"This buids an overall relationship of class who survived and were victims\"\"\"\n",
    "    return titanic_df[(titanic_df['Survived'] == survived) & (titanic_df['Pclass'] == pclass)]\n",
    "\n",
    "#survived and victim class passangers\n",
    "first_class_survivors = class_survivors_victims(1,1)\n",
    "first_class_victims = class_survivors_victims(0,1)\n",
    "second_class_survivors = class_survivors_victims(1,2)\n",
    "second_class_victims = class_survivors_victims(0,2)\n",
    "third_class_survivors = class_survivors_victims(1,3)\n",
    "third_class_victims = class_survivors_victims(0,3)\n",
    "\n",
    "#survived male passangers & female passangers\n",
    "male_survived_df = gender_survial('male',1)\n",
    "female_survived_df = gender_survial('female',1)\n",
    "\n",
    "#first class, second class and third class males who survived \n",
    "first_class_survived_m = passanger_class(male_survived_df,1)\n",
    "second_class_survived_m= passanger_class(male_survived_df,2)\n",
    "third_class_survived_m = passanger_class(male_survived_df,3)\n",
    "\n",
    "#first class, second class and third class females who survived\n",
    "first_class_survived_f = passanger_class(female_survived_df,1)\n",
    "second_class_survived_f= passanger_class(female_survived_df,2)\n",
    "third_class_survived_f = passanger_class(female_survived_df,3)\n",
    "\n",
    "#series of first,second and third passanger class survivor male\n",
    "first_class = series(first_class_survived_m,'Pclass') #f-class series\n",
    "second_class = series(second_class_survived_m,'Pclass')#s-class series\n",
    "third_class = series(third_class_survived_m,'Pclass') #t-class series\n",
    "\n",
    "#series of first,second and third passanger class survivor female\n",
    "first_class_f = series(first_class_survived_f,'Pclass') #f-class series\n",
    "second_class_f = series(second_class_survived_f,'Pclass') #s-class series\n",
    "third_class_f = series(third_class_survived_f,'Pclass') #t-class series\n",
    "\n",
    "#deaths of male and female passangers\n",
    "male_deaths = gender_survial('male',0)\n",
    "female_deaths = gender_survial('female',0)\n",
    "\n",
    "#first class,second and third males who died\n",
    "first_class_death_m = passanger_class(male_deaths,1)\n",
    "second_class_death_m = passanger_class(male_deaths,2)\n",
    "third_class_death_m = passanger_class(male_deaths,3)\n",
    "\n",
    "#first class,second and third females who died\n",
    "first_class_death_f = passanger_class(female_deaths,1)\n",
    "second_class_death_f= passanger_class(female_deaths,2)\n",
    "third_class_death_f = passanger_class(female_deaths,3)\n",
    "\n",
    "#series of first,second and thrid class male deaths\n",
    "first_class_death_males  = series(first_class_death_m,'Pclass') #f-class series\n",
    "second_class_death_males = series(second_class_death_m,'Pclass')#s-class series\n",
    "third_class_death_males  = series(third_class_death_m,'Pclass') #t-class series\n",
    "\n",
    "#series of first,second and third passanger class female deaths\n",
    "first_class_death_females  = series(first_class_death_f,'Pclass') #f-class series\n",
    "second_class_death_females = series(second_class_death_f,'Pclass')#s-class series\n",
    "third_class_death_females  = series(third_class_death_f,'Pclass') #t-class series"
   ]
  },
  {
   "cell_type": "markdown",
   "metadata": {},
   "source": [
    "## Histogram of Class Survivors, Victims for males and females."
   ]
  },
  {
   "cell_type": "code",
   "execution_count": 213,
   "metadata": {
    "collapsed": false
   },
   "outputs": [
    {
     "data": {
      "image/png": "[encoded data removed]",
      "text/plain": [
       "<matplotlib.figure.Figure at 0x115c86810>"
      ]
     },
     "metadata": {},
     "output_type": "display_data"
    },
    {
     "data": {
      "image/png": "[encoded data removed]",
      "text/plain": [
       "<matplotlib.figure.Figure at 0x115cd9f50>"
      ]
     },
     "metadata": {},
     "output_type": "display_data"
    },
    {
     "data": {
      "image/png": "[encoded data removed]",
      "text/plain": [
       "<matplotlib.figure.Figure at 0x1160a1a50>"
      ]
     },
     "metadata": {},
     "output_type": "display_data"
    },
    {
     "data": {
      "image/png": "[encoded data removed]",
      "text/plain": [
       "<matplotlib.figure.Figure at 0x1161f7790>"
      ]
     },
     "metadata": {},
     "output_type": "display_data"
    }
   ],
   "source": [
    "############################## Males #########################\n",
    "\n",
    "################## Survivied ##########################\n",
    "#Plot histogram of first_class \n",
    "plt.hist(first_class,\n",
    "         bins=1,\n",
    "         color='g',\n",
    "         label='First Class')\n",
    "\n",
    "#plot histogram of second_class \n",
    "plt.hist(second_class,\n",
    "         bins=1,\n",
    "         color='m',\n",
    "         label='Second Class')\n",
    "\n",
    "#plot histogram of third_class \n",
    "plt.hist(third_class, \n",
    "         bins=1,\n",
    "         label='Third Class',\n",
    "         color='c')\n",
    "\n",
    "# Set the x and y boundaries of the figure\n",
    "plt.ylim([0,70])\n",
    "\n",
    "# Set the title and labels \n",
    "plt.title('Histogram of Male Survival by Class')\n",
    "plt.xlabel('Number of Bin Size')\n",
    "plt.ylabel('Survival Rate by Class')\n",
    "plt.legend(loc='upper right')\n",
    "\n",
    "plt.show()\n",
    "# the ship cracks in the middle\n",
    "\n",
    "############################ Victims ####################\n",
    "#Plot histogram of first_class_death_males\n",
    "plt.hist(first_class_death_males,\n",
    "         bins=1,\n",
    "         color='g',\n",
    "         label='First Class')\n",
    "\n",
    "#plot histogram of second_class_death_males \n",
    "plt.hist(second_class_death_males,\n",
    "         bins=1,\n",
    "         color='m',\n",
    "         label='Second Class')\n",
    "\n",
    "#plot histogram of third_class_death_males\n",
    "plt.hist(third_class_death_males, \n",
    "         bins=1,\n",
    "         label='Third Class',\n",
    "         color='c')\n",
    "\n",
    "# Set the x and y boundaries of the figure\n",
    "plt.ylim([0,400])\n",
    "\n",
    "# Set the title and labels \n",
    "plt.title('Histogram of Male Deaths by Class')\n",
    "plt.xlabel('Number of Bin Size')\n",
    "plt.ylabel('Death Rate by Class')\n",
    "plt.legend(loc='upper right')\n",
    "\n",
    "plt.show()\n",
    "# the ship cracks in the middle\n",
    "\n",
    "\n",
    "############################# Females ########################\n",
    "\n",
    "################## Survived #####################\n",
    "#Plot histogram of first_class \n",
    "plt.hist(first_class_f,\n",
    "         bins=1,\n",
    "         color='g',\n",
    "         label='First Class')\n",
    "\n",
    "#plot histogram of second_class \n",
    "plt.hist(second_class_f,\n",
    "         bins=1,\n",
    "         color='m',\n",
    "         label='Second Class')\n",
    "\n",
    "#plot histogram of third_class \n",
    "plt.hist(third_class_f, \n",
    "         bins=1,\n",
    "         label='Third Class',\n",
    "         color='c')\n",
    "\n",
    "# Set the x and y boundaries of the figure\n",
    "plt.ylim([0,100])\n",
    "\n",
    "# Set the title and labels \n",
    "plt.title('Histogram of Female Survival by Class')\n",
    "plt.xlabel('Number of Bin Size')\n",
    "plt.ylabel('Survival Rate by Class')\n",
    "plt.legend(loc='upper right')\n",
    "\n",
    "plt.show()\n",
    "# the ship cracks in the middle\n",
    "\n",
    "################ Victims ####################\n",
    "#Plot histogram of first_class_death_males\n",
    "plt.hist(first_class_death_females,\n",
    "         bins=1,\n",
    "         color='g',\n",
    "         label='First Class')\n",
    "\n",
    "#plot histogram of second_class_death_males \n",
    "plt.hist(second_class_death_females,\n",
    "         bins=1,\n",
    "         color='m',\n",
    "         label='Second Class')\n",
    "\n",
    "#plot histogram of third_class_death_males\n",
    "plt.hist(third_class_death_females, \n",
    "         bins=1,\n",
    "         label='Third Class',\n",
    "         color='c')\n",
    "\n",
    "# Set the x and y boundaries of the figure\n",
    "plt.ylim([0,100])\n",
    "\n",
    "# Set the title and labels \n",
    "plt.title('Histogram of Female Deaths by Class')\n",
    "plt.xlabel('Number of Bin Size')\n",
    "plt.ylabel('Death Rate by Class')\n",
    "plt.legend(loc='upper right')\n",
    "\n",
    "plt.show()\n",
    "# the ship cracks in the middle\n",
    "##############################################################"
   ]
  },
  {
   "cell_type": "markdown",
   "metadata": {},
   "source": [
    "## Barplot showing average fermale, male survivors and victims by class"
   ]
  },
  {
   "cell_type": "code",
   "execution_count": 216,
   "metadata": {
    "collapsed": false
   },
   "outputs": [
    {
     "data": {
      "image/png": "[encoded data removed]",
      "text/plain": [
       "<matplotlib.figure.Figure at 0x11551c590>"
      ]
     },
     "metadata": {},
     "output_type": "display_data"
    },
    {
     "data": {
      "image/png": "[encoded data removed]",
      "text/plain": [
       "<matplotlib.figure.Figure at 0x116181b10>"
      ]
     },
     "metadata": {},
     "output_type": "display_data"
    },
    {
     "data": {
      "image/png": "[encoded data removed]",
      "text/plain": [
       "<matplotlib.figure.Figure at 0x1162b2f90>"
      ]
     },
     "metadata": {},
     "output_type": "display_data"
    },
    {
     "data": {
      "image/png": "[encoded data removed]",
      "text/plain": [
       "<matplotlib.figure.Figure at 0x115dd3050>"
      ]
     },
     "metadata": {},
     "output_type": "display_data"
    }
   ],
   "source": [
    "############################################ Male ##########################################\n",
    "\n",
    "################ Survivors #########################\n",
    "#create a list of the mean scores for each class \n",
    "mean_male_class = [first_class_survived_m['Age'].mean(),second_class_survived_m['Age'].mean(),third_class_survived_m['Age'].mean()]\n",
    "\n",
    "#create a list of variances, which are set at .25 above and below the score\n",
    "variance = [first_class.mean()*0.25,second_class.mean()*0.25,third_class.mean()*0.25]\n",
    "\n",
    "#set the bar labels \n",
    "bar_labels = ['First class', 'Second Class', 'Third Class']\n",
    "\n",
    "#create x position of the bars \n",
    "x_pos = list(range(len(bar_labels)))\n",
    "\n",
    "#create the plot bars\n",
    "#in x position\n",
    "plt.bar(x_pos, \n",
    "       #using the data from teh mean_male_class\n",
    "       mean_male_class,\n",
    "       #with a y-error lines set at variance\n",
    "       yerr=variance,\n",
    "       #aligned in the center\n",
    "       align='center',\n",
    "       #with color\n",
    "       color='m',\n",
    "       #alpha 0.5\n",
    "       alpha=0.5)\n",
    "# add a grid \n",
    "plt.grid() \n",
    "\n",
    "# set heigh of the y-axis \n",
    "max_y = max(zip(mean_male_class,variance)) # returns a tuple\n",
    "plt.ylim([0, (max_y[0] + max_y[1]) * 1.1])\n",
    "\n",
    "# set axes labels and title\n",
    "plt.ylabel('Mean Survival By Age')\n",
    "plt.xticks(x_pos, bar_labels)\n",
    "plt.title('Mean Scores Male For Class Age Test:')\n",
    "\n",
    "plt.show()\n",
    "\n",
    "########### Viticims ###########################\n",
    "#create a list of the mean scores for each class \n",
    "mean_male_death_class = [first_class_death_m['Age'].mean(),second_class_death_m['Age'].mean(),third_class_death_m['Age'].mean()]\n",
    "\n",
    "#create a list of variances, which are set at .25 above and below the score\n",
    "variance = [first_class_death_males.mean()*0.25,second_class_death_males.mean()*0.25,third_class_death_males.mean()*0.25]\n",
    "\n",
    "#set the bar labels \n",
    "bar_labels = ['First class', 'Second Class', 'Third Class']\n",
    "\n",
    "#create x position of the bars \n",
    "x_pos = list(range(len(bar_labels)))\n",
    "\n",
    "#create the plot bars\n",
    "#in x position\n",
    "plt.bar(x_pos, \n",
    "       #using the data from teh mean_male_class\n",
    "       mean_male_death_class,\n",
    "       #with a y-error lines set at variance\n",
    "       yerr=variance,\n",
    "       #aligned in the center\n",
    "       align='center',\n",
    "       #with color\n",
    "       color='m',\n",
    "       #alpha 0.5\n",
    "       alpha=0.5)\n",
    "# add a grid \n",
    "plt.grid() \n",
    "\n",
    "# set heigh of the y-axis \n",
    "max_y = max(zip(mean_male_class,variance)) # returns a tuple\n",
    "plt.ylim([0, (max_y[0] + max_y[0]) * 1.1])\n",
    "\n",
    "# set axes labels and title\n",
    "plt.ylabel('Mean Death By Age')\n",
    "plt.xticks(x_pos, bar_labels)\n",
    "plt.title('Mean Scores For Male Class Age Test:')\n",
    "\n",
    "plt.show()\n",
    "\n",
    "########################################### Female ###################################### \n",
    "\n",
    "############ Survivors ##########################\n",
    "#create a list of the mean scores for each class \n",
    "mean_female_class = [first_class_survived_f['Age'].mean(),second_class_survived_f['Age'].mean(),\n",
    "                     third_class_survived_f['Age'].mean()]\n",
    "\n",
    "#create a list of variances, which are set at .25 above and below the score\n",
    "variance = [first_class_f.mean()*0.25,second_class_f.mean()*0.25,third_class_f.mean()*0.25]\n",
    "\n",
    "#set the bar labels \n",
    "bar_labels = ['First class', 'Second Class', 'Third Class']\n",
    "\n",
    "#create x position of the bars \n",
    "x_pos = list(range(len(bar_labels)))\n",
    "\n",
    "#create the plot bars\n",
    "#in x position\n",
    "plt.bar(x_pos, \n",
    "       #using the data from teh mean_female_class\n",
    "       mean_female_class,\n",
    "       #with a y-error lines set at variance\n",
    "       yerr=variance,\n",
    "       #aligned in the center\n",
    "       align='center',\n",
    "       #with color\n",
    "       color='b',\n",
    "       #alpha 0.5\n",
    "       alpha=0.5)\n",
    "# add a grid \n",
    "plt.grid() \n",
    "\n",
    "# set heigh of the y-axis \n",
    "max_y = max(zip(mean_female_class,variance)) # returns a tuple\n",
    "plt.ylim([0, (max_y[0] + max_y[1]) * 1.1])\n",
    "\n",
    "# set axes labels and title\n",
    "plt.ylabel('Mean Survival By Age')\n",
    "plt.xticks(x_pos, bar_labels)\n",
    "plt.title('Mean Scores For Female Class Age Test:')\n",
    "\n",
    "plt.show()\n",
    "\n",
    "#################### Victims ###################### \n",
    "#create a list of the mean scores for each class \n",
    "mean_female_death_class = [first_class_death_f['Age'].mean(),second_class_death_f['Age'].mean(),third_class_death_f['Age'].mean()]\n",
    "\n",
    "#create a list of variances, which are set at .25 above and below the score\n",
    "variance = [first_class_death_females.mean()*0.25,second_class_death_females.mean()*0.25,third_class_death_females.mean()*0.25]\n",
    "\n",
    "#set the bar labels \n",
    "bar_labels = ['First class', 'Second Class', 'Third Class']\n",
    "\n",
    "#create x position of the bars \n",
    "x_pos = list(range(len(bar_labels)))\n",
    "\n",
    "#create the plot bars\n",
    "#in x position\n",
    "plt.bar(x_pos, \n",
    "       #using the data from teh mean_male_class\n",
    "       mean_female_death_class,\n",
    "       #with a y-error lines set at variance\n",
    "       yerr=variance,\n",
    "       #aligned in the center\n",
    "       align='center',\n",
    "       #with color\n",
    "       color='b',\n",
    "       #alpha 0.5\n",
    "       alpha=0.5)\n",
    "# add a grid \n",
    "plt.grid() \n",
    "\n",
    "# set heigh of the y-axis \n",
    "max_y = max(zip(mean_male_class,variance)) # returns a tuple\n",
    "plt.ylim([0, (max_y[0] + max_y[0]) * 1.1])\n",
    "\n",
    "# set axes labels and title\n",
    "plt.ylabel('Mean Death By Age')\n",
    "plt.xticks(x_pos, bar_labels)\n",
    "plt.title('Mean Scores For Female Class Age Test:')\n",
    "\n",
    "plt.show()\n"
   ]
  },
  {
   "cell_type": "markdown",
   "metadata": {
    "collapsed": true
   },
   "source": [
    "## BarPlot Survived Class and Victim Class Average"
   ]
  },
  {
   "cell_type": "code",
   "execution_count": 254,
   "metadata": {
    "collapsed": false
   },
   "outputs": [
    {
     "data": {
      "image/png": "[encoded data removed]",
      "text/plain": [
       "<matplotlib.figure.Figure at 0x115cc9110>"
      ]
     },
     "metadata": {},
     "output_type": "display_data"
    }
   ],
   "source": [
    "#survived and victim class passangers\n",
    "from pylab import *\n",
    "first_class_survivors = class_survivors_victims(1,1)\n",
    "first_class_victims = class_survivors_victims(0,1)\n",
    "second_class_survivors = class_survivors_victims(1,2)\n",
    "second_class_victims = class_survivors_victims(0,2)\n",
    "third_class_survivors = class_survivors_victims(1,3)\n",
    "third_class_victims = class_survivors_victims(0,3)\n",
    "\n",
    "#merge by victim and survivors by class \n",
    "first_class_merge = first_class_survivors.merge(first_class_victims, how='outer')\n",
    "second_class_merge = second_class_survivors.merge(second_class_victims,how='outer')\n",
    "third_class_merge = third_class_survivors.merge(third_class_victims,how=\"outer\")\n",
    "# make square figure axes \n",
    "figure(1,figsize=(6,6))\n",
    "ax = axes([0.1,0.1,0.8,0.8])\n",
    "\n",
    "# The slices will be ordered and plotted counter-clockwise\n",
    "labels = 'First Class Survivors','First Class Victims','Average Age of Survivors'\n",
    "fracs = [62,34,32]\n",
    "explode = (0.05,0,0)\n",
    "\n",
    "# Make Pie Chart \n",
    "pie(fracs,explode=explode,labels=labels,autopct='%1.1f%%',shadow=True,startangle=90)\n",
    "               \n",
    "# Make Title \n",
    "title('Titanic Survivors By Class', bbox={'facecolor': \"0.8\", \"pad\": 5})\n",
    "show() "
   ]
  },
  {
   "cell_type": "markdown",
   "metadata": {
    "collapsed": false
   },
   "source": []
  },
  {
   "cell_type": "code",
   "execution_count": 226,
   "metadata": {
    "collapsed": false
   },
   "outputs": [
    {
     "data": {
      "text/html": [
       "<div>\n",
       "<table border=\"1\" class=\"dataframe\">\n",
       "  <thead>\n",
       "    <tr style=\"text-align: right;\">\n",
       "      <th></th>\n",
       "      <th>PassengerId</th>\n",
       "      <th>Survived</th>\n",
       "      <th>Pclass</th>\n",
       "      <th>Age</th>\n",
       "      <th>SibSp</th>\n",
       "      <th>Parch</th>\n",
       "      <th>Fare</th>\n",
       "    </tr>\n",
       "  </thead>\n",
       "  <tbody>\n",
       "    <tr>\n",
       "      <th>count</th>\n",
       "      <td>136.000000</td>\n",
       "      <td>136.0</td>\n",
       "      <td>136.0</td>\n",
       "      <td>136.000000</td>\n",
       "      <td>136.000000</td>\n",
       "      <td>136.000000</td>\n",
       "      <td>136.000000</td>\n",
       "    </tr>\n",
       "    <tr>\n",
       "      <th>mean</th>\n",
       "      <td>491.772059</td>\n",
       "      <td>1.0</td>\n",
       "      <td>1.0</td>\n",
       "      <td>31.727353</td>\n",
       "      <td>0.492647</td>\n",
       "      <td>0.389706</td>\n",
       "      <td>95.608029</td>\n",
       "    </tr>\n",
       "    <tr>\n",
       "      <th>std</th>\n",
       "      <td>239.006988</td>\n",
       "      <td>0.0</td>\n",
       "      <td>0.0</td>\n",
       "      <td>16.913693</td>\n",
       "      <td>0.632412</td>\n",
       "      <td>0.690387</td>\n",
       "      <td>85.286820</td>\n",
       "    </tr>\n",
       "    <tr>\n",
       "      <th>min</th>\n",
       "      <td>2.000000</td>\n",
       "      <td>1.0</td>\n",
       "      <td>1.0</td>\n",
       "      <td>0.000000</td>\n",
       "      <td>0.000000</td>\n",
       "      <td>0.000000</td>\n",
       "      <td>25.929200</td>\n",
       "    </tr>\n",
       "    <tr>\n",
       "      <th>25%</th>\n",
       "      <td>307.750000</td>\n",
       "      <td>1.0</td>\n",
       "      <td>1.0</td>\n",
       "      <td>22.000000</td>\n",
       "      <td>0.000000</td>\n",
       "      <td>0.000000</td>\n",
       "      <td>50.985450</td>\n",
       "    </tr>\n",
       "    <tr>\n",
       "      <th>50%</th>\n",
       "      <td>510.500000</td>\n",
       "      <td>1.0</td>\n",
       "      <td>1.0</td>\n",
       "      <td>33.500000</td>\n",
       "      <td>0.000000</td>\n",
       "      <td>0.000000</td>\n",
       "      <td>77.958300</td>\n",
       "    </tr>\n",
       "    <tr>\n",
       "      <th>75%</th>\n",
       "      <td>693.500000</td>\n",
       "      <td>1.0</td>\n",
       "      <td>1.0</td>\n",
       "      <td>43.250000</td>\n",
       "      <td>1.000000</td>\n",
       "      <td>1.000000</td>\n",
       "      <td>111.481225</td>\n",
       "    </tr>\n",
       "    <tr>\n",
       "      <th>max</th>\n",
       "      <td>890.000000</td>\n",
       "      <td>1.0</td>\n",
       "      <td>1.0</td>\n",
       "      <td>80.000000</td>\n",
       "      <td>3.000000</td>\n",
       "      <td>2.000000</td>\n",
       "      <td>512.329200</td>\n",
       "    </tr>\n",
       "  </tbody>\n",
       "</table>\n",
       "</div>"
      ],
      "text/plain": [
       "       PassengerId  Survived  Pclass         Age       SibSp       Parch  \\\n",
       "count   136.000000     136.0   136.0  136.000000  136.000000  136.000000   \n",
       "mean    491.772059       1.0     1.0   31.727353    0.492647    0.389706   \n",
       "std     239.006988       0.0     0.0   16.913693    0.632412    0.690387   \n",
       "min       2.000000       1.0     1.0    0.000000    0.000000    0.000000   \n",
       "25%     307.750000       1.0     1.0   22.000000    0.000000    0.000000   \n",
       "50%     510.500000       1.0     1.0   33.500000    0.000000    0.000000   \n",
       "75%     693.500000       1.0     1.0   43.250000    1.000000    1.000000   \n",
       "max     890.000000       1.0     1.0   80.000000    3.000000    2.000000   \n",
       "\n",
       "             Fare  \n",
       "count  136.000000  \n",
       "mean    95.608029  \n",
       "std     85.286820  \n",
       "min     25.929200  \n",
       "25%     50.985450  \n",
       "50%     77.958300  \n",
       "75%    111.481225  \n",
       "max    512.329200  "
      ]
     },
     "execution_count": 226,
     "metadata": {},
     "output_type": "execute_result"
    }
   ],
   "source": [
    "first_class_survivors.describe() "
   ]
  },
  {
   "cell_type": "markdown",
   "metadata": {},
   "source": []
  },
  {
   "cell_type": "code",
   "execution_count": 231,
   "metadata": {
    "collapsed": false
   },
   "outputs": [
    {
     "data": {
      "text/html": [
       "<div>\n",
       "<table border=\"1\" class=\"dataframe\">\n",
       "  <thead>\n",
       "    <tr style=\"text-align: right;\">\n",
       "      <th></th>\n",
       "      <th>PassengerId</th>\n",
       "      <th>Survived</th>\n",
       "      <th>Pclass</th>\n",
       "      <th>Age</th>\n",
       "      <th>SibSp</th>\n",
       "      <th>Parch</th>\n",
       "      <th>Fare</th>\n",
       "    </tr>\n",
       "  </thead>\n",
       "  <tbody>\n",
       "    <tr>\n",
       "      <th>count</th>\n",
       "      <td>216.000000</td>\n",
       "      <td>216.000000</td>\n",
       "      <td>216.0</td>\n",
       "      <td>216.000000</td>\n",
       "      <td>216.000000</td>\n",
       "      <td>216.000000</td>\n",
       "      <td>216.000000</td>\n",
       "    </tr>\n",
       "    <tr>\n",
       "      <th>mean</th>\n",
       "      <td>461.597222</td>\n",
       "      <td>0.629630</td>\n",
       "      <td>1.0</td>\n",
       "      <td>32.923241</td>\n",
       "      <td>0.416667</td>\n",
       "      <td>0.356481</td>\n",
       "      <td>84.154687</td>\n",
       "    </tr>\n",
       "    <tr>\n",
       "      <th>std</th>\n",
       "      <td>246.737616</td>\n",
       "      <td>0.484026</td>\n",
       "      <td>0.0</td>\n",
       "      <td>19.083794</td>\n",
       "      <td>0.611898</td>\n",
       "      <td>0.693997</td>\n",
       "      <td>78.380373</td>\n",
       "    </tr>\n",
       "    <tr>\n",
       "      <th>min</th>\n",
       "      <td>2.000000</td>\n",
       "      <td>0.000000</td>\n",
       "      <td>1.0</td>\n",
       "      <td>0.000000</td>\n",
       "      <td>0.000000</td>\n",
       "      <td>0.000000</td>\n",
       "      <td>0.000000</td>\n",
       "    </tr>\n",
       "    <tr>\n",
       "      <th>25%</th>\n",
       "      <td>270.750000</td>\n",
       "      <td>0.000000</td>\n",
       "      <td>1.0</td>\n",
       "      <td>21.750000</td>\n",
       "      <td>0.000000</td>\n",
       "      <td>0.000000</td>\n",
       "      <td>30.923950</td>\n",
       "    </tr>\n",
       "    <tr>\n",
       "      <th>50%</th>\n",
       "      <td>472.000000</td>\n",
       "      <td>1.000000</td>\n",
       "      <td>1.0</td>\n",
       "      <td>35.000000</td>\n",
       "      <td>0.000000</td>\n",
       "      <td>0.000000</td>\n",
       "      <td>60.287500</td>\n",
       "    </tr>\n",
       "    <tr>\n",
       "      <th>75%</th>\n",
       "      <td>670.500000</td>\n",
       "      <td>1.000000</td>\n",
       "      <td>1.0</td>\n",
       "      <td>47.250000</td>\n",
       "      <td>1.000000</td>\n",
       "      <td>0.000000</td>\n",
       "      <td>93.500000</td>\n",
       "    </tr>\n",
       "    <tr>\n",
       "      <th>max</th>\n",
       "      <td>890.000000</td>\n",
       "      <td>1.000000</td>\n",
       "      <td>1.0</td>\n",
       "      <td>80.000000</td>\n",
       "      <td>3.000000</td>\n",
       "      <td>4.000000</td>\n",
       "      <td>512.329200</td>\n",
       "    </tr>\n",
       "  </tbody>\n",
       "</table>\n",
       "</div>"
      ],
      "text/plain": [
       "       PassengerId    Survived  Pclass         Age       SibSp       Parch  \\\n",
       "count   216.000000  216.000000   216.0  216.000000  216.000000  216.000000   \n",
       "mean    461.597222    0.629630     1.0   32.923241    0.416667    0.356481   \n",
       "std     246.737616    0.484026     0.0   19.083794    0.611898    0.693997   \n",
       "min       2.000000    0.000000     1.0    0.000000    0.000000    0.000000   \n",
       "25%     270.750000    0.000000     1.0   21.750000    0.000000    0.000000   \n",
       "50%     472.000000    1.000000     1.0   35.000000    0.000000    0.000000   \n",
       "75%     670.500000    1.000000     1.0   47.250000    1.000000    0.000000   \n",
       "max     890.000000    1.000000     1.0   80.000000    3.000000    4.000000   \n",
       "\n",
       "             Fare  \n",
       "count  216.000000  \n",
       "mean    84.154687  \n",
       "std     78.380373  \n",
       "min      0.000000  \n",
       "25%     30.923950  \n",
       "50%     60.287500  \n",
       "75%     93.500000  \n",
       "max    512.329200  "
      ]
     },
     "execution_count": 231,
     "metadata": {},
     "output_type": "execute_result"
    }
   ],
   "source": [
    "first_class_survivors.merge(first_class_victims, how='outer').describe()"
   ]
  },
  {
   "cell_type": "markdown",
   "metadata": {},
   "source": []
  },
  {
   "cell_type": "code",
   "execution_count": 255,
   "metadata": {
    "collapsed": false
   },
   "outputs": [],
   "source": [
    "fracs = [62,34,32]"
   ]
  },
  {
   "cell_type": "markdown",
   "metadata": {},
   "source": []
  },
  {
   "cell_type": "code",
   "execution_count": null,
   "metadata": {
    "collapsed": false
   },
   "outputs": [],
   "source": []
  },
  {
   "cell_type": "markdown",
   "metadata": {},
   "source": []
  },
  {
   "cell_type": "code",
   "execution_count": null,
   "metadata": {
    "collapsed": false
   },
   "outputs": [],
   "source": []
  },
  {
   "cell_type": "markdown",
   "metadata": {},
   "source": []
  },
  {
   "cell_type": "code",
   "execution_count": null,
   "metadata": {
    "collapsed": false
   },
   "outputs": [],
   "source": []
  },
  {
   "cell_type": "markdown",
   "metadata": {},
   "source": [
    "## Data Wrangling for embarked survivors"
   ]
  },
  {
   "cell_type": "code",
   "execution_count": 200,
   "metadata": {
    "collapsed": false
   },
   "outputs": [],
   "source": [
    "#Survivors that embarked at (C = Cherbourg; Q = Queenstown; S = Southampton)\n",
    "#Try to do some correlation between survivors and where they embarked\n",
    "embarked_cdf = embarked_survivors(1,'C')\n",
    "embarked_sdf = embarked_survivors(1,'S')\n",
    "embarked_qdf = embarked_survivors(1,'Q')\n",
    "\n",
    "#Deaths that embarked at (C = Cherbourg; Q = Queenstown; S = Southampton)\n",
    "embarked_death_cdf = embarked_survivors(0,'C')\n",
    "embarked_death_sdf = embarked_survivors(0,'S')\n",
    "embarked_death_qdf = embarked_survivors(0,'Q')\n",
    "\n",
    "#Concat frames of the embarked survivors denoted frames. \n",
    "frames = [embarked_cdf, embarked_qdf, embarked_sdf]\n",
    "embarked_frames = pd.concat(frames)\n",
    "\n",
    "#Concat frames of the embarked deaths denoted frames. \n",
    "frames_death = [embarked_death_cdf,embarked_death_sdf,embarked_death_qdf]\n",
    "embarked_death_frames = pd.concat(frames_death)\n",
    "\n",
    "\n"
   ]
  },
  {
   "cell_type": "markdown",
   "metadata": {},
   "source": [
    "## Scatter plot of Fare of embarked survivors"
   ]
  },
  {
   "cell_type": "code",
   "execution_count": 70,
   "metadata": {
    "collapsed": false
   },
   "outputs": [
    {
     "data": {
      "image/png": "[encoded data removed]",
      "text/plain": [
       "<matplotlib.figure.Figure at 0x10daba890>"
      ]
     },
     "metadata": {},
     "output_type": "display_data"
    }
   ],
   "source": [
    "#Create a figure \n",
    "plt.figure(figsize=(10,8))\n",
    "\n",
    "#Create a scatter plot of where survivors embarked:\n",
    "\n",
    "            # C embarked as the x axis \n",
    "plt.scatter(embarked_cdf['Fare'], \n",
    "            # as the y axis\n",
    "            embarked_cdf['Age'], \n",
    "            # the marker as,\n",
    "            marker = 'x',\n",
    "            # the color \n",
    "            color = 'b',\n",
    "            # the alpha \n",
    "            alpha = 0.7, \n",
    "            # with size\n",
    "            s = 124, \n",
    "            # labelled this\n",
    "            label = 'C = Cherbourg') \n",
    "\n",
    "            # S embarked as the x axis\n",
    "plt.scatter(embarked_sdf['Fare'], \n",
    "            # as the y axis\n",
    "            embarked_sdf['Age'], \n",
    "            # the marker as,\n",
    "            marker = 'o',\n",
    "            # the color \n",
    "            color = 'r',\n",
    "            # the alpha \n",
    "            alpha = 0.7, \n",
    "            # with size\n",
    "            s = 124, \n",
    "            # labelled this\n",
    "            label = 'S = Southampton') \n",
    "\n",
    "            # Q embarked as the x axis\n",
    "plt.scatter(embarked_qdf['Fare'], \n",
    "            # as the y axis\n",
    "            embarked_qdf['Age'], \n",
    "            # the marker as,\n",
    "            marker = '^',\n",
    "            # the color \n",
    "            color = 'g',\n",
    "            # the alpha \n",
    "            alpha = 0.7, \n",
    "            # with size\n",
    "            s = 124, \n",
    "            # labelled this\n",
    "            label = 'Q = Queenstown')\n",
    "\n",
    "#Chart title \n",
    "plt.title('Embarkment of Titanic Survivors')\n",
    "\n",
    "#y label\n",
    "plt.ylabel('Age of Survivors')\n",
    "\n",
    "#x label \n",
    "plt.xlabel('Fare of Survivors')\n",
    "\n",
    "#and a legend \n",
    "plt.legend(loc='upper right')\n",
    "\n",
    "# set the figure boundaries\n",
    "plt.xlim([min(embarked_qdf['Fare'])-11,max(embarked_cdf['Fare']) + 100])\n",
    "plt.ylim([min(embarked_qdf['Age'])-20, max(embardked_sdf['Age'])+100])\n",
    "plt.show()\n",
    "\n",
    "\n",
    "\n"
   ]
  },
  {
   "cell_type": "markdown",
   "metadata": {
    "collapsed": false
   },
   "source": [
    "## Scatter plot of Embarked Deaths"
   ]
  },
  {
   "cell_type": "code",
   "execution_count": 202,
   "metadata": {
    "collapsed": false
   },
   "outputs": [
    {
     "data": {
      "image/png": "[encoded data removed]",
      "text/plain": [
       "<matplotlib.figure.Figure at 0x11511ed50>"
      ]
     },
     "metadata": {},
     "output_type": "display_data"
    }
   ],
   "source": [
    "#Create a figure \n",
    "plt.figure(figsize=(10,8))\n",
    "\n",
    "#Create a scatter plot of where survivors embarked:\n",
    "\n",
    "            # C embarked as the x axis \n",
    "plt.scatter(embarked_death_cdf['Fare'], \n",
    "            # as the y axis\n",
    "            embarked_death_cdf['Age'], \n",
    "            # the marker as,\n",
    "            marker = 'x',\n",
    "            # the color \n",
    "            color = 'b',\n",
    "            # the alpha \n",
    "            alpha = 0.7, \n",
    "            # with size\n",
    "            s = 124, \n",
    "            # labelled this\n",
    "            label = 'C = Cherbourg') \n",
    "\n",
    "            # S embarked as the x axis\n",
    "plt.scatter(embarked_death_sdf['Fare'], \n",
    "            # as the y axis\n",
    "            embarked_death_sdf['Age'], \n",
    "            # the marker as,\n",
    "            marker = 'o',\n",
    "            # the color \n",
    "            color = 'r',\n",
    "            # the alpha \n",
    "            alpha = 0.7, \n",
    "            # with size\n",
    "            s = 124, \n",
    "            # labelled this\n",
    "            label = 'S = Southampton') \n",
    "\n",
    "            # Q embarked as the x axis\n",
    "plt.scatter(embarked_death_qdf['Fare'], \n",
    "            # as the y axis\n",
    "            embarked_death_qdf['Age'], \n",
    "            # the marker as,\n",
    "            marker = '^',\n",
    "            # the color \n",
    "            color = 'g',\n",
    "            # the alpha \n",
    "            alpha = 0.7, \n",
    "            # with size\n",
    "            s = 124, \n",
    "            # labelled this\n",
    "            label = 'Q = Queenstown')\n",
    "\n",
    "#Chart title \n",
    "plt.title('Embarkment of Titanic Survivors')\n",
    "\n",
    "#y label\n",
    "plt.ylabel('Age of Death')\n",
    "\n",
    "#x label \n",
    "plt.xlabel('Fare of Death')\n",
    "\n",
    "#and a legend \n",
    "plt.legend(loc='upper right')\n",
    "\n",
    "# set the figure boundaries\n",
    "plt.xlim([min(embarked_qdf['Fare'])-11,max(embarked_cdf['Fare']) + 100])\n",
    "plt.ylim([min(embarked_qdf['Age'])-20, max(embardked_sdf['Age'])+100])\n",
    "plt.show()\n",
    "\n"
   ]
  },
  {
   "cell_type": "code",
   "execution_count": 206,
   "metadata": {
    "collapsed": false
   },
   "outputs": [
    {
     "data": {
      "text/plain": [
       "(0.13551585352705101, 4.9462438889547957e-05)"
      ]
     },
     "execution_count": 206,
     "metadata": {},
     "output_type": "execute_result"
    },
    {
     "data": {
      "image/png": "[encoded data removed]",
      "text/plain": [
       "<matplotlib.figure.Figure at 0x1155c7a50>"
      ]
     },
     "metadata": {},
     "output_type": "display_data"
    }
   ],
   "source": [
    "#plot persons r correlation coefficient and show a linear distribution. \n",
    "sns.regplot(x='Age',y='Fare',fit_reg=True,data=titanic_df)\n",
    "scipy.stats.pearsonr(titanic_df['Age'],titanic_df['Fare'])"
   ]
  },
  {
   "cell_type": "code",
   "execution_count": null,
   "metadata": {
    "collapsed": false
   },
   "outputs": [],
   "source": []
  },
  {
   "cell_type": "code",
   "execution_count": null,
   "metadata": {
    "collapsed": false
   },
   "outputs": [],
   "source": []
  },
  {
   "cell_type": "code",
   "execution_count": null,
   "metadata": {
    "collapsed": false
   },
   "outputs": [],
   "source": []
  },
  {
   "cell_type": "code",
   "execution_count": null,
   "metadata": {
    "collapsed": false
   },
   "outputs": [],
   "source": []
  },
  {
   "cell_type": "code",
   "execution_count": null,
   "metadata": {
    "collapsed": false
   },
   "outputs": [],
   "source": []
  },
  {
   "cell_type": "code",
   "execution_count": null,
   "metadata": {
    "collapsed": false
   },
   "outputs": [],
   "source": []
  },
  {
   "cell_type": "code",
   "execution_count": null,
   "metadata": {
    "collapsed": false
   },
   "outputs": [],
   "source": []
  },
  {
   "cell_type": "code",
   "execution_count": null,
   "metadata": {
    "collapsed": false
   },
   "outputs": [],
   "source": []
  },
  {
   "cell_type": "code",
   "execution_count": null,
   "metadata": {
    "collapsed": false
   },
   "outputs": [],
   "source": []
  },
  {
   "cell_type": "code",
   "execution_count": null,
   "metadata": {
    "collapsed": false
   },
   "outputs": [],
   "source": []
  },
  {
   "cell_type": "code",
   "execution_count": null,
   "metadata": {
    "collapsed": false
   },
   "outputs": [],
   "source": []
  },
  {
   "cell_type": "code",
   "execution_count": null,
   "metadata": {
    "collapsed": false
   },
   "outputs": [],
   "source": []
  },
  {
   "cell_type": "code",
   "execution_count": null,
   "metadata": {
    "collapsed": false
   },
   "outputs": [],
   "source": []
  },
  {
   "cell_type": "code",
   "execution_count": null,
   "metadata": {
    "collapsed": false
   },
   "outputs": [],
   "source": []
  },
  {
   "cell_type": "code",
   "execution_count": null,
   "metadata": {
    "collapsed": false
   },
   "outputs": [],
   "source": []
  },
  {
   "cell_type": "code",
   "execution_count": null,
   "metadata": {
    "collapsed": true
   },
   "outputs": [],
   "source": []
  },
  {
   "cell_type": "code",
   "execution_count": null,
   "metadata": {
    "collapsed": false
   },
   "outputs": [],
   "source": []
  },
  {
   "cell_type": "code",
   "execution_count": null,
   "metadata": {
    "collapsed": false
   },
   "outputs": [],
   "source": []
  },
  {
   "cell_type": "code",
   "execution_count": null,
   "metadata": {
    "collapsed": false
   },
   "outputs": [],
   "source": []
  },
  {
   "cell_type": "code",
   "execution_count": null,
   "metadata": {
    "collapsed": false
   },
   "outputs": [],
   "source": []
  },
  {
   "cell_type": "code",
   "execution_count": null,
   "metadata": {
    "collapsed": false
   },
   "outputs": [],
   "source": []
  },
  {
   "cell_type": "code",
   "execution_count": null,
   "metadata": {
    "collapsed": false
   },
   "outputs": [],
   "source": []
  },
  {
   "cell_type": "code",
   "execution_count": null,
   "metadata": {
    "collapsed": false
   },
   "outputs": [],
   "source": []
  },
  {
   "cell_type": "code",
   "execution_count": null,
   "metadata": {
    "collapsed": false
   },
   "outputs": [],
   "source": []
  },
  {
   "cell_type": "code",
   "execution_count": null,
   "metadata": {
    "collapsed": false
   },
   "outputs": [],
   "source": []
  },
  {
   "cell_type": "code",
   "execution_count": null,
   "metadata": {
    "collapsed": false
   },
   "outputs": [],
   "source": []
  },
  {
   "cell_type": "code",
   "execution_count": null,
   "metadata": {
    "collapsed": false
   },
   "outputs": [],
   "source": [
    "\n"
   ]
  },
  {
   "cell_type": "code",
   "execution_count": null,
   "metadata": {
    "collapsed": false
   },
   "outputs": [],
   "source": []
  },
  {
   "cell_type": "code",
   "execution_count": null,
   "metadata": {
    "collapsed": false
   },
   "outputs": [],
   "source": []
  },
  {
   "cell_type": "code",
   "execution_count": null,
   "metadata": {
    "collapsed": false
   },
   "outputs": [],
   "source": []
  },
  {
   "cell_type": "code",
   "execution_count": null,
   "metadata": {
    "collapsed": false
   },
   "outputs": [],
   "source": []
  },
  {
   "cell_type": "raw",
   "metadata": {},
   "source": []
  },
  {
   "cell_type": "code",
   "execution_count": null,
   "metadata": {
    "collapsed": false
   },
   "outputs": [],
   "source": []
  },
  {
   "cell_type": "code",
   "execution_count": null,
   "metadata": {
    "collapsed": false
   },
   "outputs": [],
   "source": []
  },
  {
   "cell_type": "code",
   "execution_count": null,
   "metadata": {
    "collapsed": false
   },
   "outputs": [],
   "source": []
  },
  {
   "cell_type": "code",
   "execution_count": null,
   "metadata": {
    "collapsed": false
   },
   "outputs": [],
   "source": []
  },
  {
   "cell_type": "code",
   "execution_count": null,
   "metadata": {
    "collapsed": false
   },
   "outputs": [],
   "source": []
  },
  {
   "cell_type": "code",
   "execution_count": null,
   "metadata": {
    "collapsed": true
   },
   "outputs": [],
   "source": []
  },
  {
   "cell_type": "code",
   "execution_count": null,
   "metadata": {
    "collapsed": false
   },
   "outputs": [],
   "source": []
  },
  {
   "cell_type": "code",
   "execution_count": null,
   "metadata": {
    "collapsed": false
   },
   "outputs": [],
   "source": []
  },
  {
   "cell_type": "code",
   "execution_count": null,
   "metadata": {
    "collapsed": false
   },
   "outputs": [],
   "source": []
  },
  {
   "cell_type": "code",
   "execution_count": null,
   "metadata": {
    "collapsed": false
   },
   "outputs": [],
   "source": []
  },
  {
   "cell_type": "code",
   "execution_count": null,
   "metadata": {
    "collapsed": false
   },
   "outputs": [],
   "source": []
  },
  {
   "cell_type": "code",
   "execution_count": null,
   "metadata": {
    "collapsed": false
   },
   "outputs": [],
   "source": []
  },
  {
   "cell_type": "code",
   "execution_count": null,
   "metadata": {
    "collapsed": false
   },
   "outputs": [],
   "source": []
  },
  {
   "cell_type": "code",
   "execution_count": null,
   "metadata": {
    "collapsed": true
   },
   "outputs": [],
   "source": []
  }
 ],
 "metadata": {
  "kernelspec": {
   "display_name": "Python 2",
   "language": "python",
   "name": "python2"
  },
  "language_info": {
   "codemirror_mode": {
    "name": "ipython",
    "version": 2
   },
   "file_extension": ".py",
   "mimetype": "text/x-python",
   "name": "python",
   "nbconvert_exporter": "python",
   "pygments_lexer": "ipython2",
   "version": "2.7.11"
  }
 },
 "nbformat": 4,
 "nbformat_minor": 0
}
