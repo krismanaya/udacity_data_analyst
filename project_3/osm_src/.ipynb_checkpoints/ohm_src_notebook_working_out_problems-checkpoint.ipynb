{
 "cells": [
  {
   "cell_type": "code",
   "execution_count": 1,
   "metadata": {
    "collapsed": false
   },
   "outputs": [],
   "source": [
    "import xml.etree.cElementTree as ET\n",
    "from collections import defaultdict \n",
    "import re \n",
    "import pprint\n",
    "import sample_file as sf #sample_file.py in ./osm_src\n",
    "import data as d\n",
    "street_type_re = re.compile(r'\\b\\S+\\.?$', re.IGNORECASE)\n",
    "\n",
    "\n",
    "sf.get_element('sacramento.osm') #write a sample\n",
    "expected = [\"Street\", \"Avenue\", \"Boulevard\", \"Drive\", \"Court\", \"Place\", \"Square\", \"Lane\", \"Road\", \n",
    "            \"Trail\", \"Parkway\", \"Commons\"]\n",
    "\n",
    "# UPDATE THIS VARIABLE\n",
    "mapping = { \"St\"  : \"Street\",\n",
    "            \"St.\" : \"Street\",\n",
    "            \"Ave\" : \"Avenue\",\n",
    "            \"Ave.\": \"Avenue\",\n",
    "            \"Rd.\" : \"Road\",\n",
    "            'Rd'  : 'Road',\n",
    "            'Ct'  : 'Court',\n",
    "            'Ct.' : 'Court', \n",
    "            'Blvd': 'Boulevard', \n",
    "            'Blvd.' : 'Boulevard',\n",
    "            'Dr'  : 'Drive', \n",
    "            'Dr.' : 'Drive',\n",
    "            'PlaceZ': 'Place'}\n"
   ]
  },
  {
   "cell_type": "code",
   "execution_count": 2,
   "metadata": {
    "collapsed": false
   },
   "outputs": [],
   "source": [
    "element = d.get_element('sample.osm', tags=('node','way')) # get element. "
   ]
  },
  {
   "cell_type": "code",
   "execution_count": 18,
   "metadata": {
    "collapsed": false
   },
   "outputs": [
    {
     "name": "stdout",
     "output_type": "stream",
     "text": [
      "{'Blvd': set(['Northgate Blvd']),\n",
      " 'Blvd.': set(['Auburn Blvd.']),\n",
      " 'Broadway': set(['Broadway']),\n",
      " 'Circle': set(['Evergreen Circle',\n",
      "                'Gooseberry Circle',\n",
      "                'Half Moon Bay Circle',\n",
      "                'Kathy Circle',\n",
      "                'Meadowlark Circle',\n",
      "                'Park Circle',\n",
      "                'Pitzer Circle']),\n",
      " 'Ingoglia': set(['Via Ingoglia']),\n",
      " 'PlaceZ': set(['Town Center PlaceZ']),\n",
      " 'Terrace': set(['Simon Terrace']),\n",
      " 'Way': set(['Arden Way',\n",
      "             'Chaparral Way',\n",
      "             'Cummins Way',\n",
      "             'Franklin Way',\n",
      "             'Hickory Way',\n",
      "             'Manzanita Way',\n",
      "             'Merced Way',\n",
      "             'Oakmont Way',\n",
      "             'Paradise Way',\n",
      "             'Rubicon Way',\n",
      "             'Shasta Way',\n",
      "             'Spruce Way',\n",
      "             'Trinity Way'])}\n"
     ]
    }
   ],
   "source": [
    "audit_sample = d.audit('sample.osm')\n",
    "pprint.pprint(dict(audit_sample))"
   ]
  },
  {
   "cell_type": "code",
   "execution_count": 22,
   "metadata": {
    "collapsed": false,
    "scrolled": false
   },
   "outputs": [
    {
     "name": "stdout",
     "output_type": "stream",
     "text": [
      "{'Blvd': set(['Northgate Blvd']),\n",
      " 'Blvd.': set(['Auburn Blvd.']),\n",
      " 'Broadway': set(['Broadway']),\n",
      " 'Circle': set(['Evergreen Circle',\n",
      "                'Gooseberry Circle',\n",
      "                'Half Moon Bay Circle',\n",
      "                'Kathy Circle',\n",
      "                'Meadowlark Circle',\n",
      "                'Park Circle',\n",
      "                'Pitzer Circle']),\n",
      " 'Ingoglia': set(['Via Ingoglia']),\n",
      " 'PlaceZ': set(['Town Center PlaceZ']),\n",
      " 'Terrace': set(['Simon Terrace']),\n",
      " 'Way': set(['Arden Way',\n",
      "             'Chaparral Way',\n",
      "             'Cummins Way',\n",
      "             'Franklin Way',\n",
      "             'Hickory Way',\n",
      "             'Manzanita Way',\n",
      "             'Merced Way',\n",
      "             'Oakmont Way',\n",
      "             'Paradise Way',\n",
      "             'Rubicon Way',\n",
      "             'Shasta Way',\n",
      "             'Spruce Way',\n",
      "             'Trinity Way'])}\n"
     ]
    },
    {
     "ename": "KeyError",
     "evalue": "'PlaceZ'",
     "output_type": "error",
     "traceback": [
      "\u001b[0;31m---------------------------------------------------------------------------\u001b[0m",
      "\u001b[0;31mKeyError\u001b[0m                                  Traceback (most recent call last)",
      "\u001b[0;32m<ipython-input-22-505c7b9a5483>\u001b[0m in \u001b[0;36m<module>\u001b[0;34m()\u001b[0m\n\u001b[1;32m     14\u001b[0m \u001b[0;34m\u001b[0m\u001b[0m\n\u001b[1;32m     15\u001b[0m \u001b[0;32mif\u001b[0m \u001b[0m__name__\u001b[0m \u001b[0;34m==\u001b[0m \u001b[0;34m'__main__'\u001b[0m\u001b[0;34m:\u001b[0m\u001b[0;34m\u001b[0m\u001b[0m\n\u001b[0;32m---> 16\u001b[0;31m     \u001b[0mtest\u001b[0m\u001b[0;34m(\u001b[0m\u001b[0;34m)\u001b[0m\u001b[0;34m\u001b[0m\u001b[0m\n\u001b[0m",
      "\u001b[0;32m<ipython-input-22-505c7b9a5483>\u001b[0m in \u001b[0;36mtest\u001b[0;34m()\u001b[0m\n\u001b[1;32m      5\u001b[0m     \u001b[0;32mfor\u001b[0m \u001b[0mst_type\u001b[0m\u001b[0;34m,\u001b[0m \u001b[0mways\u001b[0m \u001b[0;32min\u001b[0m \u001b[0mst_types\u001b[0m\u001b[0;34m.\u001b[0m\u001b[0miteritems\u001b[0m\u001b[0;34m(\u001b[0m\u001b[0;34m)\u001b[0m\u001b[0;34m:\u001b[0m\u001b[0;34m\u001b[0m\u001b[0m\n\u001b[1;32m      6\u001b[0m         \u001b[0;32mfor\u001b[0m \u001b[0mname\u001b[0m \u001b[0;32min\u001b[0m \u001b[0mways\u001b[0m\u001b[0;34m:\u001b[0m\u001b[0;34m\u001b[0m\u001b[0m\n\u001b[0;32m----> 7\u001b[0;31m             \u001b[0mbetter_name\u001b[0m \u001b[0;34m=\u001b[0m \u001b[0md\u001b[0m\u001b[0;34m.\u001b[0m\u001b[0mupdate_name\u001b[0m\u001b[0;34m(\u001b[0m\u001b[0mname\u001b[0m\u001b[0;34m,\u001b[0m \u001b[0mmapping\u001b[0m\u001b[0;34m)\u001b[0m\u001b[0;34m\u001b[0m\u001b[0m\n\u001b[0m\u001b[1;32m      8\u001b[0m             \u001b[0;32mprint\u001b[0m \u001b[0mname\u001b[0m\u001b[0;34m,\u001b[0m \u001b[0;34m\"=>\"\u001b[0m\u001b[0;34m,\u001b[0m \u001b[0mbetter_name\u001b[0m\u001b[0;34m\u001b[0m\u001b[0m\n\u001b[1;32m      9\u001b[0m             \u001b[0;32mif\u001b[0m \u001b[0mname\u001b[0m \u001b[0;34m==\u001b[0m \u001b[0;34m\"West Lexington St.\"\u001b[0m\u001b[0;34m:\u001b[0m\u001b[0;34m\u001b[0m\u001b[0m\n",
      "\u001b[0;32m/Users/Anaya/repos/udacity_data_analyst/project_3/osm_src/data.py\u001b[0m in \u001b[0;36mupdate_name\u001b[0;34m(name, mapping)\u001b[0m\n\u001b[1;32m    139\u001b[0m         \u001b[0mm\u001b[0m \u001b[0;34m=\u001b[0m \u001b[0mstreet_type_re\u001b[0m\u001b[0;34m.\u001b[0m\u001b[0msearch\u001b[0m\u001b[0;34m(\u001b[0m\u001b[0mname\u001b[0m\u001b[0;34m)\u001b[0m\u001b[0;34m\u001b[0m\u001b[0m\n\u001b[1;32m    140\u001b[0m         \u001b[0;32mif\u001b[0m \u001b[0mm\u001b[0m \u001b[0;32mnot\u001b[0m \u001b[0;32min\u001b[0m \u001b[0mexpected\u001b[0m\u001b[0;34m:\u001b[0m\u001b[0;34m\u001b[0m\u001b[0m\n\u001b[0;32m--> 141\u001b[0;31m             \u001b[0mname\u001b[0m \u001b[0;34m=\u001b[0m \u001b[0mre\u001b[0m\u001b[0;34m.\u001b[0m\u001b[0msub\u001b[0m\u001b[0;34m(\u001b[0m\u001b[0mm\u001b[0m\u001b[0;34m.\u001b[0m\u001b[0mgroup\u001b[0m\u001b[0;34m(\u001b[0m\u001b[0;34m)\u001b[0m\u001b[0;34m,\u001b[0m \u001b[0mmapping\u001b[0m\u001b[0;34m[\u001b[0m\u001b[0mm\u001b[0m\u001b[0;34m.\u001b[0m\u001b[0mgroup\u001b[0m\u001b[0;34m(\u001b[0m\u001b[0;34m)\u001b[0m\u001b[0;34m]\u001b[0m\u001b[0;34m,\u001b[0m \u001b[0mname\u001b[0m\u001b[0;34m)\u001b[0m\u001b[0;34m\u001b[0m\u001b[0m\n\u001b[0m\u001b[1;32m    142\u001b[0m \u001b[0;34m\u001b[0m\u001b[0m\n\u001b[1;32m    143\u001b[0m         \u001b[0;32mreturn\u001b[0m \u001b[0mname\u001b[0m\u001b[0;34m\u001b[0m\u001b[0m\n",
      "\u001b[0;31mKeyError\u001b[0m: 'PlaceZ'"
     ]
    }
   ],
   "source": [
    "def test():\n",
    "    st_types = d.audit('sample.osm')\n",
    "    pprint.pprint(dict(st_types))\n",
    "\n",
    "    for st_type, ways in st_types.iteritems():\n",
    "        for name in ways:\n",
    "            better_name = d.update_name(name, mapping)\n",
    "            print name, \"=>\", better_name\n",
    "            if name == \"West Lexington St.\":\n",
    "                assert better_name == \"West Lexington Street\"\n",
    "            if name == \"Baldwin Rd.\":\n",
    "                assert better_name == \"Baldwin Road\"\n",
    "\n",
    "\n",
    "if __name__ == '__main__':\n",
    "    test()"
   ]
  },
  {
   "cell_type": "code",
   "execution_count": 23,
   "metadata": {
    "collapsed": false
   },
   "outputs": [],
   "source": []
  },
  {
   "cell_type": "code",
   "execution_count": 25,
   "metadata": {
    "collapsed": false
   },
   "outputs": [
    {
     "name": "stdout",
     "output_type": "stream",
     "text": [
      "<_sre.SRE_Match object at 0x1039157e8>\n"
     ]
    }
   ],
   "source": []
  },
  {
   "cell_type": "code",
   "execution_count": null,
   "metadata": {
    "collapsed": false
   },
   "outputs": [],
   "source": []
  },
  {
   "cell_type": "code",
   "execution_count": 139,
   "metadata": {
    "collapsed": false
   },
   "outputs": [],
   "source": [
    "street_type_re = re.compile(r'\\b\\S+\\.?$', re.IGNORECASE)\n",
    "\n",
    "expected = [\"Street\", \"Avenue\", \"Boulevard\", \"Drive\", \"Court\", \"Place\", \"Square\", \"Lane\", \"Road\", \n",
    "            \"Trail\", \"Parkway\", \"Commons\"]\n",
    "\n",
    "\n",
    "\n",
    "def is_street_name(elem):\n",
    "    return (elem.attrib['k'] == \"addr:street\")\n",
    "\n",
    "def is_post_code(elem): \n",
    "    return (elem.attrib['k'] == 'addr:postcode')\n",
    "\n",
    "def audit_inconsistent_zip(osmfile):\n",
    "    inconsistent_zip = []\n",
    "    osm_file = open(osmfile, 'r')\n",
    "    for event, elem in ET.iterparse(osm_file,events=('start',)): \n",
    "        \n",
    "        if elem.tag == 'node' or elem.tag == 'way': \n",
    "            for tag in elem.iter('tag'): \n",
    "                if is_post_code(tag) and len(tag.attrib['v']) != 5: \n",
    "                    inconsistent_zip.append(tag.attrib['v'])\n",
    "    osm_file.close()\n",
    "    return inconsistent_zip\n",
    "\n",
    "def check_zip(osmfile): \n",
    "    osm_file = open(osmfile,'r') #open file\n",
    "    zip_sac = [] #list of all zip codes in Sacramento County \n",
    "    for event, elem in ET.iterparse(osm_file,events=('start',)): \n",
    "        \n",
    "        if elem.tag == 'node' or elem.tag == 'way': \n",
    "            for tag in elem.iter('tag'): \n",
    "                if is_post_code(tag): # use the element attrib for 'addr:postcode'\n",
    "                    zip_sac.append(tag.attrib['v']) # append them all\n",
    "    osm_file.close()\n",
    "    return zip_sac\n",
    "\n",
    "def audit_incorrect_zip(osmfile):\n",
    "    incorrect_zip = set() #for unique inconsistent zips we use a set.\n",
    "    for zip_codes in check_zip(osmfile): \n",
    "        m = re.search(r'95', zip_codes, re.M|re.I) #checks for '95' in zip codes\n",
    "        if m: \n",
    "            pass #passing the correct ones \n",
    "        else: \n",
    "            incorrect_zip.add(zip_codes)\n",
    "    return incorrect_zip\n",
    "    \n",
    "def audit_street_type(street_types, street_name):\n",
    "    m = street_type_re.search(street_name)\n",
    "    if m:\n",
    "        street_type = m.group()\n",
    "        if street_type not in expected:\n",
    "            street_types[street_type].add(street_name)\n",
    "            \n",
    "def audit_check_street(osmfile):\n",
    "    osm_file = open(osmfile, \"r\")\n",
    "    street_types = defaultdict(set)\n",
    "    for event, elem in ET.iterparse(osm_file, events=(\"start\",)):\n",
    "\n",
    "        if elem.tag == \"node\" or elem.tag == \"way\":\n",
    "            for tag in elem.iter(\"tag\"):\n",
    "                if is_street_name(tag):\n",
    "                    audit_street_type(street_types, tag.attrib['v'])\n",
    "    osm_file.close()\n",
    "    return street_types\n",
    "# audit_zip inconsistent: \n",
    "# ['95832-1447','CA 95826','CA 95819','CA 95834','CA 95834','2557','95819-6055','95819-6055','95819-6055','CA 95832',\n",
    "# 'CA 95822','95832-1447','CA 95626','95826-2625','95819-6024','95819-6138']\n",
    "\n",
    "\n",
    "#audit_incorrect_zip: \n",
    "#{'2557', '85834', '96816', '98584'}"
   ]
  },
  {
   "cell_type": "code",
   "execution_count": null,
   "metadata": {
    "collapsed": false
   },
   "outputs": [],
   "source": []
  },
  {
   "cell_type": "code",
   "execution_count": null,
   "metadata": {
    "collapsed": false
   },
   "outputs": [],
   "source": []
  },
  {
   "cell_type": "code",
   "execution_count": null,
   "metadata": {
    "collapsed": false
   },
   "outputs": [],
   "source": []
  },
  {
   "cell_type": "code",
   "execution_count": null,
   "metadata": {
    "collapsed": false
   },
   "outputs": [],
   "source": []
  },
  {
   "cell_type": "code",
   "execution_count": null,
   "metadata": {
    "collapsed": false
   },
   "outputs": [],
   "source": []
  },
  {
   "cell_type": "code",
   "execution_count": null,
   "metadata": {
    "collapsed": true
   },
   "outputs": [],
   "source": []
  },
  {
   "cell_type": "code",
   "execution_count": null,
   "metadata": {
    "collapsed": true
   },
   "outputs": [],
   "source": []
  }
 ],
 "metadata": {
  "kernelspec": {
   "display_name": "Python 2",
   "language": "python",
   "name": "python2"
  },
  "language_info": {
   "codemirror_mode": {
    "name": "ipython",
    "version": 2
   },
   "file_extension": ".py",
   "mimetype": "text/x-python",
   "name": "python",
   "nbconvert_exporter": "python",
   "pygments_lexer": "ipython2",
   "version": "2.7.11"
  }
 },
 "nbformat": 4,
 "nbformat_minor": 0
}
