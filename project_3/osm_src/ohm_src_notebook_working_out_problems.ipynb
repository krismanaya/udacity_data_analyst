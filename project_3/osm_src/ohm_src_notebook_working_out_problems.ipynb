{
 "cells": [
  {
   "cell_type": "code",
   "execution_count": 40,
   "metadata": {
    "collapsed": false
   },
   "outputs": [],
   "source": [
    "import xml.etree.cElementTree as ET\n",
    "from collections import defaultdict \n",
    "import re \n",
    "import pprint\n",
    "import sample_file as sf #sample_file.py in ./osm_src\n",
    "import data as d\n",
    "\n",
    "sf.get_element('sacramento.osm') #write a sample\n",
    "expected = [\"Street\", \"Avenue\", \"Boulevard\", \"Drive\", \"Court\", \"Place\", \"Square\", \"Lane\", \"Road\", \n",
    "            \"Trail\", \"Parkway\", \"Commons\", 'Terrace', 'Ingoglia','Broadway','Circle','Way']\n",
    "mapping = { \"St\"  : \"Street\",\n",
    "            \"St.\" : \"Street\",\n",
    "            'ST'  : 'Street',\n",
    "            \"Ave\" : \"Avenue\",\n",
    "            \"Ave.\": \"Avenue\",\n",
    "            \"Rd.\" : \"Road\",\n",
    "            'Rd'  : 'Road',\n",
    "            'Ct'  : 'Court',\n",
    "            'Ct.' : 'Court', \n",
    "            'Blvd': 'Boulevard', \n",
    "            'Blvd.' : 'Boulevard',\n",
    "            'Dr'  : 'Drive', \n",
    "            'Dr.' : 'Drive',\n",
    "            'PlaceZ': 'Plaza',\n",
    "            'Ln.' : 'Lane',\n",
    "            'PKWY': 'Parkway'}\n",
    "\n",
    "\n"
   ]
  },
  {
   "cell_type": "code",
   "execution_count": 2,
   "metadata": {
    "collapsed": false
   },
   "outputs": [],
   "source": [
    "element = d.get_element('sample.osm', tags=('node','way')) # get element. "
   ]
  },
  {
   "cell_type": "code",
   "execution_count": 18,
   "metadata": {
    "collapsed": false,
    "scrolled": true
   },
   "outputs": [],
   "source": [
    "def is_post_code(elem): \n",
    "    return (elem.attrib['k'] == 'addr:postcode')\n",
    "\n",
    "def audit_inconsistent_zip(osmfile):\n",
    "    inconsistent_zip = []\n",
    "    osm_file = open(osmfile, 'r')\n",
    "    for event, elem in ET.iterparse(osm_file,events=('start',)): \n",
    "        \n",
    "        if elem.tag == 'node' or elem.tag == 'way': \n",
    "            for tag in elem.iter('tag'): \n",
    "                if is_post_code(tag) and len(tag.attrib['v']) != 5: \n",
    "                    inconsistent_zip.append(tag.attrib['v'])\n",
    "    osm_file.close()\n",
    "    return inconsistent_zip\n",
    "                    "
   ]
  },
  {
   "cell_type": "code",
   "execution_count": 27,
   "metadata": {
    "collapsed": false,
    "scrolled": true
   },
   "outputs": [
    {
     "data": {
      "text/plain": [
       "['95832-1447',\n",
       " 'CA 95826',\n",
       " 'CA 95819',\n",
       " 'CA 95834',\n",
       " 'CA 95834',\n",
       " '2557',\n",
       " '95819-6055',\n",
       " '95819-6055',\n",
       " '95819-6055',\n",
       " 'CA 95832',\n",
       " 'CA 95822',\n",
       " '95832-1447',\n",
       " 'CA 95626',\n",
       " '95826-2625',\n",
       " '95819-6024',\n",
       " '95819-6138']"
      ]
     },
     "execution_count": 27,
     "metadata": {},
     "output_type": "execute_result"
    }
   ],
   "source": [
    "audit_inconsistent_zip('sacramento.osm')"
   ]
  },
  {
   "cell_type": "code",
   "execution_count": 30,
   "metadata": {
    "collapsed": false
   },
   "outputs": [],
   "source": [
    "def update_zip(zip_code,mapping):\n",
    "    m = re.search(r'95', tag, re.M|re.I)\n",
    "    if m.group in mapping.keys():\n",
    "        zip_code = re.sub(m.group(),mapping[m.group()], zip_code)\n",
    "    return zip_code\n",
    "    "
   ]
  },
  {
   "cell_type": "code",
   "execution_count": 25,
   "metadata": {
    "collapsed": false
   },
   "outputs": [
    {
     "name": "stdout",
     "output_type": "stream",
     "text": [
      "<_sre.SRE_Match object at 0x1039157e8>\n"
     ]
    }
   ],
   "source": []
  },
  {
   "cell_type": "code",
   "execution_count": 83,
   "metadata": {
    "collapsed": false,
    "scrolled": true
   },
   "outputs": [
    {
     "ename": "AttributeError",
     "evalue": "'NoneType' object has no attribute 'group'",
     "output_type": "error",
     "traceback": [
      "\u001b[0;31m---------------------------------------------------------------------------\u001b[0m",
      "\u001b[0;31mAttributeError\u001b[0m                            Traceback (most recent call last)",
      "\u001b[0;32m<ipython-input-83-5d9f2bfe1114>\u001b[0m in \u001b[0;36m<module>\u001b[0;34m()\u001b[0m\n\u001b[1;32m     34\u001b[0m \u001b[0;34m\u001b[0m\u001b[0m\n\u001b[1;32m     35\u001b[0m \u001b[0;32mfor\u001b[0m \u001b[0mzip_codes\u001b[0m \u001b[0;32min\u001b[0m \u001b[0maudit_inconsistent_zip\u001b[0m\u001b[0;34m(\u001b[0m\u001b[0;34m'sacramento.osm'\u001b[0m\u001b[0;34m)\u001b[0m\u001b[0;34m:\u001b[0m\u001b[0;34m\u001b[0m\u001b[0m\n\u001b[0;32m---> 36\u001b[0;31m         \u001b[0mbetter_zip\u001b[0m \u001b[0;34m=\u001b[0m \u001b[0mupdate_zip\u001b[0m\u001b[0;34m(\u001b[0m\u001b[0mzip_codes\u001b[0m\u001b[0;34m,\u001b[0m\u001b[0mzip_mapping\u001b[0m\u001b[0;34m)\u001b[0m\u001b[0;34m\u001b[0m\u001b[0m\n\u001b[0m\u001b[1;32m     37\u001b[0m         \u001b[0;32mprint\u001b[0m \u001b[0mzip_codes\u001b[0m\u001b[0;34m,\u001b[0m \u001b[0;34m'=>'\u001b[0m\u001b[0;34m,\u001b[0m \u001b[0mbetter_zip\u001b[0m\u001b[0;34m\u001b[0m\u001b[0m\n",
      "\u001b[0;32m<ipython-input-83-5d9f2bfe1114>\u001b[0m in \u001b[0;36mupdate_zip\u001b[0;34m(name, mapping)\u001b[0m\n\u001b[1;32m     29\u001b[0m     \u001b[0mz\u001b[0m \u001b[0;34m=\u001b[0m \u001b[0mzip_type_re\u001b[0m\u001b[0;34m.\u001b[0m\u001b[0msearch\u001b[0m\u001b[0;34m(\u001b[0m\u001b[0mname\u001b[0m\u001b[0;34m)\u001b[0m\u001b[0;34m\u001b[0m\u001b[0m\n\u001b[1;32m     30\u001b[0m     \u001b[0;32mif\u001b[0m \u001b[0mz\u001b[0m \u001b[0;32mnot\u001b[0m \u001b[0;32min\u001b[0m \u001b[0mexpected\u001b[0m\u001b[0;34m:\u001b[0m\u001b[0;34m\u001b[0m\u001b[0m\n\u001b[0;32m---> 31\u001b[0;31m         \u001b[0;32mif\u001b[0m \u001b[0mz\u001b[0m\u001b[0;34m.\u001b[0m\u001b[0mgroup\u001b[0m\u001b[0;34m(\u001b[0m\u001b[0;34m)\u001b[0m \u001b[0;32min\u001b[0m \u001b[0mzip_mapping\u001b[0m\u001b[0;34m.\u001b[0m\u001b[0mkeys\u001b[0m\u001b[0;34m(\u001b[0m\u001b[0;34m)\u001b[0m\u001b[0;34m:\u001b[0m \u001b[0;31m#create a map that takes anything with '95' and replaces it.\u001b[0m\u001b[0;34m\u001b[0m\u001b[0m\n\u001b[0m\u001b[1;32m     32\u001b[0m             \u001b[0mname\u001b[0m \u001b[0;34m=\u001b[0m \u001b[0mre\u001b[0m\u001b[0;34m.\u001b[0m\u001b[0msub\u001b[0m\u001b[0;34m(\u001b[0m\u001b[0mz\u001b[0m\u001b[0;34m.\u001b[0m\u001b[0mgroup\u001b[0m\u001b[0;34m(\u001b[0m\u001b[0;34m)\u001b[0m\u001b[0;34m,\u001b[0m\u001b[0mzip_mapping\u001b[0m\u001b[0;34m[\u001b[0m\u001b[0mz\u001b[0m\u001b[0;34m.\u001b[0m\u001b[0mgroup\u001b[0m\u001b[0;34m(\u001b[0m\u001b[0;34m)\u001b[0m\u001b[0;34m]\u001b[0m\u001b[0;34m,\u001b[0m \u001b[0mname\u001b[0m\u001b[0;34m)\u001b[0m\u001b[0;34m\u001b[0m\u001b[0m\n\u001b[1;32m     33\u001b[0m     \u001b[0;32mreturn\u001b[0m \u001b[0mname\u001b[0m\u001b[0;34m\u001b[0m\u001b[0m\n",
      "\u001b[0;31mAttributeError\u001b[0m: 'NoneType' object has no attribute 'group'"
     ]
    }
   ],
   "source": [
    "zip_type_re = re.compile(\"(^\\w*\\s.*\\d$)\")\n",
    "zip_mapping = {'95832-1447' : '95832',\n",
    "               'CA 95826'   : '95826',\n",
    "               'CA 95819'   : '95819',\n",
    "               'CA 95834'   : '95834',\n",
    "               '95819-6055' : '95819',\n",
    "               'CA 95832'   : '95832',\n",
    "               'CA 95822'   : '95822',\n",
    "               '95832-1447' : '95832',\n",
    "               'CA 95626'   : '95626',\n",
    "               '95826-2625' : '95826',\n",
    "               '95819-6024' : '95819',\n",
    "               '95819-6138' : '95819'}\n",
    "\n",
    "expected = ['95816']\n",
    "def audit_inconsistent_zip(osmfile): #collects inconsist zip_codes in a list. \n",
    "    inconsistent_zip = []\n",
    "    osm_file = open(osmfile, 'r')\n",
    "    for event, elem in ET.iterparse(osm_file,events=('start',)): \n",
    "        \n",
    "        if elem.tag == 'node' or elem.tag == 'way': \n",
    "            for tag in elem.iter('tag'): \n",
    "                if is_post_code(tag) and len(tag.attrib['v']) != 5: \n",
    "                    inconsistent_zip.append(tag.attrib['v'])\n",
    "    osm_file.close()\n",
    "    return inconsistent_zip\n",
    "\n",
    "def update_zip(name,mapping): \n",
    "    z = zip_type_re.search(name)\n",
    "    if z not in expected:\n",
    "        if z.group() in zip_mapping.keys(): #create a map that takes anything with '95' and replaces it.\n",
    "            name = re.sub(z.group(),zip_mapping[z.group()], name)\n",
    "    return name\n",
    "\n",
    "for zip_codes in audit_inconsistent_zip('sacramento.osm'): \n",
    "        better_zip = update_zip(zip_codes,zip_mapping)\n",
    "        print zip_codes, '=>', better_zip\n"
   ]
  },
  {
   "cell_type": "code",
   "execution_count": 75,
   "metadata": {
    "collapsed": false
   },
   "outputs": [],
   "source": [
    "street_type_re = re.compile(r'\\b\\S+\\.?$', re.IGNORECASE)\n",
    "\n",
    "expected = [\"Street\", \"Avenue\", \"Boulevard\", \"Drive\", \"Court\", \"Place\", \"Square\", \"Lane\", \"Road\", \n",
    "            \"Trail\", \"Parkway\", \"Commons\"]\n",
    "\n",
    "\n",
    "\n",
    "def is_street_name(elem):\n",
    "    return (elem.attrib['k'] == \"addr:street\")\n",
    "\n",
    "def is_post_code(elem): \n",
    "    return (elem.attrib['k'] == 'addr:postcode')\n",
    "\n",
    "def audit_inconsistent_zip(osmfile):\n",
    "    inconsistent_zip = []\n",
    "    osm_file = open(osmfile, 'r')\n",
    "    for event, elem in ET.iterparse(osm_file,events=('start',)): \n",
    "        \n",
    "        if elem.tag == 'node' or elem.tag == 'way': \n",
    "            for tag in elem.iter('tag'): \n",
    "                if is_post_code(tag) and len(tag.attrib['v']) != 5: \n",
    "                    inconsistent_zip.append(tag.attrib['v'])\n",
    "    osm_file.close()\n",
    "    return inconsistent_zip\n",
    "\n",
    "def check_zip(osmfile): \n",
    "    osm_file = open(osmfile,'r') #open file\n",
    "    zip_sac = [] #list of all zip codes in Sacramento County \n",
    "    for event, elem in ET.iterparse(osm_file,events=('start',)): \n",
    "        \n",
    "        if elem.tag == 'node' or elem.tag == 'way': \n",
    "            for tag in elem.iter('tag'): \n",
    "                if is_post_code(tag): # use the element attrib for 'addr:postcode'\n",
    "                    zip_sac.append(tag.attrib['v']) # append them all\n",
    "    osm_file.close()\n",
    "    return zip_sac\n",
    "\n",
    "def audit_incorrect_zip(osmfile):\n",
    "    incorrect_zip = set() #for unique inconsistent zips we use a set.\n",
    "    for zip_codes in check_zip(osmfile): \n",
    "        m = re.search(r'95', zip_codes, re.M|re.I) #checks for '95' in zip codes\n",
    "        if m: \n",
    "            pass #passing the correct ones \n",
    "        else: \n",
    "            incorrect_zip.add(zip_codes)\n",
    "    return incorrect_zip\n",
    "    \n",
    "def audit_street_type(street_types, street_name):\n",
    "    m = street_type_re.search(street_name)\n",
    "    if m:\n",
    "        street_type = m.group()\n",
    "        if street_type not in expected:\n",
    "            street_types[street_type].add(street_name)\n",
    "            \n",
    "def audit_check_street(osmfile):\n",
    "    osm_file = open(osmfile, \"r\")\n",
    "    street_types = defaultdict(set)\n",
    "    for event, elem in ET.iterparse(osm_file, events=(\"start\",)):\n",
    "\n",
    "        if elem.tag == \"node\" or elem.tag == \"way\":\n",
    "            for tag in elem.iter(\"tag\"):\n",
    "                if is_street_name(tag):\n",
    "                    audit_street_type(street_types, tag.attrib['v'])\n",
    "    osm_file.close()\n",
    "    return street_types\n",
    "# audit_zip inconsistent: \n",
    "# ['95832-1447','CA 95826','CA 95819','CA 95834','CA 95834','2557','95819-6055','95819-6055','95819-6055','CA 95832',\n",
    "# 'CA 95822','95832-1447','CA 95626','95826-2625','95819-6024','95819-6138']\n",
    "\n",
    "\n",
    "#audit_incorrect_zip: \n",
    "#{'2557', '85834', '96816', '98584'}"
   ]
  },
  {
   "cell_type": "code",
   "execution_count": 49,
   "metadata": {
    "collapsed": false
   },
   "outputs": [
    {
     "name": "stdout",
     "output_type": "stream",
     "text": [
      "0 11\n"
     ]
    }
   ],
   "source": [
    "regex = re.compile(r\"(\\w+) World\")\n",
    "result = regex.search(\"Hello World is the easiest\")\n",
    "if result:\n",
    "    # This will print:\n",
    "    #   0 11\n",
    "    # for the start and end of the match\n",
    "    print result.start(), result.end()"
   ]
  },
  {
   "cell_type": "code",
   "execution_count": 88,
   "metadata": {
    "collapsed": false
   },
   "outputs": [
    {
     "name": "stdout",
     "output_type": "stream",
     "text": [
      "hello\n"
     ]
    }
   ],
   "source": [
    "zip_type_re = re.compile(\"r(^\\w*\\s.*\\d$)\")\n",
    "zip_mapping = {'95832-1447' : '95832',\n",
    "               'CA 95826'   : '95826',\n",
    "               'CA 95819'   : '95819',\n",
    "               'CA 95834'   : '95834',\n",
    "               '95819-6055' : '95819',\n",
    "               'CA 95832'   : '95832',\n",
    "               'CA 95822'   : '95822',\n",
    "               '95832-1447' : '95832',\n",
    "               'CA 95626'   : '95626',\n",
    "               '95826-2625' : '95826',\n",
    "               '95819-6024' : '95819',\n",
    "               '95819-6138' : '95819'}\n",
    "\n",
    "z = zip_type_re.search('CA 95826')\n",
    "if z: \n",
    "    if (z.group() in zip_mapping) == True: \n",
    "        name = re.sub(z.group(),zip_mapping[z.group()], 'hello')\n",
    "        print name\n",
    "    else: \n",
    "        print False"
   ]
  },
  {
   "cell_type": "code",
   "execution_count": 111,
   "metadata": {
    "collapsed": false
   },
   "outputs": [],
   "source": [
    "#UPDATE THIS DICT\n",
    "expected = ['95816'] #place holder \n",
    "zip_type_re = re.compile(\"(^\\d*$)\")\n",
    "zip_mapping = {'95832-1447' : '95832',\n",
    "               'CA 95826'   : '95826',\n",
    "               'CA 95819'   : '95819',\n",
    "               'CA 95834'   : '95834',\n",
    "               '95819-6055' : '95819',\n",
    "               'CA 95832'   : '95832',\n",
    "               'CA 95822'   : '95822',\n",
    "               '95832-1447' : '95832',\n",
    "               'CA 95626'   : '95626',\n",
    "               '95826-2625' : '95826',\n",
    "               '95819-6024' : '95819',\n",
    "               '95819-6138' : '95819'}\n",
    "\n",
    "def audit_zip_type(zip_types, zip_name):\n",
    "    m = zip_type_re.search(zip_name)\n",
    "    if m:\n",
    "        zip_type = m.group()\n",
    "        if zip_type not in expected:\n",
    "            zip_types[zip_type].add(zip_name)\n",
    "\n",
    "def audit_inconsistent_zip(osmfile): #collects inconsist zip_codes in a list. \n",
    "    osm_file = open(osmfile, 'r')\n",
    "    zip_types = defaultdict(set)\n",
    "    for event, elem in ET.iterparse(osm_file,events=('start',)): \n",
    "        \n",
    "        if elem.tag == 'node' or elem.tag == 'way': \n",
    "            for tag in elem.iter('tag'): \n",
    "                if is_post_code(tag): \n",
    "                    audit_zip_type(zip_types, tag.attrib['v'])\n",
    "    osm_file.close()\n",
    "    return zip_types\n",
    "\n",
    "\n",
    "def is_post_code(elem): \n",
    "    return (elem.attrib['k'] == 'addr:postcode')\n",
    "\n",
    "def update_zip(name,mapping): \n",
    "    z = zip_type_re.search(name)\n",
    "    if z not in expected:\n",
    "        if z.group() in zip_mapping.keys(): #create a map that takes anything with '95' and replaces it.\n",
    "            name = re.sub(z.group(), zip_mapping[z.group(), name])\n",
    "    return name\n"
   ]
  },
  {
   "cell_type": "code",
   "execution_count": 112,
   "metadata": {
    "collapsed": false
   },
   "outputs": [
    {
     "name": "stdout",
     "output_type": "stream",
     "text": [
      "{'2557': set(['2557']),\n",
      " '85834': set(['85834']),\n",
      " '95605': set(['95605']),\n",
      " '95608': set(['95608']),\n",
      " '95624': set(['95624']),\n",
      " '95652': set(['95652']),\n",
      " '95660': set(['95660']),\n",
      " '95673': set(['95673']),\n",
      " '95691': set(['95691']),\n",
      " '95757': set(['95757']),\n",
      " '95758': set(['95758']),\n",
      " '95811': set(['95811']),\n",
      " '95814': set(['95814']),\n",
      " '95815': set(['95815']),\n",
      " '95817': set(['95817']),\n",
      " '95818': set(['95818']),\n",
      " '95819': set(['95819']),\n",
      " '95820': set(['95820']),\n",
      " '95821': set(['95821']),\n",
      " '95822': set(['95822']),\n",
      " '95823': set(['95823']),\n",
      " '95824': set(['95824']),\n",
      " '95825': set(['95825']),\n",
      " '95826': set(['95826']),\n",
      " '95827': set(['95827']),\n",
      " '95828': set(['95828']),\n",
      " '95829': set(['95829']),\n",
      " '95831': set(['95831']),\n",
      " '95832': set(['95832']),\n",
      " '95833': set(['95833']),\n",
      " '95834': set(['95834']),\n",
      " '95835': set(['95835']),\n",
      " '95838': set(['95838']),\n",
      " '95841': set(['95841']),\n",
      " '95842': set(['95842']),\n",
      " '95864': set(['95864']),\n",
      " '96816': set(['96816']),\n",
      " '98584': set(['98584'])}\n",
      "95838 => 95838\n",
      "95828 => 95828\n",
      "95832 => 95832\n",
      "95833 => 95833\n",
      "95831 => 95831\n",
      "95834 => 95834\n",
      "95835 => 95835\n",
      "95624 => 95624\n",
      "95608 => 95608\n",
      "95660 => 95660\n",
      "96816 => 96816\n",
      "95605 => 95605\n",
      "95842 => 95842\n",
      "95829 => 95829\n",
      "95864 => 95864\n",
      "95841 => 95841\n",
      "95691 => 95691\n",
      "95821 => 95821\n",
      "95820 => 95820\n",
      "95823 => 95823\n",
      "95822 => 95822\n",
      "95825 => 95825\n",
      "95824 => 95824\n",
      "95827 => 95827\n",
      "95826 => 95826\n",
      "95652 => 95652\n",
      "95757 => 95757\n",
      "98584 => 98584\n",
      "2557 => 2557\n",
      "95758 => 95758\n",
      "85834 => 85834\n",
      "95673 => 95673\n",
      "95811 => 95811\n",
      "95814 => 95814\n",
      "95815 => 95815\n",
      "95817 => 95817\n",
      "95818 => 95818\n",
      "95819 => 95819\n"
     ]
    }
   ],
   "source": [
    " "
   ]
  },
  {
   "cell_type": "code",
   "execution_count": 113,
   "metadata": {
    "collapsed": false
   },
   "outputs": [
    {
     "data": {
      "text/plain": [
       "'CA 95819'"
      ]
     },
     "execution_count": 113,
     "metadata": {},
     "output_type": "execute_result"
    }
   ],
   "source": [
    "'CA 95819'"
   ]
  },
  {
   "cell_type": "code",
   "execution_count": 117,
   "metadata": {
    "collapsed": false
   },
   "outputs": [
    {
     "data": {
      "text/plain": [
       "True"
      ]
     },
     "execution_count": 117,
     "metadata": {},
     "output_type": "execute_result"
    }
   ],
   "source": [
    "'CA' in 'CA 95819' "
   ]
  },
  {
   "cell_type": "code",
   "execution_count": 118,
   "metadata": {
    "collapsed": false
   },
   "outputs": [
    {
     "data": {
      "text/plain": [
       "True"
      ]
     },
     "execution_count": 118,
     "metadata": {},
     "output_type": "execute_result"
    }
   ],
   "source": [
    "'-' in '95832-1447'"
   ]
  },
  {
   "cell_type": "code",
   "execution_count": 119,
   "metadata": {
    "collapsed": false
   },
   "outputs": [
    {
     "name": "stdout",
     "output_type": "stream",
     "text": [
      "95819-6024\n",
      "95819-6138\n",
      "CA 95826\n",
      "CA 95834\n",
      "CA 95819\n",
      "CA 95832\n",
      "CA 95822\n",
      "95819-6055\n",
      "95832-1447\n",
      "CA 95626\n",
      "95826-2625\n"
     ]
    }
   ],
   "source": [
    "for i in zip_mapping: \n",
    "    print i"
   ]
  },
  {
   "cell_type": "code",
   "execution_count": 131,
   "metadata": {
    "collapsed": false
   },
   "outputs": [
    {
     "name": "stdout",
     "output_type": "stream",
     "text": [
      "{'value': '95819'}\n",
      "{'value': '95819'}\n",
      "{'value': '95826'}\n",
      "{'value': '95834'}\n",
      "{'value': '95819'}\n",
      "{'value': '95832'}\n",
      "{'value': '95822'}\n",
      "{'value': '95819'}\n",
      "{'value': '95832'}\n",
      "{'value': '95626'}\n",
      "{'value': '95826'}\n"
     ]
    }
   ],
   "source": [
    "node_tags= {}\n",
    "for i in zip_mapping: \n",
    "    if 'CA' in i: \n",
    "        split = i.split(' ')\n",
    "        node_tags['value'] = split[1]\n",
    "    elif '-' in i: \n",
    "        split = i.split('-')\n",
    "        node_tags['value'] = split[0]\n",
    "    print node_tags"
   ]
  },
  {
   "cell_type": "code",
   "execution_count": 161,
   "metadata": {
    "collapsed": false
   },
   "outputs": [],
   "source": [
    "def audit_inconsistent_zip(osmfile):\n",
    "    inconsistent_zip = []\n",
    "    nodes_tags = {}\n",
    "    osm_file = open(osmfile, 'r')\n",
    "    for event, elem in ET.iterparse(osm_file,events=('start',)): \n",
    "        \n",
    "        if elem.tag == 'node' or elem.tag == 'way': \n",
    "            for tag in elem.iter('tag'): \n",
    "                if is_post_code(tag):\n",
    "                    if 'CA' in tag.attrib['v']: \n",
    "                        split = tag.attrib['v'].split(' ')\n",
    "                        nodes_tags['value'] = split[1]\n",
    "    osm_file.close()\n",
    "    return nodes_tags"
   ]
  },
  {
   "cell_type": "code",
   "execution_count": 162,
   "metadata": {
    "collapsed": false
   },
   "outputs": [
    {
     "name": "stdout",
     "output_type": "stream",
     "text": [
      "value\n"
     ]
    }
   ],
   "source": [
    "for i in audit_inconsistent_zip('sacramento.osm'):\n",
    "    print i"
   ]
  },
  {
   "cell_type": "code",
   "execution_count": null,
   "metadata": {
    "collapsed": true
   },
   "outputs": [],
   "source": []
  }
 ],
 "metadata": {
  "kernelspec": {
   "display_name": "Python 2",
   "language": "python",
   "name": "python2"
  },
  "language_info": {
   "codemirror_mode": {
    "name": "ipython",
    "version": 2
   },
   "file_extension": ".py",
   "mimetype": "text/x-python",
   "name": "python",
   "nbconvert_exporter": "python",
   "pygments_lexer": "ipython2",
   "version": "2.7.11"
  }
 },
 "nbformat": 4,
 "nbformat_minor": 0
}
