{
 "cells": [
  {
   "cell_type": "markdown",
   "metadata": {},
   "source": [
    "# OpenStreetMap Case Study \n",
    ":tada: :tada: :tada: :tada: :tada: :tada: :tada: :tada: :tada: :tada: :tada: :tada: :tada: :tada: \n",
    "\n",
    "### Map Area \n",
    "\n",
    "Sacramento, CA, United States \n",
    "* https://www.openstreetmap.org/way/33135846\n",
    "* https://mapzen.com/data/metro-extracts/\n",
    "\n",
    "Sacramento is where I spend most of my time, so I'm very interested to see what queries I may find regarding my city. \n",
    "\n",
    "\n",
    "## Problems Encountered in the Map \n",
    "\n",
    "Finding problems within the data and correcting them seemed like a streneous task. I created a sample ``.osm`` file and was able to find certain problems contained within the data that I could correct. However, I went ahead and skipped certain areas that needed correcting. \n",
    "\n",
    "* Overabbreviated street names (\"_2108 Riverside Blvd._\") \n",
    "* Inconsistent postal codes (\"_95819-6055_\",\"_CA 95834_\")\n",
    "* Incorrect postal codes \"_85834_\". Some of these were outside the county region like \"_Charmichale,CA_\". \n",
    "* \"_Zip Left_\" and \"_Zip Right_\" postal codes that wee included into the ``'k'`` tags for the ``Tiger`` GPS data. This data was devided into segmants "
   ]
  },
  {
   "cell_type": "code",
   "execution_count": null,
   "metadata": {
    "collapsed": true
   },
   "outputs": [],
   "source": []
  }
 ],
 "metadata": {
  "kernelspec": {
   "display_name": "Python 2",
   "language": "python",
   "name": "python2"
  },
  "language_info": {
   "codemirror_mode": {
    "name": "ipython",
    "version": 2
   },
   "file_extension": ".py",
   "mimetype": "text/x-python",
   "name": "python",
   "nbconvert_exporter": "python",
   "pygments_lexer": "ipython2",
   "version": "2.7.11"
  }
 },
 "nbformat": 4,
 "nbformat_minor": 0
}
