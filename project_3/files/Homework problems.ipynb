{
 "cells": [
  {
   "cell_type": "markdown",
   "metadata": {
    "collapsed": false,
    "scrolled": true
   },
   "source": [
    "## Homework problems for DataWrangling"
   ]
  },
  {
   "cell_type": "code",
   "execution_count": 1,
   "metadata": {
    "collapsed": false
   },
   "outputs": [],
   "source": [
    "#This is how you manually parse a cvs file in a dictionary.\n",
    "# Your task is to read the input DATAFILE line by line, and for the first 10 lines (not including the header)\n",
    "# split each line on \",\" and then for each line, create a dictionary\n",
    "# where the key is the header title of the field, and the value is the value of that field in the row.\n",
    "# The function parse_file should return a list of dictionaries,\n",
    "# each data line in the file being a single list entry.\n",
    "# Field names and values should not contain extra whitespace, like spaces or newline characters.\n",
    "# You can use the Python string method strip() to remove the extra whitespace.\n",
    "# You have to parse only the first 10 data lines in this exercise,\n",
    "# so the returned list should have 10 entries!\n",
    "\n",
    "def parse_file(datafile): \n",
    "    data = []\n",
    "    with open(datafile,'rb') as f: \n",
    "        header = f.readline().split(',')\n",
    "        counter = 0\n",
    "        for line in f: \n",
    "            if counter == 10: \n",
    "                break \n",
    "            d = {}\n",
    "            fields = line.split(',') \n",
    "            for i,value in enumerate(fields): \n",
    "                d[header[i].strip()] = value.strip()\n",
    "            data.append(d)\n",
    "            counter += 1\n",
    "    return data\n",
    "\n",
    "#Parse File w/o csv module\n",
    "# parse_file('beatles-diskography.csv')"
   ]
  },
  {
   "cell_type": "code",
   "execution_count": 127,
   "metadata": {
    "collapsed": false
   },
   "outputs": [
    {
     "data": {
      "text/plain": [
       "[{'BPI Certification': 'Gold',\n",
       "  'Label': 'Parlophone(UK)',\n",
       "  'RIAA Certification': 'Platinum',\n",
       "  'Released': '22 March 1963',\n",
       "  'Title': 'Please Please Me',\n",
       "  'UK Chart Position': '1',\n",
       "  'US Chart Position': '\\xe2\\x80\\x94'},\n",
       " {'BPI Certification': 'Platinum',\n",
       "  'Label': 'Parlophone(UK)',\n",
       "  'RIAA Certification': 'Gold',\n",
       "  'Released': '22 November 1963',\n",
       "  'Title': 'With the Beatles',\n",
       "  'UK Chart Position': '1',\n",
       "  'US Chart Position': '\\xe2\\x80\\x94'},\n",
       " {'BPI Certification': '',\n",
       "  'Label': 'Capitol(CAN)',\n",
       "  'RIAA Certification': '',\n",
       "  'Released': '25 November 1963',\n",
       "  'Title': 'Beatlemania! With the Beatles',\n",
       "  'UK Chart Position': '\\xe2\\x80\\x94',\n",
       "  'US Chart Position': '\\xe2\\x80\\x94'},\n",
       " {'BPI Certification': '',\n",
       "  'Label': 'Vee-Jay(US)',\n",
       "  'RIAA Certification': '',\n",
       "  'Released': '10 January 1964',\n",
       "  'Title': 'Introducing... The Beatles',\n",
       "  'UK Chart Position': '\\xe2\\x80\\x94',\n",
       "  'US Chart Position': '2'},\n",
       " {'BPI Certification': '',\n",
       "  'Label': 'Capitol(US)',\n",
       "  'RIAA Certification': '5xPlatinum',\n",
       "  'Released': '20 January 1964',\n",
       "  'Title': 'Meet the Beatles!',\n",
       "  'UK Chart Position': '\\xe2\\x80\\x94',\n",
       "  'US Chart Position': '1'},\n",
       " {'BPI Certification': '',\n",
       "  'Label': 'Capitol(CAN)',\n",
       "  'RIAA Certification': '',\n",
       "  'Released': '3 February 1964',\n",
       "  'Title': 'Twist and Shout',\n",
       "  'UK Chart Position': '\\xe2\\x80\\x94',\n",
       "  'US Chart Position': '\\xe2\\x80\\x94'},\n",
       " {'BPI Certification': '',\n",
       "  'Label': 'Capitol(US)',\n",
       "  'RIAA Certification': '2xPlatinum',\n",
       "  'Released': '10 April 1964',\n",
       "  'Title': \"The Beatles' Second Album\",\n",
       "  'UK Chart Position': '\\xe2\\x80\\x94',\n",
       "  'US Chart Position': '1'},\n",
       " {'BPI Certification': '',\n",
       "  'Label': 'Capitol(CAN)',\n",
       "  'RIAA Certification': '',\n",
       "  'Released': '11 May 1964',\n",
       "  'Title': \"The Beatles' Long Tall Sally\",\n",
       "  'UK Chart Position': '\\xe2\\x80\\x94',\n",
       "  'US Chart Position': '\\xe2\\x80\\x94'},\n",
       " {'BPI Certification': '',\n",
       "  'Label': 'United Artists(US)[C]',\n",
       "  'RIAA Certification': '4xPlatinum',\n",
       "  'Released': '26 June 1964',\n",
       "  'Title': \"A Hard Day's Night\",\n",
       "  'UK Chart Position': '\\xe2\\x80\\x94',\n",
       "  'US Chart Position': '1'},\n",
       " {'BPI Certification': 'Gold',\n",
       "  'Label': 'Parlophone(UK)',\n",
       "  'RIAA Certification': '',\n",
       "  'Released': '10 July 1964',\n",
       "  'Title': '',\n",
       "  'UK Chart Position': '1',\n",
       "  'US Chart Position': '\\xe2\\x80\\x94'},\n",
       " {'BPI Certification': '',\n",
       "  'Label': 'Capitol(US)',\n",
       "  'RIAA Certification': 'Platinum',\n",
       "  'Released': '20 July 1964',\n",
       "  'Title': 'Something New',\n",
       "  'UK Chart Position': '\\xe2\\x80\\x94',\n",
       "  'US Chart Position': '2'},\n",
       " {'BPI Certification': 'Gold',\n",
       "  'Label': 'Parlophone(UK)',\n",
       "  'RIAA Certification': 'Platinum',\n",
       "  'Released': '4 December 1964',\n",
       "  'Title': 'Beatles for Sale',\n",
       "  'UK Chart Position': '1',\n",
       "  'US Chart Position': '\\xe2\\x80\\x94'},\n",
       " {'BPI Certification': '',\n",
       "  'Label': 'Capitol(US)',\n",
       "  'RIAA Certification': '3xPlatinum',\n",
       "  'Released': '15 December 1964',\n",
       "  'Title': \"Beatles '65\",\n",
       "  'UK Chart Position': '\\xe2\\x80\\x94',\n",
       "  'US Chart Position': '1'},\n",
       " {'BPI Certification': '',\n",
       "  'Label': 'Parlophone(NZ), Capitol(US)',\n",
       "  'RIAA Certification': 'Platinum',\n",
       "  'Released': '14 June 1965',\n",
       "  'Title': 'Beatles VI',\n",
       "  'UK Chart Position': '\\xe2\\x80\\x94',\n",
       "  'US Chart Position': '1'},\n",
       " {'BPI Certification': 'Platinum',\n",
       "  'Label': 'Parlophone(UK)',\n",
       "  'RIAA Certification': '',\n",
       "  'Released': '6 August 1965',\n",
       "  'Title': 'Help!',\n",
       "  'UK Chart Position': '1',\n",
       "  'US Chart Position': '\\xe2\\x80\\x94'},\n",
       " {'BPI Certification': '',\n",
       "  'Label': 'Capitol(US)[C]',\n",
       "  'RIAA Certification': '3xPlatinum',\n",
       "  'Released': '13 August 1965',\n",
       "  'Title': '',\n",
       "  'UK Chart Position': '\\xe2\\x80\\x94',\n",
       "  'US Chart Position': '1'},\n",
       " {'BPI Certification': 'Platinum',\n",
       "  'Label': 'Parlophone(UK)',\n",
       "  'RIAA Certification': '',\n",
       "  'Released': '3 December 1965',\n",
       "  'Title': 'Rubber Soul',\n",
       "  'UK Chart Position': '1',\n",
       "  'US Chart Position': '\\xe2\\x80\\x94'},\n",
       " {'BPI Certification': '',\n",
       "  'Label': 'Capitol(US)[C]',\n",
       "  'RIAA Certification': '6xPlatinum',\n",
       "  'Released': '6 December 1965',\n",
       "  'Title': '',\n",
       "  'UK Chart Position': '\\xe2\\x80\\x94',\n",
       "  'US Chart Position': '1'},\n",
       " {'BPI Certification': '',\n",
       "  'Label': 'Capitol(US)',\n",
       "  'RIAA Certification': '2xPlatinum',\n",
       "  'Released': '15 June 1966',\n",
       "  'Title': 'Yesterday and Today',\n",
       "  'UK Chart Position': '\\xe2\\x80\\x94',\n",
       "  'US Chart Position': '1'},\n",
       " {'BPI Certification': 'Platinum',\n",
       "  'Label': 'Parlophone(UK)',\n",
       "  'RIAA Certification': '',\n",
       "  'Released': '5 August 1966',\n",
       "  'Title': 'Revolver',\n",
       "  'UK Chart Position': '1',\n",
       "  'US Chart Position': '\\xe2\\x80\\x94'},\n",
       " {'BPI Certification': '',\n",
       "  'Label': 'Capitol(US)[C]',\n",
       "  'RIAA Certification': '5xPlatinum',\n",
       "  'Released': '8 August 1966',\n",
       "  'Title': '',\n",
       "  'UK Chart Position': '\\xe2\\x80\\x94',\n",
       "  'US Chart Position': '1'},\n",
       " {'BPI Certification': '3xPlatinum',\n",
       "  'Label': 'Parlophone(UK), Capitol(US)',\n",
       "  'RIAA Certification': '11xPlatinum',\n",
       "  'Released': '1 June 1967',\n",
       "  'Title': \"Sgt. Pepper's Lonely Hearts Club Band\",\n",
       "  'UK Chart Position': '1',\n",
       "  'US Chart Position': '1'},\n",
       " {'BPI Certification': 'Platinum',\n",
       "  'Label': 'Parlophone(UK), Capitol(US)',\n",
       "  'RIAA Certification': '6xPlatinum',\n",
       "  'Released': '27 November 1967',\n",
       "  'Title': 'Magical Mystery Tour',\n",
       "  'UK Chart Position': '31[D]',\n",
       "  'US Chart Position': '1'},\n",
       " {'BPI Certification': 'Platinum',\n",
       "  'Label': 'Apple(UK), Capitol(US)',\n",
       "  'RIAA Certification': '19xPlatinum',\n",
       "  'Released': '22 November 1968',\n",
       "  'Title': 'The Beatles',\n",
       "  'UK Chart Position': '1',\n",
       "  'US Chart Position': '1'},\n",
       " {'BPI Certification': 'Silver',\n",
       "  'Label': 'Apple(UK), Capitol(US)',\n",
       "  'RIAA Certification': 'Platinum',\n",
       "  'Released': '13 January 1969',\n",
       "  'Title': 'Yellow Submarine',\n",
       "  'UK Chart Position': '3',\n",
       "  'US Chart Position': '2'},\n",
       " {'BPI Certification': '2xPlatinum',\n",
       "  'Label': 'Apple(UK), Capitol(US)',\n",
       "  'RIAA Certification': '12xPlatinum',\n",
       "  'Released': '26 September 1969',\n",
       "  'Title': 'Abbey Road',\n",
       "  'UK Chart Position': '1',\n",
       "  'US Chart Position': '1'},\n",
       " {'BPI Certification': 'Gold',\n",
       "  'Label': 'Apple(UK),United Artists(US)',\n",
       "  'RIAA Certification': '4xPlatinum',\n",
       "  'Released': '8 May 1970',\n",
       "  'Title': 'Let It Be',\n",
       "  'UK Chart Position': '1',\n",
       "  'US Chart Position': '1'}]"
      ]
     },
     "execution_count": 127,
     "metadata": {},
     "output_type": "execute_result"
    }
   ],
   "source": [
    "# Now parse the data using DictReader csv module\n",
    "import csv\n",
    "def parse_csv_dr(datafile): \n",
    "    data = []\n",
    "    n = 0 \n",
    "    with open(datafile,'rb') as sd: \n",
    "        r = csv.DictReader(sd)\n",
    "        for line in r: \n",
    "            data.append(line)\n",
    "    return data\n",
    "\n",
    "parse_csv_dr('beatles-diskography.csv')"
   ]
  },
  {
   "cell_type": "code",
   "execution_count": 3,
   "metadata": {
    "collapsed": false
   },
   "outputs": [],
   "source": [
    "# Intro to the module XLRD for Excel files. \n",
    "import xlrd \n",
    "\n",
    "#import the file\n",
    "datafile = '2013_ERCOT_Hourly_Load_Data.xls'"
   ]
  },
  {
   "cell_type": "code",
   "execution_count": 6,
   "metadata": {
    "collapsed": false
   },
   "outputs": [
    {
     "name": "stdout",
     "output_type": "stream",
     "text": [
      "\n",
      "List Comprehension\n",
      "data[3][2]: 1036.2167394\n",
      "\n",
      "Cells in a nested loop:\n",
      "41277.0833333 9240.30996952 1438.44928594 1565.62980305 894.858053634 14013.232226 3028.50276713 6165.28163968 1157.91411201 37504.177857 \n",
      "ROWS, COLUMNS and CELLS:\n",
      "Number of rows in the sheet: 8761\n",
      "Type of data in cell (row 3, col 2): 2\n",
      "Value in cell (row 3, col 2): 1036.2167394\n",
      "Get a slice of values in column 3, from rows 1-3:\n",
      "[1411.823158897756, 1403.6010926983663, 1395.1312126407752]\n",
      "\n",
      "DATES:\n",
      "Tytpe of data in cell (row 1, col 0): 3\n",
      "Time in Excel format: 41275.0416667\n",
      "Convert time to a Python datetime tuple, from the Excel float: (2013, 1, 1, 1, 0, 0)\n"
     ]
    }
   ],
   "source": [
    "# create a parse_file function \n",
    "def parse_file(datafile): \n",
    "    workbook = xlrd.open_workbook(datafile) # open the excel file \n",
    "    sheet = workbook.sheet_by_index(0) # indicate what sheet we use \n",
    "    \n",
    "    data = [[sheet.cell_value(r,col)\n",
    "                for col in range(sheet.ncols)]\n",
    "                   for r in range(sheet.nrows)] # iterating through the sheet into a list \n",
    "    \n",
    "    print \"\\nList Comprehension\"\n",
    "    print \"data[3][2]:\", \n",
    "    print data[3][2]\n",
    "    \n",
    "    print \"\\nCells in a nested loop:\"\n",
    "    for row in range(sheet.nrows): \n",
    "        for col in range(sheet.ncols): \n",
    "            if row == 50: \n",
    "                print sheet.cell_value(row, col), \n",
    "                \n",
    "             \n",
    "    ### other useful methods: \n",
    "    print \"\\nROWS, COLUMNS and CELLS:\"\n",
    "    print \"Number of rows in the sheet:\",\n",
    "    print sheet.nrows\n",
    "    print \"Type of data in cell (row 3, col 2):\", \n",
    "    print sheet.cell_type(3,2)\n",
    "    print \"Value in cell (row 3, col 2):\", \n",
    "    print sheet.cell_value(3,2)\n",
    "    print \"Get a slice of values in column 3, from rows 1-3:\"\n",
    "    print sheet.col_values(3,start_rowx=1,end_rowx=4)\n",
    "    \n",
    "    print \"\\nDATES:\"\n",
    "    print \"Tytpe of data in cell (row 1, col 0):\", \n",
    "    print sheet.cell_type(1,0)\n",
    "    exceltime = sheet.cell_value(1,0)\n",
    "    print \"Time in Excel format:\", \n",
    "    print exceltime\n",
    "    print \"Convert time to a Python datetime tuple, from the Excel float:\",\n",
    "    print xlrd.xldate_as_tuple(exceltime, 0)\n",
    "    \n",
    "    return data\n",
    "\n",
    "data = parse_file(datafile)\n"
   ]
  },
  {
   "cell_type": "code",
   "execution_count": 126,
   "metadata": {
    "collapsed": false
   },
   "outputs": [
    {
     "name": "stdout",
     "output_type": "stream",
     "text": [
      "requesting http://musicbrainz.org/ws/2/artist/?query=artist%3ANirvana&fmt=json\n",
      "{\n",
      "    \"id\": \"8a754a16-0027-3a29-b6d7-2b40ea0481ed\", \n",
      "    \"name\": \"United Kingdom\", \n",
      "    \"sort-name\": \"United Kingdom\"\n",
      "}\n"
     ]
    }
   ],
   "source": [
    "# To experiment with this code freely you will have to run this code locally.\n",
    "# Take a look at the main() function for an example of how to use the code.\n",
    "# We have provided example json output in the other code editor tabs for you to\n",
    "# look at, but you will not be able to run any queries through our UI.\n",
    "import json\n",
    "import requests\n",
    "\n",
    "\n",
    "BASE_URL = \"http://musicbrainz.org/ws/2/\"\n",
    "ARTIST_URL = BASE_URL + \"artist/\"\n",
    "\n",
    "# query parameters are given to the requests.get function as a dictionary; this\n",
    "# variable contains some starter parameters.\n",
    "query_type = {  \"simple\": {},\n",
    "                \"atr\": {\"inc\": \"aliases+tags+ratings\"},\n",
    "                \"aliases\": {\"inc\": \"aliases\"},\n",
    "                \"releases\": {\"inc\": \"releases\"}}\n",
    "\n",
    "\n",
    "def query_site(url, params, uid=\"\", fmt=\"json\"):\n",
    "    # This is the main function for making queries to the musicbrainz API.\n",
    "    # A json document should be returned by the query.\n",
    "    params[\"fmt\"] = fmt\n",
    "    r = requests.get(url + uid, params=params)\n",
    "    print \"requesting\", r.url\n",
    "\n",
    "    if r.status_code == requests.codes.ok:\n",
    "        return r.json()\n",
    "    else:\n",
    "        r.raise_for_status()\n",
    "\n",
    "\n",
    "def query_by_name(url, params, name):\n",
    "    # This adds an artist name to the query parameters before making\n",
    "    # an API call to the function above.\n",
    "    params[\"query\"] = \"artist:\" + name\n",
    "    return query_site(url, params)\n",
    "\n",
    "\n",
    "def pretty_print(data, indent=4):\n",
    "    # After we get our output, we can format it to be more readable\n",
    "    # by using this function.\n",
    "    if type(data) == dict:\n",
    "        print json.dumps(data, indent=indent, sort_keys=True)\n",
    "    else:\n",
    "        print data\n",
    "\n",
    "\n",
    "def main():\n",
    "    '''\n",
    "    Modify the function calls and indexing below to answer the questions on\n",
    "    the next quiz. HINT: Note how the output we get from the site is a\n",
    "    multi-level JSON document, so try making print statements to step through\n",
    "    the structure one level at a time or copy the output to a separate output\n",
    "    file.\n",
    "    '''\n",
    "    results = query_by_name(ARTIST_URL, query_type[\"simple\"], \"Nirvana\")\n",
    "    pretty_print(results['artists'][0]['area'])\n",
    "\n",
    "#     artist_id = results[\"artists\"][0]['id']\n",
    "#     print \"\\nARTIST:\"\n",
    "#     pretty_print(results[\"artists\"][0])\n",
    "\n",
    "#     artist_data = query_site(ARTIST_URL, query_type[\"releases\"], artist_id)\n",
    "#     pretty_print(artist_data) \n",
    "#     releases = artist_data[\"releases\"]\n",
    "#     print \"\\nONE RELEASE:\"\n",
    "#     pretty_print(releases[0], indent=2)\n",
    "#     release_titles = [r[\"title\"] for r in releases]\n",
    "\n",
    "#     print \"\\nALL TITLES:\"\n",
    "#     for t in release_titles:\n",
    "#         print t\n",
    "\n",
    "\n",
    "if __name__ == '__main__':\n",
    "    main()\n"
   ]
  },
  {
   "cell_type": "code",
   "execution_count": null,
   "metadata": {
    "collapsed": false
   },
   "outputs": [],
   "source": []
  },
  {
   "cell_type": "code",
   "execution_count": null,
   "metadata": {
    "collapsed": false
   },
   "outputs": [],
   "source": []
  },
  {
   "cell_type": "code",
   "execution_count": null,
   "metadata": {
    "collapsed": false
   },
   "outputs": [],
   "source": []
  },
  {
   "cell_type": "code",
   "execution_count": null,
   "metadata": {
    "collapsed": false
   },
   "outputs": [],
   "source": []
  },
  {
   "cell_type": "code",
   "execution_count": null,
   "metadata": {
    "collapsed": false
   },
   "outputs": [],
   "source": []
  },
  {
   "cell_type": "code",
   "execution_count": null,
   "metadata": {
    "collapsed": false
   },
   "outputs": [],
   "source": []
  },
  {
   "cell_type": "code",
   "execution_count": null,
   "metadata": {
    "collapsed": false
   },
   "outputs": [],
   "source": []
  },
  {
   "cell_type": "code",
   "execution_count": null,
   "metadata": {
    "collapsed": false
   },
   "outputs": [],
   "source": []
  },
  {
   "cell_type": "code",
   "execution_count": null,
   "metadata": {
    "collapsed": false
   },
   "outputs": [],
   "source": []
  },
  {
   "cell_type": "code",
   "execution_count": null,
   "metadata": {
    "collapsed": false
   },
   "outputs": [],
   "source": []
  },
  {
   "cell_type": "code",
   "execution_count": null,
   "metadata": {
    "collapsed": false
   },
   "outputs": [],
   "source": []
  },
  {
   "cell_type": "code",
   "execution_count": null,
   "metadata": {
    "collapsed": false
   },
   "outputs": [],
   "source": []
  },
  {
   "cell_type": "code",
   "execution_count": null,
   "metadata": {
    "collapsed": false
   },
   "outputs": [],
   "source": []
  },
  {
   "cell_type": "code",
   "execution_count": null,
   "metadata": {
    "collapsed": false
   },
   "outputs": [],
   "source": []
  },
  {
   "cell_type": "code",
   "execution_count": null,
   "metadata": {
    "collapsed": true
   },
   "outputs": [],
   "source": []
  }
 ],
 "metadata": {
  "kernelspec": {
   "display_name": "Python 2",
   "language": "python",
   "name": "python2"
  },
  "language_info": {
   "codemirror_mode": {
    "name": "ipython",
    "version": 2
   },
   "file_extension": ".py",
   "mimetype": "text/x-python",
   "name": "python",
   "nbconvert_exporter": "python",
   "pygments_lexer": "ipython2",
   "version": "2.7.11"
  }
 },
 "nbformat": 4,
 "nbformat_minor": 0
}
